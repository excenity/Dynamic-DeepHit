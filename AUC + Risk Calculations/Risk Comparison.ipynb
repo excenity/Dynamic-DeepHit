{
 "cells": [
  {
   "cell_type": "markdown",
   "id": "fd5631ea-9bd7-4ade-8b90-c062fdde409e",
   "metadata": {},
   "source": [
    "# Risk Comparsion"
   ]
  },
  {
   "cell_type": "markdown",
   "id": "c9b24cc5-8ff5-4b45-aa3f-4c039856db2e",
   "metadata": {},
   "source": [
    "1. Get rankings of risk prediction scores from PCE and DDH\n",
    "2. Look at their relative positions \n",
    "3. See how many of them are reclassified. "
   ]
  },
  {
   "cell_type": "markdown",
   "id": "aa24cb60-8d35-443e-9afa-372c7478be7d",
   "metadata": {},
   "source": [
    "## Project PCE thresholds DDH Risks"
   ]
  },
  {
   "cell_type": "code",
   "execution_count": 69,
   "id": "9152e61d-b0e9-4a6c-b9c8-65be8318c155",
   "metadata": {},
   "outputs": [],
   "source": [
    "import pandas as pd"
   ]
  },
  {
   "cell_type": "code",
   "execution_count": 70,
   "id": "44655a3c-1f3b-44fc-a1e7-7633d1e8e920",
   "metadata": {},
   "outputs": [],
   "source": [
    "ddh_risk_df = pd.read_csv('/Users/excenity/Documents/HSIP/Research/Longitudinal PCE/GitHub/Dynamic-DeepHit LRPP/DDH_pred_df.csv')"
   ]
  },
  {
   "cell_type": "code",
   "execution_count": 71,
   "id": "28f6da3e-f22d-439a-8432-d38cd05ce459",
   "metadata": {},
   "outputs": [],
   "source": [
    "ddh_risk_df['risk_category'] = 'low'\n",
    "ddh_risk_df.loc[(ddh_risk_df['value'] >= 0.05) & (ddh_risk_df['value'] < 0.075), 'risk_category'] = 'borderline'\n",
    "ddh_risk_df.loc[(ddh_risk_df['value'] >= 0.075) & (ddh_risk_df['value'] < 0.2), 'risk_category'] = 'intermediate'\n",
    "ddh_risk_df.loc[(ddh_risk_df['value'] >= 0.20), 'risk_category'] = 'high'"
   ]
  },
  {
   "cell_type": "code",
   "execution_count": 72,
   "id": "66005677-6ac9-4ee1-a45d-4244d2ab6ae2",
   "metadata": {},
   "outputs": [
    {
     "data": {
      "text/plain": [
       "intermediate    0.60480\n",
       "borderline      0.26432\n",
       "low             0.13088\n",
       "Name: risk_category, dtype: float64"
      ]
     },
     "execution_count": 72,
     "metadata": {},
     "output_type": "execute_result"
    }
   ],
   "source": [
    "ddh_risk_df.risk_category.value_counts()/len(ddh_risk_df)"
   ]
  },
  {
   "cell_type": "code",
   "execution_count": 73,
   "id": "46b0a128-ac8e-4f38-9c1e-9b763f221df5",
   "metadata": {},
   "outputs": [
    {
     "data": {
      "text/plain": [
       "<AxesSubplot:>"
      ]
     },
     "execution_count": 73,
     "metadata": {},
     "output_type": "execute_result"
    },
    {
     "data": {
      "image/png": "[encoded data removed]",
      "text/plain": [
       "<Figure size 432x288 with 1 Axes>"
      ]
     },
     "metadata": {
      "needs_background": "light"
     },
     "output_type": "display_data"
    }
   ],
   "source": [
    "ddh_risk_df.value.hist()"
   ]
  },
  {
   "cell_type": "code",
   "execution_count": 74,
   "id": "d0323127-906f-456f-aa2d-4b12f1707fde",
   "metadata": {},
   "outputs": [
    {
     "data": {
      "text/plain": [
       "3125"
      ]
     },
     "execution_count": 74,
     "metadata": {},
     "output_type": "execute_result"
    }
   ],
   "source": [
    "len(ddh_risk_df)"
   ]
  },
  {
   "cell_type": "markdown",
   "id": "a0ae09ce-14bc-4763-990a-1629192e502a",
   "metadata": {},
   "source": [
    "## Ranking Comparison"
   ]
  },
  {
   "cell_type": "code",
   "execution_count": 75,
   "id": "3ee2a047-c75a-47b5-89ca-e5f4953ca93a",
   "metadata": {},
   "outputs": [],
   "source": [
    "pce_pred_df = pd.read_csv('/Users/excenity/Documents/HSIP/Research/Longitudinal PCE/GitHub/Dynamic-DeepHit LRPP/AUC + Risk Calculations/pce_pred_df.csv')"
   ]
  },
  {
   "cell_type": "code",
   "execution_count": 76,
   "id": "99f6bd14-d995-4458-a79e-64e71c59702a",
   "metadata": {},
   "outputs": [
    {
     "data": {
      "text/html": [
       "<div>\n",
       "<style scoped>\n",
       "    .dataframe tbody tr th:only-of-type {\n",
       "        vertical-align: middle;\n",
       "    }\n",
       "\n",
       "    .dataframe tbody tr th {\n",
       "        vertical-align: top;\n",
       "    }\n",
       "\n",
       "    .dataframe thead th {\n",
       "        text-align: right;\n",
       "    }\n",
       "</style>\n",
       "<table border=\"1\" class=\"dataframe\">\n",
       "  <thead>\n",
       "    <tr style=\"text-align: right;\">\n",
       "      <th></th>\n",
       "      <th>ln_age</th>\n",
       "      <th>ln_age_sq</th>\n",
       "      <th>ln_tot_chol</th>\n",
       "      <th>ln_ageXln_tot_chol</th>\n",
       "      <th>ln_HDL</th>\n",
       "      <th>ln_ageXln_HDL</th>\n",
       "      <th>ln_SBP</th>\n",
       "      <th>ln_ageXSBP</th>\n",
       "      <th>ln_unSBP</th>\n",
       "      <th>ln_ageXunSBP</th>\n",
       "      <th>smoker</th>\n",
       "      <th>ln_ageXsmoker</th>\n",
       "      <th>dm</th>\n",
       "      <th>sum</th>\n",
       "      <th>category</th>\n",
       "      <th>mean</th>\n",
       "      <th>surv</th>\n",
       "      <th>risk</th>\n",
       "      <th>true_label</th>\n",
       "      <th>risk_cat</th>\n",
       "    </tr>\n",
       "  </thead>\n",
       "  <tbody>\n",
       "    <tr>\n",
       "      <th>0</th>\n",
       "      <td>-118.310729</td>\n",
       "      <td>76.987556</td>\n",
       "      <td>72.007345</td>\n",
       "      <td>-65.750518</td>\n",
       "      <td>-60.638100</td>\n",
       "      <td>55.834790</td>\n",
       "      <td>0.000000</td>\n",
       "      <td>0.0</td>\n",
       "      <td>9.449010</td>\n",
       "      <td>0.0</td>\n",
       "      <td>0.000</td>\n",
       "      <td>-0.000000</td>\n",
       "      <td>0.000</td>\n",
       "      <td>-30.420647</td>\n",
       "      <td>WF</td>\n",
       "      <td>-29.18</td>\n",
       "      <td>0.9665</td>\n",
       "      <td>0.010</td>\n",
       "      <td>0</td>\n",
       "      <td>Low Risk</td>\n",
       "    </tr>\n",
       "    <tr>\n",
       "      <th>1</th>\n",
       "      <td>-120.997141</td>\n",
       "      <td>80.523472</td>\n",
       "      <td>70.829211</td>\n",
       "      <td>-66.143286</td>\n",
       "      <td>-54.656225</td>\n",
       "      <td>51.469495</td>\n",
       "      <td>0.000000</td>\n",
       "      <td>0.0</td>\n",
       "      <td>8.972781</td>\n",
       "      <td>0.0</td>\n",
       "      <td>7.574</td>\n",
       "      <td>-6.760638</td>\n",
       "      <td>0.000</td>\n",
       "      <td>-29.188330</td>\n",
       "      <td>WF</td>\n",
       "      <td>-29.18</td>\n",
       "      <td>0.9665</td>\n",
       "      <td>0.033</td>\n",
       "      <td>0</td>\n",
       "      <td>Low Risk</td>\n",
       "    </tr>\n",
       "    <tr>\n",
       "      <th>2</th>\n",
       "      <td>-120.997141</td>\n",
       "      <td>80.523472</td>\n",
       "      <td>71.739217</td>\n",
       "      <td>-66.993088</td>\n",
       "      <td>-49.743840</td>\n",
       "      <td>46.843527</td>\n",
       "      <td>0.000000</td>\n",
       "      <td>0.0</td>\n",
       "      <td>9.126350</td>\n",
       "      <td>0.0</td>\n",
       "      <td>0.000</td>\n",
       "      <td>-0.000000</td>\n",
       "      <td>0.000</td>\n",
       "      <td>-29.501503</td>\n",
       "      <td>WF</td>\n",
       "      <td>-29.18</td>\n",
       "      <td>0.9665</td>\n",
       "      <td>0.024</td>\n",
       "      <td>0</td>\n",
       "      <td>Low Risk</td>\n",
       "    </tr>\n",
       "    <tr>\n",
       "      <th>3</th>\n",
       "      <td>-118.867736</td>\n",
       "      <td>77.714177</td>\n",
       "      <td>71.256825</td>\n",
       "      <td>-65.371539</td>\n",
       "      <td>-60.322319</td>\n",
       "      <td>55.805523</td>\n",
       "      <td>0.000000</td>\n",
       "      <td>0.0</td>\n",
       "      <td>9.126350</td>\n",
       "      <td>0.0</td>\n",
       "      <td>0.000</td>\n",
       "      <td>-0.000000</td>\n",
       "      <td>0.000</td>\n",
       "      <td>-30.658718</td>\n",
       "      <td>WF</td>\n",
       "      <td>-29.18</td>\n",
       "      <td>0.9665</td>\n",
       "      <td>0.008</td>\n",
       "      <td>0</td>\n",
       "      <td>Low Risk</td>\n",
       "    </tr>\n",
       "    <tr>\n",
       "      <th>4</th>\n",
       "      <td>9.848802</td>\n",
       "      <td>0.000000</td>\n",
       "      <td>1.617689</td>\n",
       "      <td>0.000000</td>\n",
       "      <td>-1.091492</td>\n",
       "      <td>0.000000</td>\n",
       "      <td>9.040644</td>\n",
       "      <td>0.0</td>\n",
       "      <td>0.000000</td>\n",
       "      <td>0.0</td>\n",
       "      <td>0.000</td>\n",
       "      <td>0.000000</td>\n",
       "      <td>0.645</td>\n",
       "      <td>20.060643</td>\n",
       "      <td>BM</td>\n",
       "      <td>19.54</td>\n",
       "      <td>0.8954</td>\n",
       "      <td>0.170</td>\n",
       "      <td>1</td>\n",
       "      <td>Intermediate Risk</td>\n",
       "    </tr>\n",
       "    <tr>\n",
       "      <th>...</th>\n",
       "      <td>...</td>\n",
       "      <td>...</td>\n",
       "      <td>...</td>\n",
       "      <td>...</td>\n",
       "      <td>...</td>\n",
       "      <td>...</td>\n",
       "      <td>...</td>\n",
       "      <td>...</td>\n",
       "      <td>...</td>\n",
       "      <td>...</td>\n",
       "      <td>...</td>\n",
       "      <td>...</td>\n",
       "      <td>...</td>\n",
       "      <td>...</td>\n",
       "      <td>...</td>\n",
       "      <td>...</td>\n",
       "      <td>...</td>\n",
       "      <td>...</td>\n",
       "      <td>...</td>\n",
       "      <td>...</td>\n",
       "    </tr>\n",
       "    <tr>\n",
       "      <th>3105</th>\n",
       "      <td>44.902364</td>\n",
       "      <td>0.000000</td>\n",
       "      <td>63.876667</td>\n",
       "      <td>-52.222959</td>\n",
       "      <td>-32.442940</td>\n",
       "      <td>26.128504</td>\n",
       "      <td>0.000000</td>\n",
       "      <td>0.0</td>\n",
       "      <td>8.474293</td>\n",
       "      <td>0.0</td>\n",
       "      <td>0.000</td>\n",
       "      <td>-0.000000</td>\n",
       "      <td>0.000</td>\n",
       "      <td>58.715929</td>\n",
       "      <td>WM</td>\n",
       "      <td>61.18</td>\n",
       "      <td>0.9144</td>\n",
       "      <td>0.008</td>\n",
       "      <td>0</td>\n",
       "      <td>Low Risk</td>\n",
       "    </tr>\n",
       "    <tr>\n",
       "      <th>3106</th>\n",
       "      <td>-112.080002</td>\n",
       "      <td>69.092123</td>\n",
       "      <td>76.629389</td>\n",
       "      <td>-66.285990</td>\n",
       "      <td>-52.563167</td>\n",
       "      <td>45.850579</td>\n",
       "      <td>0.000000</td>\n",
       "      <td>0.0</td>\n",
       "      <td>9.642635</td>\n",
       "      <td>0.0</td>\n",
       "      <td>7.574</td>\n",
       "      <td>-6.262398</td>\n",
       "      <td>0.000</td>\n",
       "      <td>-28.402831</td>\n",
       "      <td>WF</td>\n",
       "      <td>-29.18</td>\n",
       "      <td>0.9665</td>\n",
       "      <td>0.071</td>\n",
       "      <td>0</td>\n",
       "      <td>Borderline Risk</td>\n",
       "    </tr>\n",
       "    <tr>\n",
       "      <th>3107</th>\n",
       "      <td>-109.170473</td>\n",
       "      <td>65.551504</td>\n",
       "      <td>67.384975</td>\n",
       "      <td>-56.776226</td>\n",
       "      <td>-51.985293</td>\n",
       "      <td>44.169334</td>\n",
       "      <td>0.000000</td>\n",
       "      <td>0.0</td>\n",
       "      <td>9.336230</td>\n",
       "      <td>0.0</td>\n",
       "      <td>7.574</td>\n",
       "      <td>-6.099830</td>\n",
       "      <td>0.000</td>\n",
       "      <td>-30.015779</td>\n",
       "      <td>WF</td>\n",
       "      <td>-29.18</td>\n",
       "      <td>0.9665</td>\n",
       "      <td>0.015</td>\n",
       "      <td>0</td>\n",
       "      <td>Low Risk</td>\n",
       "    </tr>\n",
       "    <tr>\n",
       "      <th>3108</th>\n",
       "      <td>-112.080002</td>\n",
       "      <td>69.092123</td>\n",
       "      <td>71.256825</td>\n",
       "      <td>-61.638612</td>\n",
       "      <td>-52.563167</td>\n",
       "      <td>45.850579</td>\n",
       "      <td>0.000000</td>\n",
       "      <td>0.0</td>\n",
       "      <td>9.268740</td>\n",
       "      <td>0.0</td>\n",
       "      <td>7.574</td>\n",
       "      <td>-6.262398</td>\n",
       "      <td>0.000</td>\n",
       "      <td>-29.501913</td>\n",
       "      <td>WF</td>\n",
       "      <td>-29.18</td>\n",
       "      <td>0.9665</td>\n",
       "      <td>0.024</td>\n",
       "      <td>0</td>\n",
       "      <td>Low Risk</td>\n",
       "    </tr>\n",
       "    <tr>\n",
       "      <th>3109</th>\n",
       "      <td>51.902726</td>\n",
       "      <td>0.000000</td>\n",
       "      <td>65.819230</td>\n",
       "      <td>-62.200373</td>\n",
       "      <td>-31.257064</td>\n",
       "      <td>29.098023</td>\n",
       "      <td>8.632826</td>\n",
       "      <td>0.0</td>\n",
       "      <td>0.000000</td>\n",
       "      <td>0.0</td>\n",
       "      <td>0.000</td>\n",
       "      <td>-0.000000</td>\n",
       "      <td>0.000</td>\n",
       "      <td>61.995368</td>\n",
       "      <td>WM</td>\n",
       "      <td>61.18</td>\n",
       "      <td>0.9144</td>\n",
       "      <td>0.183</td>\n",
       "      <td>1</td>\n",
       "      <td>Intermediate Risk</td>\n",
       "    </tr>\n",
       "  </tbody>\n",
       "</table>\n",
       "<p>3110 rows × 20 columns</p>\n",
       "</div>"
      ],
      "text/plain": [
       "          ln_age  ln_age_sq  ln_tot_chol  ln_ageXln_tot_chol     ln_HDL  \\\n",
       "0    -118.310729  76.987556    72.007345          -65.750518 -60.638100   \n",
       "1    -120.997141  80.523472    70.829211          -66.143286 -54.656225   \n",
       "2    -120.997141  80.523472    71.739217          -66.993088 -49.743840   \n",
       "3    -118.867736  77.714177    71.256825          -65.371539 -60.322319   \n",
       "4       9.848802   0.000000     1.617689            0.000000  -1.091492   \n",
       "...          ...        ...          ...                 ...        ...   \n",
       "3105   44.902364   0.000000    63.876667          -52.222959 -32.442940   \n",
       "3106 -112.080002  69.092123    76.629389          -66.285990 -52.563167   \n",
       "3107 -109.170473  65.551504    67.384975          -56.776226 -51.985293   \n",
       "3108 -112.080002  69.092123    71.256825          -61.638612 -52.563167   \n",
       "3109   51.902726   0.000000    65.819230          -62.200373 -31.257064   \n",
       "\n",
       "      ln_ageXln_HDL    ln_SBP  ln_ageXSBP  ln_unSBP  ln_ageXunSBP  smoker  \\\n",
       "0         55.834790  0.000000         0.0  9.449010           0.0   0.000   \n",
       "1         51.469495  0.000000         0.0  8.972781           0.0   7.574   \n",
       "2         46.843527  0.000000         0.0  9.126350           0.0   0.000   \n",
       "3         55.805523  0.000000         0.0  9.126350           0.0   0.000   \n",
       "4          0.000000  9.040644         0.0  0.000000           0.0   0.000   \n",
       "...             ...       ...         ...       ...           ...     ...   \n",
       "3105      26.128504  0.000000         0.0  8.474293           0.0   0.000   \n",
       "3106      45.850579  0.000000         0.0  9.642635           0.0   7.574   \n",
       "3107      44.169334  0.000000         0.0  9.336230           0.0   7.574   \n",
       "3108      45.850579  0.000000         0.0  9.268740           0.0   7.574   \n",
       "3109      29.098023  8.632826         0.0  0.000000           0.0   0.000   \n",
       "\n",
       "      ln_ageXsmoker     dm        sum category   mean    surv   risk  \\\n",
       "0         -0.000000  0.000 -30.420647       WF -29.18  0.9665  0.010   \n",
       "1         -6.760638  0.000 -29.188330       WF -29.18  0.9665  0.033   \n",
       "2         -0.000000  0.000 -29.501503       WF -29.18  0.9665  0.024   \n",
       "3         -0.000000  0.000 -30.658718       WF -29.18  0.9665  0.008   \n",
       "4          0.000000  0.645  20.060643       BM  19.54  0.8954  0.170   \n",
       "...             ...    ...        ...      ...    ...     ...    ...   \n",
       "3105      -0.000000  0.000  58.715929       WM  61.18  0.9144  0.008   \n",
       "3106      -6.262398  0.000 -28.402831       WF -29.18  0.9665  0.071   \n",
       "3107      -6.099830  0.000 -30.015779       WF -29.18  0.9665  0.015   \n",
       "3108      -6.262398  0.000 -29.501913       WF -29.18  0.9665  0.024   \n",
       "3109      -0.000000  0.000  61.995368       WM  61.18  0.9144  0.183   \n",
       "\n",
       "      true_label           risk_cat  \n",
       "0              0           Low Risk  \n",
       "1              0           Low Risk  \n",
       "2              0           Low Risk  \n",
       "3              0           Low Risk  \n",
       "4              1  Intermediate Risk  \n",
       "...          ...                ...  \n",
       "3105           0           Low Risk  \n",
       "3106           0    Borderline Risk  \n",
       "3107           0           Low Risk  \n",
       "3108           0           Low Risk  \n",
       "3109           1  Intermediate Risk  \n",
       "\n",
       "[3110 rows x 20 columns]"
      ]
     },
     "execution_count": 76,
     "metadata": {},
     "output_type": "execute_result"
    }
   ],
   "source": [
    "pce_pred_df"
   ]
  },
  {
   "cell_type": "code",
   "execution_count": 77,
   "id": "ef5e11d4-ff59-412e-ae4f-5e5bd3cfc5f5",
   "metadata": {},
   "outputs": [],
   "source": [
    "pce_pred_df_order = pce_pred_df.loc[:,['risk', 'risk_cat', 'true_label']].sort_values('risk').reset_index().rename(columns = {'index': 'id'}).reset_index().rename(columns = {'index': 'risk_order_pce'})"
   ]
  },
  {
   "cell_type": "code",
   "execution_count": 80,
   "id": "14874bb4-e1be-4268-b1a4-1ed065662a8a",
   "metadata": {},
   "outputs": [],
   "source": [
    "ddh_risk_df = ddh_risk_df.loc[ddh_risk_df.pt_id.isin(pce_pred_df_order['id']),]\n",
    "ddh_risk_df_order = ddh_risk_df.loc[:,['value', 'risk_category']].sort_values('value').reset_index().rename(columns = {'index': 'id'}).reset_index().rename(columns = {'index': 'risk_order_ddh'})"
   ]
  },
  {
   "cell_type": "code",
   "execution_count": 82,
   "id": "8cf8c447-0193-42bc-8bf0-ffb276c886e6",
   "metadata": {
    "tags": []
   },
   "outputs": [],
   "source": [
    "pce_pred_df_order = pce_pred_df_order.rename(columns = {'risk_cat' : 'risk_cat_pce'})\n",
    "ddh_risk_df_order = ddh_risk_df_order.rename(columns = {'risk_category' : 'risk_cat_ddh'})"
   ]
  },
  {
   "cell_type": "code",
   "execution_count": 83,
   "id": "a24fc536-9718-42ab-9eb1-b4a2c154a2db",
   "metadata": {},
   "outputs": [],
   "source": [
    "risk_df_order = pd.merge(pce_pred_df_order, ddh_risk_df_order)"
   ]
  },
  {
   "cell_type": "code",
   "execution_count": 84,
   "id": "5993fd80-e6e7-4a1c-a493-7a3aaa92ced2",
   "metadata": {},
   "outputs": [],
   "source": [
    "risk_df_order.to_csv('risk_df_order.csv', index = False)"
   ]
  },
  {
   "cell_type": "markdown",
   "id": "cb4824bd-a58a-4396-9c0f-b5c5ecc999c8",
   "metadata": {},
   "source": [
    "## Race & Sex Category Comparison\n",
    "Race Category:\n",
    "1. White \n",
    "2. Black \n",
    "\n",
    "Sex Category:\n",
    "1. Male\n",
    "2. Female"
   ]
  },
  {
   "cell_type": "code",
   "execution_count": 122,
   "id": "dd45d548-4701-45b5-9d67-df38e8dccb2d",
   "metadata": {},
   "outputs": [],
   "source": [
    "df = pd.read_csv('/Volumes/fsmresfiles/PrevMed/Projects/MESA_RiskPred/LRPP data/LRPP_select.csv')\n",
    "indecies_test = pd.read_csv('/Volumes/fsmresfiles/PrevMed/Projects/MESA_RiskPred/LRPP data/random_index_select.csv')\n",
    "indecies_test.columns = ['index', 'label', 'study_index']\n",
    "indecies_test = indecies_test.loc[indecies_test['study_index'] == True, :]\n",
    "df = df.loc[df['id'].isin(indecies_test['index']), :]\n",
    "# filter out patients without data before 8 years\n",
    "max_age_before_threshold = df.loc[df['times'] <= 8, :].groupby('id').times.max().reset_index()\n",
    "df = df.loc[df['id'].isin(max_age_before_threshold['id']), :]\n",
    "\n",
    "# gender \n",
    "df = df[['id', 'race', 'gender']].drop_duplicates().reset_index().reset_index().drop(columns=('index'))\n",
    "df['id'] = df['level_0']\n",
    "\n",
    "# merge datasets \n",
    "risk_demo = pd.merge(risk_df_order, df[['id', 'race', 'gender']]) "
   ]
  },
  {
   "cell_type": "code",
   "execution_count": 125,
   "id": "ef8d740b-81cd-45df-ab7c-41bc0a5d048b",
   "metadata": {},
   "outputs": [],
   "source": [
    "from sklearn.metrics import roc_auc_score"
   ]
  },
  {
   "cell_type": "markdown",
   "id": "f39d17d4-be5b-49b0-815e-ab41b7c7ea31",
   "metadata": {},
   "source": [
    "### Race"
   ]
  },
  {
   "cell_type": "code",
   "execution_count": 123,
   "id": "16c26c41-fd2a-4197-9336-fdb1b5bed5d8",
   "metadata": {},
   "outputs": [
    {
     "data": {
      "text/html": [
       "<div>\n",
       "<style scoped>\n",
       "    .dataframe tbody tr th:only-of-type {\n",
       "        vertical-align: middle;\n",
       "    }\n",
       "\n",
       "    .dataframe tbody tr th {\n",
       "        vertical-align: top;\n",
       "    }\n",
       "\n",
       "    .dataframe thead th {\n",
       "        text-align: right;\n",
       "    }\n",
       "</style>\n",
       "<table border=\"1\" class=\"dataframe\">\n",
       "  <thead>\n",
       "    <tr style=\"text-align: right;\">\n",
       "      <th></th>\n",
       "      <th>risk_order_pce</th>\n",
       "      <th>id</th>\n",
       "      <th>risk</th>\n",
       "      <th>risk_cat_pce</th>\n",
       "      <th>true_label</th>\n",
       "      <th>risk_order_ddh</th>\n",
       "      <th>value</th>\n",
       "      <th>risk_cat_ddh</th>\n",
       "      <th>race</th>\n",
       "      <th>gender</th>\n",
       "    </tr>\n",
       "  </thead>\n",
       "  <tbody>\n",
       "    <tr>\n",
       "      <th>0</th>\n",
       "      <td>0</td>\n",
       "      <td>2129</td>\n",
       "      <td>0.001</td>\n",
       "      <td>Low Risk</td>\n",
       "      <td>0</td>\n",
       "      <td>1068</td>\n",
       "      <td>0.071664</td>\n",
       "      <td>borderline</td>\n",
       "      <td>2</td>\n",
       "      <td>2</td>\n",
       "    </tr>\n",
       "    <tr>\n",
       "      <th>1</th>\n",
       "      <td>1</td>\n",
       "      <td>2406</td>\n",
       "      <td>0.001</td>\n",
       "      <td>Low Risk</td>\n",
       "      <td>0</td>\n",
       "      <td>2702</td>\n",
       "      <td>0.092760</td>\n",
       "      <td>intermediate</td>\n",
       "      <td>1</td>\n",
       "      <td>2</td>\n",
       "    </tr>\n",
       "    <tr>\n",
       "      <th>2</th>\n",
       "      <td>2</td>\n",
       "      <td>1787</td>\n",
       "      <td>0.001</td>\n",
       "      <td>Low Risk</td>\n",
       "      <td>0</td>\n",
       "      <td>1553</td>\n",
       "      <td>0.079711</td>\n",
       "      <td>intermediate</td>\n",
       "      <td>2</td>\n",
       "      <td>2</td>\n",
       "    </tr>\n",
       "    <tr>\n",
       "      <th>3</th>\n",
       "      <td>3</td>\n",
       "      <td>3019</td>\n",
       "      <td>0.001</td>\n",
       "      <td>Low Risk</td>\n",
       "      <td>0</td>\n",
       "      <td>633</td>\n",
       "      <td>0.059590</td>\n",
       "      <td>borderline</td>\n",
       "      <td>1</td>\n",
       "      <td>2</td>\n",
       "    </tr>\n",
       "    <tr>\n",
       "      <th>4</th>\n",
       "      <td>4</td>\n",
       "      <td>2160</td>\n",
       "      <td>0.001</td>\n",
       "      <td>Low Risk</td>\n",
       "      <td>0</td>\n",
       "      <td>2953</td>\n",
       "      <td>0.096302</td>\n",
       "      <td>intermediate</td>\n",
       "      <td>2</td>\n",
       "      <td>2</td>\n",
       "    </tr>\n",
       "  </tbody>\n",
       "</table>\n",
       "</div>"
      ],
      "text/plain": [
       "   risk_order_pce    id   risk risk_cat_pce  true_label  risk_order_ddh  \\\n",
       "0               0  2129  0.001     Low Risk           0            1068   \n",
       "1               1  2406  0.001     Low Risk           0            2702   \n",
       "2               2  1787  0.001     Low Risk           0            1553   \n",
       "3               3  3019  0.001     Low Risk           0             633   \n",
       "4               4  2160  0.001     Low Risk           0            2953   \n",
       "\n",
       "      value  risk_cat_ddh  race  gender  \n",
       "0  0.071664    borderline     2       2  \n",
       "1  0.092760  intermediate     1       2  \n",
       "2  0.079711  intermediate     2       2  \n",
       "3  0.059590    borderline     1       2  \n",
       "4  0.096302  intermediate     2       2  "
      ]
     },
     "execution_count": 123,
     "metadata": {},
     "output_type": "execute_result"
    }
   ],
   "source": [
    "risk_demo.head()"
   ]
  },
  {
   "cell_type": "code",
   "execution_count": 132,
   "id": "41d6b95b-df23-4d04-82f6-d218fc555619",
   "metadata": {},
   "outputs": [
    {
     "ename": "SyntaxError",
     "evalue": "unexpected EOF while parsing (1716037821.py, line 3)",
     "output_type": "error",
     "traceback": [
      "\u001b[0;36m  File \u001b[0;32m\"/var/folders/7k/yrv6y35s5csc27_c3qxw37z80000gn/T/ipykernel_9133/1716037821.py\"\u001b[0;36m, line \u001b[0;32m3\u001b[0m\n\u001b[0;31m    print('DDH AUC White:', roc_auc_score(risk_demo_white['true_label'], risk_demo_white['value'])\u001b[0m\n\u001b[0m                                                                                                  ^\u001b[0m\n\u001b[0;31mSyntaxError\u001b[0m\u001b[0;31m:\u001b[0m unexpected EOF while parsing\n"
     ]
    }
   ],
   "source": [
    "risk_demo_white = risk_demo.loc[risk_demo['race'] == 1, :]\n",
    "print('PCE AUC White:', roc_auc_score(risk_demo_white['true_label'], risk_demo_white['risk']))\n",
    "print('DDH AUC White:', roc_auc_score(risk_demo_white['true_label'], risk_demo_white['value'])"
   ]
  },
  {
   "cell_type": "code",
   "execution_count": null,
   "id": "49c7c236-f583-47dc-8a77-5ad5cc5ebcc6",
   "metadata": {},
   "outputs": [],
   "source": []
  },
  {
   "cell_type": "markdown",
   "id": "d6acb639-5505-4275-9050-572ad327bc49",
   "metadata": {},
   "source": [
    "---------------------\n",
    "# Graveyard"
   ]
  },
  {
   "cell_type": "markdown",
   "id": "f434eca6-0363-423f-8245-1eff1871783a",
   "metadata": {},
   "source": [
    "\n",
    "\n",
    "\n",
    "\n",
    "\n",
    "## Risk Comparison\n",
    "1. Scale risk scores to mean "
   ]
  },
  {
   "cell_type": "code",
   "execution_count": null,
   "id": "4099e0c9-216b-449f-b7ef-5a350b287eba",
   "metadata": {},
   "outputs": [],
   "source": [
    "len(pce_pred_df)"
   ]
  },
  {
   "cell_type": "code",
   "execution_count": null,
   "id": "926de67b-cd04-4182-8f1f-769c29875e80",
   "metadata": {},
   "outputs": [],
   "source": [
    "from sklearn.preprocessing import MinMaxScaler\n",
    "\n",
    "risk_df = pd.concat([ddh_risk_df['value'], pce_pred_df['risk']], axis = 1)\n",
    "risk_df.columns = ['ddh_risk', 'pce_risk']\n",
    "\n",
    "scaler = MinMaxScaler()\n",
    "risk_df_scale = scaler.fit_transform(risk_df.to_numpy())\n",
    "risk_df_scale = pd.DataFrame(risk_df_scale)\n",
    "\n",
    "risk_df_scale = risk_df_scale.reset_index().rename(columns = {'index':'id'})\n",
    "risk_df_scale.columns = ['index','ddh_risk_scaled', 'pce_risk_scaled']"
   ]
  },
  {
   "cell_type": "code",
   "execution_count": null,
   "id": "690a3614-1cff-4668-a79c-3b68e00a2600",
   "metadata": {},
   "outputs": [],
   "source": [
    "risk_df_scale.mean()"
   ]
  },
  {
   "cell_type": "code",
   "execution_count": null,
   "id": "e82472bc-9b3c-4005-90af-710e8e64603b",
   "metadata": {},
   "outputs": [],
   "source": [
    "# calculate distance\n",
    "risk_df_scale['ddh_risk_scaled_dist'] = (risk_df_scale['ddh_risk_scaled'] - risk_df_scale['ddh_risk_scaled'].mean())\n",
    "risk_df_scale['pce_risk_scaled_dist'] = (risk_df_scale['pce_risk_scaled'] - risk_df_scale['pce_risk_scaled'].mean()) "
   ]
  },
  {
   "cell_type": "code",
   "execution_count": null,
   "id": "e73faff8-4cbb-4b89-b8ee-0ff49da02692",
   "metadata": {},
   "outputs": [],
   "source": [
    "# visualization\n",
    "import seaborn as sns\n",
    "import matplotlib.pyplot as plt\n",
    "\n",
    "sns.set(rc={\"figure.figsize\":(5, 5)})"
   ]
  },
  {
   "cell_type": "code",
   "execution_count": null,
   "id": "224702af-f05f-4ac6-9002-77fc8f001237",
   "metadata": {},
   "outputs": [],
   "source": [
    "sns.scatterplot(data=risk_df_scale, x=\"pce_risk_scaled_dist\", y=\"ddh_risk_scaled_dist\")"
   ]
  },
  {
   "cell_type": "code",
   "execution_count": null,
   "id": "74f49f05-42cc-4860-85c0-6094f326aaf8",
   "metadata": {},
   "outputs": [],
   "source": [
    "risk_df_scale.pce_risk_scaled. hist()"
   ]
  },
  {
   "cell_type": "code",
   "execution_count": null,
   "id": "a108185d-eaf6-4e26-af03-239d2e03a551",
   "metadata": {},
   "outputs": [],
   "source": [
    "risk_df_scale.ddh_risk_scaled.hist()"
   ]
  }
 ],
 "metadata": {
  "kernelspec": {
   "display_name": "Python 3 (ipykernel)",
   "language": "python",
   "name": "python3"
  },
  "language_info": {
   "codemirror_mode": {
    "name": "ipython",
    "version": 3
   },
   "file_extension": ".py",
   "mimetype": "text/x-python",
   "name": "python",
   "nbconvert_exporter": "python",
   "pygments_lexer": "ipython3",
   "version": "3.8.8"
  }
 },
 "nbformat": 4,
 "nbformat_minor": 5
}
