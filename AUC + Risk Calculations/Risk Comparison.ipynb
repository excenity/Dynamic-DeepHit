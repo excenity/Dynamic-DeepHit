{
 "cells": [
  {
   "cell_type": "markdown",
   "id": "fd5631ea-9bd7-4ade-8b90-c062fdde409e",
   "metadata": {},
   "source": [
    "# Risk Comparsion"
   ]
  },
  {
   "cell_type": "markdown",
   "id": "c9b24cc5-8ff5-4b45-aa3f-4c039856db2e",
   "metadata": {},
   "source": [
    "1. Get rankings of risk prediction scores from PCE and DDH\n",
    "2. Look at their relative positions \n",
    "3. See how many of them are reclassified. "
   ]
  },
  {
   "cell_type": "markdown",
   "id": "aa24cb60-8d35-443e-9afa-372c7478be7d",
   "metadata": {},
   "source": [
    "## Project PCE thresholds DDH Risks"
   ]
  },
  {
   "cell_type": "code",
   "execution_count": 34,
   "id": "9152e61d-b0e9-4a6c-b9c8-65be8318c155",
   "metadata": {},
   "outputs": [],
   "source": [
    "import pandas as pd"
   ]
  },
  {
   "cell_type": "code",
   "execution_count": 35,
   "id": "44655a3c-1f3b-44fc-a1e7-7633d1e8e920",
   "metadata": {},
   "outputs": [],
   "source": [
    "ddh_risk_df = pd.read_csv('/Users/excenity/Dropbox/HSIP/Research/MESA/Output/DDH_pred_df.csv')"
   ]
  },
  {
   "cell_type": "code",
   "execution_count": 36,
   "id": "28f6da3e-f22d-439a-8432-d38cd05ce459",
   "metadata": {},
   "outputs": [],
   "source": [
    "ddh_risk_df['risk_category'] = 'low'\n",
    "ddh_risk_df.loc[(ddh_risk_df['value'] >= 0.05) & (ddh_risk_df['value'] < 0.075), 'risk_category'] = 'borderline'\n",
    "ddh_risk_df.loc[(ddh_risk_df['value'] >= 0.075) & (ddh_risk_df['value'] < 0.2), 'risk_category'] = 'intermediate'\n",
    "ddh_risk_df.loc[(ddh_risk_df['value'] >= 0.20), 'risk_category'] = 'high'"
   ]
  },
  {
   "cell_type": "code",
   "execution_count": 37,
   "id": "66005677-6ac9-4ee1-a45d-4244d2ab6ae2",
   "metadata": {},
   "outputs": [
    {
     "data": {
      "text/plain": [
       "intermediate    0.443096\n",
       "low             0.405918\n",
       "borderline      0.150986\n",
       "Name: risk_category, dtype: float64"
      ]
     },
     "execution_count": 37,
     "metadata": {},
     "output_type": "execute_result"
    }
   ],
   "source": [
    "ddh_risk_df.risk_category.value_counts()/len(ddh_risk_df)"
   ]
  },
  {
   "cell_type": "code",
   "execution_count": 38,
   "id": "46b0a128-ac8e-4f38-9c1e-9b763f221df5",
   "metadata": {},
   "outputs": [
    {
     "data": {
      "text/plain": [
       "<AxesSubplot:>"
      ]
     },
     "execution_count": 38,
     "metadata": {},
     "output_type": "execute_result"
    },
    {
     "data": {
      "image/png": "[encoded data removed]",
      "text/plain": [
       "<Figure size 432x288 with 1 Axes>"
      ]
     },
     "metadata": {
      "needs_background": "light"
     },
     "output_type": "display_data"
    }
   ],
   "source": [
    "ddh_risk_df.value.hist()"
   ]
  },
  {
   "cell_type": "markdown",
   "id": "a0ae09ce-14bc-4763-990a-1629192e502a",
   "metadata": {},
   "source": [
    "## Ranking Comparison"
   ]
  },
  {
   "cell_type": "code",
   "execution_count": 39,
   "id": "3ee2a047-c75a-47b5-89ca-e5f4953ca93a",
   "metadata": {},
   "outputs": [],
   "source": [
    "pce_pred_df = pd.read_csv('/Users/excenity/Documents/HSIP/Research/Longitudinal PCE/GitHub/Dynamic-DeepHit LRPP/pce_pred_df.csv')"
   ]
  },
  {
   "cell_type": "code",
   "execution_count": 40,
   "id": "ef5e11d4-ff59-412e-ae4f-5e5bd3cfc5f5",
   "metadata": {},
   "outputs": [],
   "source": [
    "pce_pred_df_order = pce_pred_df.loc[:,['risk', 'risk_cat', 'true_label']].sort_values('risk').reset_index().rename(columns = {'index': 'id'}).reset_index().rename(columns = {'index': 'risk_order_pce'})"
   ]
  },
  {
   "cell_type": "code",
   "execution_count": 41,
   "id": "d91c8711-d3c4-4a8b-a243-f6d2201c13b7",
   "metadata": {},
   "outputs": [
    {
     "data": {
      "text/html": [
       "<div>\n",
       "<style scoped>\n",
       "    .dataframe tbody tr th:only-of-type {\n",
       "        vertical-align: middle;\n",
       "    }\n",
       "\n",
       "    .dataframe tbody tr th {\n",
       "        vertical-align: top;\n",
       "    }\n",
       "\n",
       "    .dataframe thead th {\n",
       "        text-align: right;\n",
       "    }\n",
       "</style>\n",
       "<table border=\"1\" class=\"dataframe\">\n",
       "  <thead>\n",
       "    <tr style=\"text-align: right;\">\n",
       "      <th></th>\n",
       "      <th>risk_order_pce</th>\n",
       "      <th>id</th>\n",
       "      <th>risk</th>\n",
       "      <th>risk_cat</th>\n",
       "      <th>true_label</th>\n",
       "    </tr>\n",
       "  </thead>\n",
       "  <tbody>\n",
       "    <tr>\n",
       "      <th>0</th>\n",
       "      <td>0</td>\n",
       "      <td>2010</td>\n",
       "      <td>0.001</td>\n",
       "      <td>Low Risk</td>\n",
       "      <td>0</td>\n",
       "    </tr>\n",
       "    <tr>\n",
       "      <th>1</th>\n",
       "      <td>1</td>\n",
       "      <td>1519</td>\n",
       "      <td>0.001</td>\n",
       "      <td>Low Risk</td>\n",
       "      <td>0</td>\n",
       "    </tr>\n",
       "    <tr>\n",
       "      <th>2</th>\n",
       "      <td>2</td>\n",
       "      <td>1635</td>\n",
       "      <td>0.001</td>\n",
       "      <td>Low Risk</td>\n",
       "      <td>0</td>\n",
       "    </tr>\n",
       "    <tr>\n",
       "      <th>3</th>\n",
       "      <td>3</td>\n",
       "      <td>1642</td>\n",
       "      <td>0.001</td>\n",
       "      <td>Low Risk</td>\n",
       "      <td>0</td>\n",
       "    </tr>\n",
       "    <tr>\n",
       "      <th>4</th>\n",
       "      <td>4</td>\n",
       "      <td>1576</td>\n",
       "      <td>0.001</td>\n",
       "      <td>Low Risk</td>\n",
       "      <td>0</td>\n",
       "    </tr>\n",
       "    <tr>\n",
       "      <th>...</th>\n",
       "      <td>...</td>\n",
       "      <td>...</td>\n",
       "      <td>...</td>\n",
       "      <td>...</td>\n",
       "      <td>...</td>\n",
       "    </tr>\n",
       "    <tr>\n",
       "      <th>2627</th>\n",
       "      <td>2627</td>\n",
       "      <td>821</td>\n",
       "      <td>0.667</td>\n",
       "      <td>High Risk</td>\n",
       "      <td>0</td>\n",
       "    </tr>\n",
       "    <tr>\n",
       "      <th>2628</th>\n",
       "      <td>2628</td>\n",
       "      <td>69</td>\n",
       "      <td>0.669</td>\n",
       "      <td>High Risk</td>\n",
       "      <td>1</td>\n",
       "    </tr>\n",
       "    <tr>\n",
       "      <th>2629</th>\n",
       "      <td>2629</td>\n",
       "      <td>1281</td>\n",
       "      <td>0.695</td>\n",
       "      <td>High Risk</td>\n",
       "      <td>0</td>\n",
       "    </tr>\n",
       "    <tr>\n",
       "      <th>2630</th>\n",
       "      <td>2630</td>\n",
       "      <td>886</td>\n",
       "      <td>0.826</td>\n",
       "      <td>High Risk</td>\n",
       "      <td>0</td>\n",
       "    </tr>\n",
       "    <tr>\n",
       "      <th>2631</th>\n",
       "      <td>2631</td>\n",
       "      <td>2278</td>\n",
       "      <td>0.846</td>\n",
       "      <td>High Risk</td>\n",
       "      <td>0</td>\n",
       "    </tr>\n",
       "  </tbody>\n",
       "</table>\n",
       "<p>2632 rows × 5 columns</p>\n",
       "</div>"
      ],
      "text/plain": [
       "      risk_order_pce    id   risk   risk_cat  true_label\n",
       "0                  0  2010  0.001   Low Risk           0\n",
       "1                  1  1519  0.001   Low Risk           0\n",
       "2                  2  1635  0.001   Low Risk           0\n",
       "3                  3  1642  0.001   Low Risk           0\n",
       "4                  4  1576  0.001   Low Risk           0\n",
       "...              ...   ...    ...        ...         ...\n",
       "2627            2627   821  0.667  High Risk           0\n",
       "2628            2628    69  0.669  High Risk           1\n",
       "2629            2629  1281  0.695  High Risk           0\n",
       "2630            2630   886  0.826  High Risk           0\n",
       "2631            2631  2278  0.846  High Risk           0\n",
       "\n",
       "[2632 rows x 5 columns]"
      ]
     },
     "execution_count": 41,
     "metadata": {},
     "output_type": "execute_result"
    }
   ],
   "source": [
    "pce_pred_df_order"
   ]
  },
  {
   "cell_type": "code",
   "execution_count": 42,
   "id": "14874bb4-e1be-4268-b1a4-1ed065662a8a",
   "metadata": {},
   "outputs": [],
   "source": [
    "ddh_risk_df = ddh_risk_df.loc[ddh_risk_df_order.id.isin(pce_pred_df_order['id']),]\n",
    "ddh_risk_df_order = ddh_risk_df.loc[:,['value', 'risk_category']].sort_values('value').reset_index().rename(columns = {'index': 'id'}).reset_index().rename(columns = {'index': 'risk_order_ddh'})"
   ]
  },
  {
   "cell_type": "code",
   "execution_count": 43,
   "id": "92e6ab97-bbba-4f0b-a9ef-630e3ca1e819",
   "metadata": {},
   "outputs": [
    {
     "data": {
      "text/html": [
       "<div>\n",
       "<style scoped>\n",
       "    .dataframe tbody tr th:only-of-type {\n",
       "        vertical-align: middle;\n",
       "    }\n",
       "\n",
       "    .dataframe tbody tr th {\n",
       "        vertical-align: top;\n",
       "    }\n",
       "\n",
       "    .dataframe thead th {\n",
       "        text-align: right;\n",
       "    }\n",
       "</style>\n",
       "<table border=\"1\" class=\"dataframe\">\n",
       "  <thead>\n",
       "    <tr style=\"text-align: right;\">\n",
       "      <th></th>\n",
       "      <th>risk_order_ddh</th>\n",
       "      <th>id</th>\n",
       "      <th>value</th>\n",
       "      <th>risk_category</th>\n",
       "    </tr>\n",
       "  </thead>\n",
       "  <tbody>\n",
       "    <tr>\n",
       "      <th>0</th>\n",
       "      <td>0</td>\n",
       "      <td>1576</td>\n",
       "      <td>0.000965</td>\n",
       "      <td>low</td>\n",
       "    </tr>\n",
       "    <tr>\n",
       "      <th>1</th>\n",
       "      <td>1</td>\n",
       "      <td>2608</td>\n",
       "      <td>0.001262</td>\n",
       "      <td>low</td>\n",
       "    </tr>\n",
       "    <tr>\n",
       "      <th>2</th>\n",
       "      <td>2</td>\n",
       "      <td>2091</td>\n",
       "      <td>0.001322</td>\n",
       "      <td>low</td>\n",
       "    </tr>\n",
       "    <tr>\n",
       "      <th>3</th>\n",
       "      <td>3</td>\n",
       "      <td>1894</td>\n",
       "      <td>0.001367</td>\n",
       "      <td>low</td>\n",
       "    </tr>\n",
       "    <tr>\n",
       "      <th>4</th>\n",
       "      <td>4</td>\n",
       "      <td>1590</td>\n",
       "      <td>0.001427</td>\n",
       "      <td>low</td>\n",
       "    </tr>\n",
       "    <tr>\n",
       "      <th>...</th>\n",
       "      <td>...</td>\n",
       "      <td>...</td>\n",
       "      <td>...</td>\n",
       "      <td>...</td>\n",
       "    </tr>\n",
       "    <tr>\n",
       "      <th>2627</th>\n",
       "      <td>2627</td>\n",
       "      <td>2487</td>\n",
       "      <td>0.126013</td>\n",
       "      <td>intermediate</td>\n",
       "    </tr>\n",
       "    <tr>\n",
       "      <th>2628</th>\n",
       "      <td>2628</td>\n",
       "      <td>724</td>\n",
       "      <td>0.126013</td>\n",
       "      <td>intermediate</td>\n",
       "    </tr>\n",
       "    <tr>\n",
       "      <th>2629</th>\n",
       "      <td>2629</td>\n",
       "      <td>1144</td>\n",
       "      <td>0.126013</td>\n",
       "      <td>intermediate</td>\n",
       "    </tr>\n",
       "    <tr>\n",
       "      <th>2630</th>\n",
       "      <td>2630</td>\n",
       "      <td>354</td>\n",
       "      <td>0.126013</td>\n",
       "      <td>intermediate</td>\n",
       "    </tr>\n",
       "    <tr>\n",
       "      <th>2631</th>\n",
       "      <td>2631</td>\n",
       "      <td>307</td>\n",
       "      <td>0.126013</td>\n",
       "      <td>intermediate</td>\n",
       "    </tr>\n",
       "  </tbody>\n",
       "</table>\n",
       "<p>2632 rows × 4 columns</p>\n",
       "</div>"
      ],
      "text/plain": [
       "      risk_order_ddh    id     value risk_category\n",
       "0                  0  1576  0.000965           low\n",
       "1                  1  2608  0.001262           low\n",
       "2                  2  2091  0.001322           low\n",
       "3                  3  1894  0.001367           low\n",
       "4                  4  1590  0.001427           low\n",
       "...              ...   ...       ...           ...\n",
       "2627            2627  2487  0.126013  intermediate\n",
       "2628            2628   724  0.126013  intermediate\n",
       "2629            2629  1144  0.126013  intermediate\n",
       "2630            2630   354  0.126013  intermediate\n",
       "2631            2631   307  0.126013  intermediate\n",
       "\n",
       "[2632 rows x 4 columns]"
      ]
     },
     "execution_count": 43,
     "metadata": {},
     "output_type": "execute_result"
    }
   ],
   "source": [
    "ddh_risk_df_order"
   ]
  },
  {
   "cell_type": "code",
   "execution_count": 44,
   "id": "8cf8c447-0193-42bc-8bf0-ffb276c886e6",
   "metadata": {
    "jupyter": {
     "source_hidden": true
    },
    "tags": []
   },
   "outputs": [],
   "source": [
    "pce_pred_df_order = pce_pred_df_order.rename(columns = {'risk_cat' : 'risk_cat_pce'})\n",
    "ddh_risk_df_order = ddh_risk_df_order.rename(columns = {'risk_category' : 'risk_cat_ddh'})"
   ]
  },
  {
   "cell_type": "code",
   "execution_count": 45,
   "id": "a24fc536-9718-42ab-9eb1-b4a2c154a2db",
   "metadata": {},
   "outputs": [],
   "source": [
    "risk_df_order = pd.merge(pce_pred_df_order, ddh_risk_df_order)"
   ]
  },
  {
   "cell_type": "code",
   "execution_count": 46,
   "id": "5993fd80-e6e7-4a1c-a493-7a3aaa92ced2",
   "metadata": {},
   "outputs": [],
   "source": [
    "risk_df_order.to_csv('risk_df_order.csv', index = False)"
   ]
  },
  {
   "cell_type": "markdown",
   "id": "f434eca6-0363-423f-8245-1eff1871783a",
   "metadata": {},
   "source": [
    "## Risk Comparison\n",
    "1. Scale risk scores to mean "
   ]
  },
  {
   "cell_type": "code",
   "execution_count": null,
   "id": "4099e0c9-216b-449f-b7ef-5a350b287eba",
   "metadata": {},
   "outputs": [],
   "source": [
    "len(pce_pred_df)"
   ]
  },
  {
   "cell_type": "code",
   "execution_count": null,
   "id": "926de67b-cd04-4182-8f1f-769c29875e80",
   "metadata": {},
   "outputs": [],
   "source": [
    "from sklearn.preprocessing import MinMaxScaler\n",
    "\n",
    "risk_df = pd.concat([ddh_risk_df['value'], pce_pred_df['risk']], axis = 1)\n",
    "risk_df.columns = ['ddh_risk', 'pce_risk']\n",
    "\n",
    "scaler = MinMaxScaler()\n",
    "risk_df_scale = scaler.fit_transform(risk_df.to_numpy())\n",
    "risk_df_scale = pd.DataFrame(risk_df_scale)\n",
    "\n",
    "risk_df_scale = risk_df_scale.reset_index().rename(columns = {'index':'id'})\n",
    "risk_df_scale.columns = ['index','ddh_risk_scaled', 'pce_risk_scaled']"
   ]
  },
  {
   "cell_type": "code",
   "execution_count": null,
   "id": "690a3614-1cff-4668-a79c-3b68e00a2600",
   "metadata": {},
   "outputs": [],
   "source": [
    "risk_df_scale.mean()"
   ]
  },
  {
   "cell_type": "code",
   "execution_count": null,
   "id": "e82472bc-9b3c-4005-90af-710e8e64603b",
   "metadata": {},
   "outputs": [],
   "source": [
    "# calculate distance\n",
    "risk_df_scale['ddh_risk_scaled_dist'] = (risk_df_scale['ddh_risk_scaled'] - risk_df_scale['ddh_risk_scaled'].mean())\n",
    "risk_df_scale['pce_risk_scaled_dist'] = (risk_df_scale['pce_risk_scaled'] - risk_df_scale['pce_risk_scaled'].mean()) "
   ]
  },
  {
   "cell_type": "code",
   "execution_count": null,
   "id": "e73faff8-4cbb-4b89-b8ee-0ff49da02692",
   "metadata": {},
   "outputs": [],
   "source": [
    "# visualization\n",
    "import seaborn as sns\n",
    "import matplotlib.pyplot as plt\n",
    "\n",
    "sns.set(rc={\"figure.figsize\":(5, 5)})"
   ]
  },
  {
   "cell_type": "code",
   "execution_count": null,
   "id": "224702af-f05f-4ac6-9002-77fc8f001237",
   "metadata": {},
   "outputs": [],
   "source": [
    "sns.scatterplot(data=risk_df_scale, x=\"pce_risk_scaled_dist\", y=\"ddh_risk_scaled_dist\")"
   ]
  },
  {
   "cell_type": "code",
   "execution_count": null,
   "id": "74f49f05-42cc-4860-85c0-6094f326aaf8",
   "metadata": {},
   "outputs": [],
   "source": [
    "risk_df_scale.pce_risk_scaled. hist()"
   ]
  },
  {
   "cell_type": "code",
   "execution_count": null,
   "id": "a108185d-eaf6-4e26-af03-239d2e03a551",
   "metadata": {},
   "outputs": [],
   "source": [
    "risk_df_scale.ddh_risk_scaled.hist()"
   ]
  }
 ],
 "metadata": {
  "kernelspec": {
   "display_name": "Python 3 (ipykernel)",
   "language": "python",
   "name": "python3"
  },
  "language_info": {
   "codemirror_mode": {
    "name": "ipython",
    "version": 3
   },
   "file_extension": ".py",
   "mimetype": "text/x-python",
   "name": "python",
   "nbconvert_exporter": "python",
   "pygments_lexer": "ipython3",
   "version": "3.8.8"
  }
 },
 "nbformat": 4,
 "nbformat_minor": 5
}
