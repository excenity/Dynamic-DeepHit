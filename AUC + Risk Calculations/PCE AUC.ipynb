{
 "cells": [
  {
   "cell_type": "markdown",
   "id": "b6d97167-fd5a-4cb1-b901-6502fde28d41",
   "metadata": {},
   "source": [
    "# PCE Calculations of Testing Dataset"
   ]
  },
  {
   "cell_type": "code",
   "execution_count": 36,
   "id": "e41db9cf-a7d7-4942-964e-296e681ababb",
   "metadata": {},
   "outputs": [],
   "source": [
    "import ASCVD_Calc_PCE\n",
    "import pandas as pd\n",
    "import numpy as np\n",
    "from importlib import reload\n",
    "reload(ASCVD_Calc_PCE)\n",
    "from sklearn.metrics import roc_auc_score, roc_curve, RocCurveDisplay, accuracy_score"
   ]
  },
  {
   "cell_type": "markdown",
   "id": "fb439b44-b1eb-428f-a20d-5cc793e03e67",
   "metadata": {},
   "source": [
    "## Import Data"
   ]
  },
  {
   "cell_type": "code",
   "execution_count": 37,
   "id": "c7aaf3b1-2c1e-4606-9483-17e6d85e0390",
   "metadata": {},
   "outputs": [],
   "source": [
    "df = pd.read_csv('/Volumes/fsmresfiles/PrevMed/Projects/MESA_RiskPred/LRPP data/LRPP_select.csv')\n",
    "indecies_test = pd.read_csv('/Volumes/fsmresfiles/PrevMed/Projects/MESA_RiskPred/LRPP data/random_index_select.csv')"
   ]
  },
  {
   "cell_type": "code",
   "execution_count": 38,
   "id": "576b3822-0e22-41b4-85cb-257e8c8d74e8",
   "metadata": {},
   "outputs": [],
   "source": [
    "indecies_test.columns = ['index', 'label', 'study_index']"
   ]
  },
  {
   "cell_type": "code",
   "execution_count": 39,
   "id": "05db8077-4eb4-458e-ba9e-4509d77c2ac9",
   "metadata": {},
   "outputs": [],
   "source": [
    "indecies_test = indecies_test.loc[indecies_test['study_index'] == True, :]\n",
    "df = df.loc[df['id'].isin(indecies_test['index']), :]"
   ]
  },
  {
   "cell_type": "code",
   "execution_count": 40,
   "id": "ba0e478d-21c3-48a8-9576-c7551e571193",
   "metadata": {},
   "outputs": [],
   "source": [
    "# filter out patients without data before 8 years\n",
    "max_age_before_threshold = df.loc[df['times'] <= 8, :].groupby('id').times.max().reset_index()\n",
    "df = df.loc[df['id'].isin(max_age_before_threshold['id']), :]\n",
    "\n",
    "# get labels and tte\n",
    "te_label = np.array(df.loc[:,['id', 'label']].drop_duplicates().label)\n",
    "te_time = np.array(df.loc[:, ['id', 'tte']].drop_duplicates().tte)"
   ]
  },
  {
   "cell_type": "markdown",
   "id": "e7bcbcdf-0d83-4871-8dc3-1744775dbf8e",
   "metadata": {},
   "source": [
    "## PCE Calculation"
   ]
  },
  {
   "cell_type": "code",
   "execution_count": 41,
   "id": "40f228a8-0c4f-40fb-bba1-08c57fec93f9",
   "metadata": {},
   "outputs": [],
   "source": [
    "# get risk measurements from PCE data set (Multiple)\n",
    "pce_pred_df, pce_df = ASCVD_Calc_PCE.pce_pred_df_tab(df, 8, 10)"
   ]
  },
  {
   "cell_type": "code",
   "execution_count": 42,
   "id": "0c5984b8-2f1f-4007-ba7d-83b0e358b572",
   "metadata": {},
   "outputs": [
    {
     "data": {
      "text/plain": [
       "3110"
      ]
     },
     "execution_count": 42,
     "metadata": {},
     "output_type": "execute_result"
    }
   ],
   "source": [
    "len(pce_pred_df)"
   ]
  },
  {
   "cell_type": "code",
   "execution_count": 43,
   "id": "64b5e41c-ac36-4cbc-9571-69a383b5aff4",
   "metadata": {},
   "outputs": [],
   "source": [
    "# calculate AUC \n",
    "def prediction_auc_PCE_df(pred_time, pred_time_index, pce_pred_df, cluster):\n",
    "    \"\"\"\n",
    "    Calculates the AUC of the PCE predictions at a given time\n",
    "    pred_time: pred time list of prediction times\n",
    "    pred_time_index: which prediction time in terms of position in the list \n",
    "    pce_pred_df: df of probability of PCE dataset\n",
    "    \"\"\"\n",
    "    global true, time_horizon\n",
    "    \n",
    "    time_horizon = pred_time + 10 \n",
    "    true = (te_time <= time_horizon) * (te_label == 1).astype(int)\n",
    "    \n",
    "    pce_pred_df['true_label'] = true\n",
    "    pce_pred_df = pce_pred_df.loc[~pce_pred_df.risk.isnull(),:]\n",
    "    \n",
    "    if cluster != 'none':\n",
    "        pce_pred_df = pce_pred_df.loc[pce_pred_df['labels'] == cluster, :]\n",
    "        \n",
    "    return pce_pred_df\n",
    "\n",
    "def prediction_auc_PCE(pred_time, pred_time_index, pce_pred_df, cluster):\n",
    "    \n",
    "    pce_pred_df = prediction_auc_PCE_df(pred_time, pred_time_index, pce_pred_df, cluster)\n",
    "    auc = roc_auc_score(pce_pred_df['true_label'].tolist(), pce_pred_df['risk'].tolist())\n",
    "    \n",
    "    return auc \n",
    "\n",
    "def prediction_ROC(pred_time, pred_time_index, pce_pred_df, cluster):\n",
    "    \n",
    "    pce_pred_df = prediction_auc_PCE_df(pred_time, pred_time_index, pce_pred_df, cluster)\n",
    "    fpr, tpr, thresh = roc_curve(pce_pred_df['true_label'].tolist(), pce_pred_df['risk'].tolist())\n",
    "    \n",
    "    return fpr, tpr, thresh"
   ]
  },
  {
   "cell_type": "code",
   "execution_count": 44,
   "id": "c82509b6-c34b-4499-a345-68ab25157bcf",
   "metadata": {},
   "outputs": [
    {
     "name": "stdout",
     "output_type": "stream",
     "text": [
      "NULL Risk Values from PCE:  0\n",
      "PCE AUC: 0.779\n"
     ]
    }
   ],
   "source": [
    "# Get PCE AUC for Each Prediction Year\n",
    "print('NULL Risk Values from PCE: ', pce_pred_df.risk.isna().sum())\n",
    "print('PCE AUC:', np.round(prediction_auc_PCE(8, 10, pce_pred_df, 'none'),3))"
   ]
  },
  {
   "cell_type": "markdown",
   "id": "3b29184e-a936-4033-ac53-b5504d61bdf0",
   "metadata": {},
   "source": [
    "## Get Risk Categories"
   ]
  },
  {
   "cell_type": "markdown",
   "id": "2c0c2c0c-9b15-4b91-8a10-b5f7a29462a4",
   "metadata": {},
   "source": [
    "#### Create Risk Categories\n",
    "1. Low: < 5% \n",
    "2. Borderline: 5% ~ 7.5% \n",
    "3. Intermediate: 7.5% ~ 20%\n",
    "4. High: > 20%"
   ]
  },
  {
   "cell_type": "code",
   "execution_count": 45,
   "id": "afe175d9-3692-4231-89e5-96bfa9dcd348",
   "metadata": {},
   "outputs": [],
   "source": [
    "pce_pred_df['risk_cat'] = 'Low Risk'\n",
    "pce_pred_df.loc[(pce_pred_df['risk'] >= 0.05) & (pce_pred_df['risk'] < 0.075), 'risk_cat'] = 'Borderline Risk'\n",
    "pce_pred_df.loc[(pce_pred_df['risk'] >= 0.075) & (pce_pred_df['risk'] < 0.2), 'risk_cat'] = 'Intermediate Risk'\n",
    "pce_pred_df.loc[(pce_pred_df['risk'] >= 0.2), 'risk_cat'] = 'High Risk'"
   ]
  },
  {
   "cell_type": "markdown",
   "id": "eb44f078-9d6f-4e2b-95e7-a876b6bdf731",
   "metadata": {},
   "source": [
    "#### DDH Risk Breakdown by PCE Standards"
   ]
  },
  {
   "cell_type": "code",
   "execution_count": 46,
   "id": "07d7546f-15b0-4e12-b612-2258d92d2fe6",
   "metadata": {},
   "outputs": [
    {
     "data": {
      "text/plain": [
       "Low Risk             47.9\n",
       "Intermediate Risk    27.9\n",
       "Borderline Risk      14.1\n",
       "High Risk            10.0\n",
       "Name: risk_cat, dtype: float64"
      ]
     },
     "execution_count": 46,
     "metadata": {},
     "output_type": "execute_result"
    }
   ],
   "source": [
    "round(pce_pred_df.risk_cat.value_counts() / len(pce_pred_df),3)*100"
   ]
  },
  {
   "cell_type": "code",
   "execution_count": 47,
   "id": "c137abe9-9ae3-4902-8be0-70fd73ac6340",
   "metadata": {},
   "outputs": [
    {
     "data": {
      "text/html": [
       "<div>\n",
       "<style scoped>\n",
       "    .dataframe tbody tr th:only-of-type {\n",
       "        vertical-align: middle;\n",
       "    }\n",
       "\n",
       "    .dataframe tbody tr th {\n",
       "        vertical-align: top;\n",
       "    }\n",
       "\n",
       "    .dataframe thead th {\n",
       "        text-align: right;\n",
       "    }\n",
       "</style>\n",
       "<table border=\"1\" class=\"dataframe\">\n",
       "  <thead>\n",
       "    <tr style=\"text-align: right;\">\n",
       "      <th></th>\n",
       "      <th>risk_cat</th>\n",
       "      <th>true_label</th>\n",
       "      <th>counts</th>\n",
       "      <th>total_counts</th>\n",
       "      <th>percentage</th>\n",
       "    </tr>\n",
       "  </thead>\n",
       "  <tbody>\n",
       "    <tr>\n",
       "      <th>0</th>\n",
       "      <td>Borderline Risk</td>\n",
       "      <td>0</td>\n",
       "      <td>417</td>\n",
       "      <td>439</td>\n",
       "      <td>95.0</td>\n",
       "    </tr>\n",
       "    <tr>\n",
       "      <th>1</th>\n",
       "      <td>Borderline Risk</td>\n",
       "      <td>1</td>\n",
       "      <td>22</td>\n",
       "      <td>439</td>\n",
       "      <td>5.0</td>\n",
       "    </tr>\n",
       "    <tr>\n",
       "      <th>2</th>\n",
       "      <td>High Risk</td>\n",
       "      <td>0</td>\n",
       "      <td>241</td>\n",
       "      <td>312</td>\n",
       "      <td>77.2</td>\n",
       "    </tr>\n",
       "    <tr>\n",
       "      <th>3</th>\n",
       "      <td>High Risk</td>\n",
       "      <td>1</td>\n",
       "      <td>71</td>\n",
       "      <td>312</td>\n",
       "      <td>22.8</td>\n",
       "    </tr>\n",
       "    <tr>\n",
       "      <th>4</th>\n",
       "      <td>Intermediate Risk</td>\n",
       "      <td>0</td>\n",
       "      <td>793</td>\n",
       "      <td>869</td>\n",
       "      <td>91.3</td>\n",
       "    </tr>\n",
       "    <tr>\n",
       "      <th>5</th>\n",
       "      <td>Intermediate Risk</td>\n",
       "      <td>1</td>\n",
       "      <td>76</td>\n",
       "      <td>869</td>\n",
       "      <td>8.7</td>\n",
       "    </tr>\n",
       "    <tr>\n",
       "      <th>6</th>\n",
       "      <td>Low Risk</td>\n",
       "      <td>0</td>\n",
       "      <td>1464</td>\n",
       "      <td>1490</td>\n",
       "      <td>98.3</td>\n",
       "    </tr>\n",
       "    <tr>\n",
       "      <th>7</th>\n",
       "      <td>Low Risk</td>\n",
       "      <td>1</td>\n",
       "      <td>26</td>\n",
       "      <td>1490</td>\n",
       "      <td>1.7</td>\n",
       "    </tr>\n",
       "  </tbody>\n",
       "</table>\n",
       "</div>"
      ],
      "text/plain": [
       "            risk_cat  true_label  counts  total_counts  percentage\n",
       "0    Borderline Risk           0     417           439        95.0\n",
       "1    Borderline Risk           1      22           439         5.0\n",
       "2          High Risk           0     241           312        77.2\n",
       "3          High Risk           1      71           312        22.8\n",
       "4  Intermediate Risk           0     793           869        91.3\n",
       "5  Intermediate Risk           1      76           869         8.7\n",
       "6           Low Risk           0    1464          1490        98.3\n",
       "7           Low Risk           1      26          1490         1.7"
      ]
     },
     "execution_count": 47,
     "metadata": {},
     "output_type": "execute_result"
    }
   ],
   "source": [
    "test = pd.DataFrame(pce_pred_df.groupby('risk_cat').true_label.value_counts()).rename(columns = {'true_label' : 'counts'}).reset_index()\n",
    "test2 = pd.DataFrame(pce_pred_df.risk_cat.value_counts()).reset_index().rename(columns = {'risk_cat' : 'total_counts', 'index' : 'risk_cat'})\n",
    "test = pd.merge(test, test2)\n",
    "test['percentage'] = round(test['counts'] / test['total_counts'],3) * 100\n",
    "test"
   ]
  },
  {
   "cell_type": "code",
   "execution_count": 48,
   "id": "f0440926-4660-4852-8afd-09759ac32fcc",
   "metadata": {},
   "outputs": [],
   "source": [
    "pce_pred_df.to_csv('pce_pred_df.csv', index = False)"
   ]
  },
  {
   "cell_type": "markdown",
   "id": "99b211af-e9c0-42aa-a179-52b6f9d6fd86",
   "metadata": {},
   "source": [
    "## Compare Risk Categories"
   ]
  },
  {
   "cell_type": "code",
   "execution_count": 98,
   "id": "c98ef54a-f87e-45a7-beeb-25fc32ead1e0",
   "metadata": {},
   "outputs": [],
   "source": [
    "ddh_pred_df = pd.read_csv('/Users/excenity/Dropbox/HSIP/Research/MESA/Output/DDH_pred_df.csv')\n",
    "\n",
    "ddh_pred_df = ddh_pred_df.loc[:, ['pt_id', 'value']].rename(columns = {'value' : 'ddh_risk'})\n",
    "\n",
    "pred_df = pd.merge(ddh_pred_df, pce_pred_df.loc[:,['risk', 'true_label', 'risk_cat']].reset_index().rename(columns = {'index' : 'pt_id'})).rename(columns = {'risk' : 'pce_risk'})"
   ]
  },
  {
   "cell_type": "code",
   "execution_count": 99,
   "id": "8d77e8d0-d6d8-4f43-a9b9-265dd9d7b848",
   "metadata": {},
   "outputs": [
    {
     "data": {
      "text/plain": [
       "risk_cat\n",
       "Borderline Risk      0.062\n",
       "High Risk            0.309\n",
       "Intermediate Risk    0.121\n",
       "Low Risk             0.022\n",
       "Name: pce_risk, dtype: float64"
      ]
     },
     "execution_count": 99,
     "metadata": {},
     "output_type": "execute_result"
    }
   ],
   "source": [
    "# Mean PCE Risk\n",
    "round(pred_df.groupby('risk_cat').pce_risk.mean(),3)"
   ]
  },
  {
   "cell_type": "code",
   "execution_count": 100,
   "id": "e5eda650-96b6-4c9a-bc49-c1f793a39b05",
   "metadata": {},
   "outputs": [
    {
     "data": {
      "text/plain": [
       "risk_cat\n",
       "Borderline Risk      0.066\n",
       "High Risk            0.110\n",
       "Intermediate Risk    0.091\n",
       "Low Risk             0.036\n",
       "Name: ddh_risk, dtype: float64"
      ]
     },
     "execution_count": 100,
     "metadata": {},
     "output_type": "execute_result"
    }
   ],
   "source": [
    "# Mean DDH Risk\n",
    "round(pred_df.groupby('risk_cat').ddh_risk.mean(),3)"
   ]
  },
  {
   "cell_type": "markdown",
   "id": "8b434ec7-c9f5-4b51-a7cd-156cc7089d22",
   "metadata": {},
   "source": [
    "### PCE AUC by Risk Category"
   ]
  },
  {
   "cell_type": "code",
   "execution_count": 101,
   "id": "1cea855c-b577-4c19-9304-3dcc92853210",
   "metadata": {},
   "outputs": [
    {
     "name": "stdout",
     "output_type": "stream",
     "text": [
      "0.693\n",
      "0.498\n",
      "0.613\n",
      "0.55\n"
     ]
    }
   ],
   "source": [
    "# get accuracy scores for each risk category\n",
    "print(round(roc_auc_score(pred_df.loc[pred_df['risk_cat'] == 'Low Risk', 'true_label'], pred_df.loc[pred_df['risk_cat'] == 'Low Risk', 'pce_risk']), 3))\n",
    "print(round(roc_auc_score(pred_df.loc[pred_df['risk_cat'] == 'Borderline Risk', 'true_label'], pred_df.loc[pred_df['risk_cat'] == 'Borderline Risk', 'pce_risk']), 3))\n",
    "print(round(roc_auc_score(pred_df.loc[pred_df['risk_cat'] == 'Intermediate Risk', 'true_label'], pred_df.loc[pred_df['risk_cat'] == 'Intermediate Risk', 'pce_risk']),3))\n",
    "print(round(roc_auc_score(pred_df.loc[pred_df['risk_cat'] == 'High Risk', 'true_label'], pred_df.loc[pred_df['risk_cat'] == 'High Risk', 'pce_risk']), 3))"
   ]
  },
  {
   "cell_type": "markdown",
   "id": "9257d135-fa95-4958-9b96-a6519b1c7702",
   "metadata": {},
   "source": [
    "### DDH AUC by Risk Category"
   ]
  },
  {
   "cell_type": "code",
   "execution_count": 102,
   "id": "79330a70-14a8-43b1-a9d3-6cff87d885ac",
   "metadata": {},
   "outputs": [
    {
     "name": "stdout",
     "output_type": "stream",
     "text": [
      "0.595\n",
      "0.557\n",
      "0.601\n",
      "0.537\n"
     ]
    }
   ],
   "source": [
    "# get accuracy scores for each risk category\n",
    "print(round(roc_auc_score(pred_df.loc[pred_df['risk_cat'] == 'Low Risk', 'true_label'], pred_df.loc[pred_df['risk_cat'] == 'Low Risk', 'ddh_risk']), 3))\n",
    "print(round(roc_auc_score(pred_df.loc[pred_df['risk_cat'] == 'Borderline Risk', 'true_label'], pred_df.loc[pred_df['risk_cat'] == 'Borderline Risk', 'ddh_risk']), 3))\n",
    "print(round(roc_auc_score(pred_df.loc[pred_df['risk_cat'] == 'Intermediate Risk', 'true_label'], pred_df.loc[pred_df['risk_cat'] == 'Intermediate Risk', 'ddh_risk']),3))\n",
    "print(round(roc_auc_score(pred_df.loc[pred_df['risk_cat'] == 'High Risk', 'true_label'], pred_df.loc[pred_df['risk_cat'] == 'High Risk', 'ddh_risk']), 3))"
   ]
  },
  {
   "cell_type": "code",
   "execution_count": 103,
   "id": "bbe3e608-0971-4a81-97fe-094cd06d7ed8",
   "metadata": {},
   "outputs": [
    {
     "ename": "TypeError",
     "evalue": "from_predictions() missing 2 required positional arguments: 'y_true' and 'y_pred'",
     "output_type": "error",
     "traceback": [
      "\u001b[0;31m---------------------------------------------------------------------------\u001b[0m",
      "\u001b[0;31mTypeError\u001b[0m                                 Traceback (most recent call last)",
      "\u001b[0;32m/var/folders/7k/yrv6y35s5csc27_c3qxw37z80000gn/T/ipykernel_37819/655572757.py\u001b[0m in \u001b[0;36m<module>\u001b[0;34m\u001b[0m\n\u001b[0;32m----> 1\u001b[0;31m \u001b[0mRocCurveDisplay\u001b[0m\u001b[0;34m.\u001b[0m\u001b[0mfrom_predictions\u001b[0m\u001b[0;34m(\u001b[0m\u001b[0;34m)\u001b[0m\u001b[0;34m\u001b[0m\u001b[0;34m\u001b[0m\u001b[0m\n\u001b[0m",
      "\u001b[0;31mTypeError\u001b[0m: from_predictions() missing 2 required positional arguments: 'y_true' and 'y_pred'"
     ]
    }
   ],
   "source": [
    "RocCurveDisplay.from_predictions()"
   ]
  },
  {
   "cell_type": "code",
   "execution_count": null,
   "id": "312b04f8-590a-4225-a2f9-db0307e569d4",
   "metadata": {},
   "outputs": [],
   "source": []
  }
 ],
 "metadata": {
  "kernelspec": {
   "display_name": "Python 3 (ipykernel)",
   "language": "python",
   "name": "python3"
  },
  "language_info": {
   "codemirror_mode": {
    "name": "ipython",
    "version": 3
   },
   "file_extension": ".py",
   "mimetype": "text/x-python",
   "name": "python",
   "nbconvert_exporter": "python",
   "pygments_lexer": "ipython3",
   "version": "3.8.8"
  }
 },
 "nbformat": 4,
 "nbformat_minor": 5
}
