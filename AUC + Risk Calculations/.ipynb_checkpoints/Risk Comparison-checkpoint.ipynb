{
 "cells": [
  {
   "cell_type": "markdown",
   "metadata": {},
   "source": [
    "# Risk Comparsion"
   ]
  },
  {
   "cell_type": "markdown",
   "metadata": {},
   "source": [
    "1. Get rankings of risk prediction scores from PCE and DDH\n",
    "2. Look at their relative positions \n",
    "3. See how many of them are reclassified. "
   ]
  },
  {
   "cell_type": "markdown",
   "metadata": {},
   "source": [
    "## Project PCE thresholds DDH Risks"
   ]
  },
  {
   "cell_type": "code",
   "execution_count": 1,
   "metadata": {},
   "outputs": [],
   "source": [
    "import pandas as pd"
   ]
  },
  {
   "cell_type": "code",
   "execution_count": 2,
   "metadata": {},
   "outputs": [],
   "source": [
    "ddh_risk_df = pd.read_csv('/Users/excenity/Documents/HSIP/Research/Longitudinal PCE/GitHub/Dynamic-DeepHit LRPP/DDH_pred_df.csv')"
   ]
  },
  {
   "cell_type": "code",
   "execution_count": 3,
   "metadata": {},
   "outputs": [],
   "source": [
    "# clean up extra obs\n",
    "pce_exclude = pd.read_csv('PCE_excluded.csv')\n",
    "ddh_risk_df = ddh_risk_df.loc[~ddh_risk_df['pt_id'].isin(pce_exclude['index']),]\n",
    "ddh_risk_df = ddh_risk_df.reset_index().reset_index().drop(columns = ['index'])\n",
    "ddh_risk_df['pt_id'] = ddh_risk_df['level_0']"
   ]
  },
  {
   "cell_type": "code",
   "execution_count": 4,
   "metadata": {},
   "outputs": [],
   "source": [
    "ddh_risk_df['risk_category'] = 'low'\n",
    "ddh_risk_df.loc[(ddh_risk_df['value'] >= 0.05) & (ddh_risk_df['value'] < 0.075), 'risk_category'] = 'borderline'\n",
    "ddh_risk_df.loc[(ddh_risk_df['value'] >= 0.075) & (ddh_risk_df['value'] < 0.2), 'risk_category'] = 'intermediate'\n",
    "ddh_risk_df.loc[(ddh_risk_df['value'] >= 0.20), 'risk_category'] = 'high'"
   ]
  },
  {
   "cell_type": "code",
   "execution_count": 5,
   "metadata": {},
   "outputs": [
    {
     "data": {
      "text/plain": [
       "intermediate    0.465273\n",
       "low             0.372669\n",
       "borderline      0.162058\n",
       "Name: risk_category, dtype: float64"
      ]
     },
     "execution_count": 5,
     "metadata": {},
     "output_type": "execute_result"
    }
   ],
   "source": [
    "ddh_risk_df.risk_category.value_counts()/len(ddh_risk_df)"
   ]
  },
  {
   "cell_type": "code",
   "execution_count": 6,
   "metadata": {},
   "outputs": [
    {
     "data": {
      "text/plain": [
       "<AxesSubplot:>"
      ]
     },
     "execution_count": 6,
     "metadata": {},
     "output_type": "execute_result"
    },
    {
     "data": {
      "image/png": "[encoded data removed]",
      "text/plain": [
       "<Figure size 432x288 with 1 Axes>"
      ]
     },
     "metadata": {
      "needs_background": "light"
     },
     "output_type": "display_data"
    }
   ],
   "source": [
    "ddh_risk_df.value.hist()"
   ]
  },
  {
   "cell_type": "code",
   "execution_count": 7,
   "metadata": {},
   "outputs": [
    {
     "data": {
      "text/html": [
       "<div>\n",
       "<style scoped>\n",
       "    .dataframe tbody tr th:only-of-type {\n",
       "        vertical-align: middle;\n",
       "    }\n",
       "\n",
       "    .dataframe tbody tr th {\n",
       "        vertical-align: top;\n",
       "    }\n",
       "\n",
       "    .dataframe thead th {\n",
       "        text-align: right;\n",
       "    }\n",
       "</style>\n",
       "<table border=\"1\" class=\"dataframe\">\n",
       "  <thead>\n",
       "    <tr style=\"text-align: right;\">\n",
       "      <th></th>\n",
       "      <th>level_0</th>\n",
       "      <th>pt_id</th>\n",
       "      <th>pred_time</th>\n",
       "      <th>eval_time</th>\n",
       "      <th>value</th>\n",
       "      <th>risk_category</th>\n",
       "    </tr>\n",
       "  </thead>\n",
       "  <tbody>\n",
       "    <tr>\n",
       "      <th>0</th>\n",
       "      <td>0</td>\n",
       "      <td>0</td>\n",
       "      <td>1</td>\n",
       "      <td>0</td>\n",
       "      <td>0.017411</td>\n",
       "      <td>low</td>\n",
       "    </tr>\n",
       "    <tr>\n",
       "      <th>1</th>\n",
       "      <td>1</td>\n",
       "      <td>1</td>\n",
       "      <td>1</td>\n",
       "      <td>0</td>\n",
       "      <td>0.072617</td>\n",
       "      <td>borderline</td>\n",
       "    </tr>\n",
       "    <tr>\n",
       "      <th>2</th>\n",
       "      <td>2</td>\n",
       "      <td>2</td>\n",
       "      <td>1</td>\n",
       "      <td>0</td>\n",
       "      <td>0.057481</td>\n",
       "      <td>borderline</td>\n",
       "    </tr>\n",
       "    <tr>\n",
       "      <th>3</th>\n",
       "      <td>3</td>\n",
       "      <td>3</td>\n",
       "      <td>1</td>\n",
       "      <td>0</td>\n",
       "      <td>0.014913</td>\n",
       "      <td>low</td>\n",
       "    </tr>\n",
       "    <tr>\n",
       "      <th>4</th>\n",
       "      <td>4</td>\n",
       "      <td>4</td>\n",
       "      <td>1</td>\n",
       "      <td>0</td>\n",
       "      <td>0.109962</td>\n",
       "      <td>intermediate</td>\n",
       "    </tr>\n",
       "    <tr>\n",
       "      <th>...</th>\n",
       "      <td>...</td>\n",
       "      <td>...</td>\n",
       "      <td>...</td>\n",
       "      <td>...</td>\n",
       "      <td>...</td>\n",
       "      <td>...</td>\n",
       "    </tr>\n",
       "    <tr>\n",
       "      <th>3105</th>\n",
       "      <td>3105</td>\n",
       "      <td>3105</td>\n",
       "      <td>1</td>\n",
       "      <td>0</td>\n",
       "      <td>0.020543</td>\n",
       "      <td>low</td>\n",
       "    </tr>\n",
       "    <tr>\n",
       "      <th>3106</th>\n",
       "      <td>3106</td>\n",
       "      <td>3106</td>\n",
       "      <td>1</td>\n",
       "      <td>0</td>\n",
       "      <td>0.035277</td>\n",
       "      <td>low</td>\n",
       "    </tr>\n",
       "    <tr>\n",
       "      <th>3107</th>\n",
       "      <td>3107</td>\n",
       "      <td>3107</td>\n",
       "      <td>1</td>\n",
       "      <td>0</td>\n",
       "      <td>0.017955</td>\n",
       "      <td>low</td>\n",
       "    </tr>\n",
       "    <tr>\n",
       "      <th>3108</th>\n",
       "      <td>3108</td>\n",
       "      <td>3108</td>\n",
       "      <td>1</td>\n",
       "      <td>0</td>\n",
       "      <td>0.045019</td>\n",
       "      <td>low</td>\n",
       "    </tr>\n",
       "    <tr>\n",
       "      <th>3109</th>\n",
       "      <td>3109</td>\n",
       "      <td>3109</td>\n",
       "      <td>1</td>\n",
       "      <td>0</td>\n",
       "      <td>0.125993</td>\n",
       "      <td>intermediate</td>\n",
       "    </tr>\n",
       "  </tbody>\n",
       "</table>\n",
       "<p>3110 rows × 6 columns</p>\n",
       "</div>"
      ],
      "text/plain": [
       "      level_0  pt_id  pred_time  eval_time     value risk_category\n",
       "0           0      0          1          0  0.017411           low\n",
       "1           1      1          1          0  0.072617    borderline\n",
       "2           2      2          1          0  0.057481    borderline\n",
       "3           3      3          1          0  0.014913           low\n",
       "4           4      4          1          0  0.109962  intermediate\n",
       "...       ...    ...        ...        ...       ...           ...\n",
       "3105     3105   3105          1          0  0.020543           low\n",
       "3106     3106   3106          1          0  0.035277           low\n",
       "3107     3107   3107          1          0  0.017955           low\n",
       "3108     3108   3108          1          0  0.045019           low\n",
       "3109     3109   3109          1          0  0.125993  intermediate\n",
       "\n",
       "[3110 rows x 6 columns]"
      ]
     },
     "execution_count": 7,
     "metadata": {},
     "output_type": "execute_result"
    }
   ],
   "source": [
    "ddh_risk_df"
   ]
  },
  {
   "cell_type": "markdown",
   "metadata": {},
   "source": [
    "## Ranking Comparison"
   ]
  },
  {
   "cell_type": "code",
   "execution_count": 8,
   "metadata": {},
   "outputs": [],
   "source": [
    "pce_pred_df = pd.read_csv('/Users/excenity/Documents/HSIP/Research/Longitudinal PCE/GitHub/Dynamic-DeepHit LRPP/AUC + Risk Calculations/pce_pred_df.csv')"
   ]
  },
  {
   "cell_type": "code",
   "execution_count": 9,
   "metadata": {},
   "outputs": [],
   "source": [
    "pce_pred_df_order = pce_pred_df.loc[:,['risk', 'risk_cat', 'true_label']].sort_values('risk').reset_index().rename(columns = {'index': 'id'}).reset_index().rename(columns = {'index': 'risk_order_pce'})"
   ]
  },
  {
   "cell_type": "code",
   "execution_count": 10,
   "metadata": {},
   "outputs": [],
   "source": [
    "ddh_risk_df = ddh_risk_df.loc[ddh_risk_df.pt_id.isin(pce_pred_df_order['id']),]\n",
    "ddh_risk_df_order = ddh_risk_df.loc[:,['value', 'risk_category']].sort_values('value').reset_index().rename(columns = {'index': 'id'}).reset_index().rename(columns = {'index': 'risk_order_ddh'})"
   ]
  },
  {
   "cell_type": "code",
   "execution_count": 11,
   "metadata": {
    "tags": []
   },
   "outputs": [],
   "source": [
    "pce_pred_df_order = pce_pred_df_order.rename(columns = {'risk_cat' : 'risk_cat_pce'})\n",
    "ddh_risk_df_order = ddh_risk_df_order.rename(columns = {'risk_category' : 'risk_cat_ddh'})"
   ]
  },
  {
   "cell_type": "code",
   "execution_count": 12,
   "metadata": {},
   "outputs": [],
   "source": [
    "risk_df_order = pd.merge(pce_pred_df_order, ddh_risk_df_order)"
   ]
  },
  {
   "cell_type": "code",
   "execution_count": 13,
   "metadata": {},
   "outputs": [],
   "source": [
    "risk_df_order.to_csv('risk_df_order.csv', index = False)"
   ]
  },
  {
   "cell_type": "markdown",
   "metadata": {},
   "source": [
    "## Race & Sex Category Comparison\n",
    "Race Category:\n",
    "1. White \n",
    "2. Black \n",
    "\n",
    "Sex Category:\n",
    "1. Male\n",
    "2. Female"
   ]
  },
  {
   "cell_type": "code",
   "execution_count": 23,
   "metadata": {},
   "outputs": [],
   "source": [
    "df = pd.read_csv('/Volumes/fsmresfiles/PrevMed/Projects/MESA_RiskPred/LRPP data/LRPP_select.csv')\n",
    "indecies_test = pd.read_csv('/Volumes/fsmresfiles/PrevMed/Projects/MESA_RiskPred/LRPP data/random_index_select.csv')\n",
    "indecies_test.columns = ['index', 'label', 'study_index']\n",
    "indecies_test = indecies_test.loc[indecies_test['study_index'] == True, :]\n",
    "df = df.loc[df['id'].isin(indecies_test['index']), :]\n",
    "# filter out patients without data before 8 years\n",
    "max_age_before_threshold = df.loc[df['times'] <= 8, :].groupby('id').times.max().reset_index()\n",
    "df = df.loc[df['id'].isin(max_age_before_threshold['id']), :]\n",
    "\n",
    "# gender \n",
    "df = df[['id', 'race', 'gender', 'age']].drop_duplicates().reset_index().reset_index().drop(columns=('index'))\n",
    "df['id'] = df['level_0']\n",
    "\n",
    "# merge datasets \n",
    "risk_demo = pd.merge(risk_df_order, df[['id', 'race', 'gender', 'age']]) "
   ]
  },
  {
   "cell_type": "code",
   "execution_count": 24,
   "metadata": {},
   "outputs": [],
   "source": [
    "from sklearn.metrics import roc_auc_score"
   ]
  },
  {
   "cell_type": "code",
   "execution_count": 25,
   "metadata": {},
   "outputs": [
    {
     "data": {
      "text/html": [
       "<div>\n",
       "<style scoped>\n",
       "    .dataframe tbody tr th:only-of-type {\n",
       "        vertical-align: middle;\n",
       "    }\n",
       "\n",
       "    .dataframe tbody tr th {\n",
       "        vertical-align: top;\n",
       "    }\n",
       "\n",
       "    .dataframe thead th {\n",
       "        text-align: right;\n",
       "    }\n",
       "</style>\n",
       "<table border=\"1\" class=\"dataframe\">\n",
       "  <thead>\n",
       "    <tr style=\"text-align: right;\">\n",
       "      <th></th>\n",
       "      <th>risk_order_pce</th>\n",
       "      <th>id</th>\n",
       "      <th>risk</th>\n",
       "      <th>risk_cat_pce</th>\n",
       "      <th>true_label</th>\n",
       "      <th>risk_order_ddh</th>\n",
       "      <th>value</th>\n",
       "      <th>risk_cat_ddh</th>\n",
       "      <th>race</th>\n",
       "      <th>gender</th>\n",
       "      <th>age</th>\n",
       "    </tr>\n",
       "  </thead>\n",
       "  <tbody>\n",
       "    <tr>\n",
       "      <th>0</th>\n",
       "      <td>0</td>\n",
       "      <td>2129</td>\n",
       "      <td>0.001</td>\n",
       "      <td>Low Risk</td>\n",
       "      <td>0</td>\n",
       "      <td>132</td>\n",
       "      <td>0.010692</td>\n",
       "      <td>low</td>\n",
       "      <td>1</td>\n",
       "      <td>1</td>\n",
       "      <td>56.0</td>\n",
       "    </tr>\n",
       "    <tr>\n",
       "      <th>1</th>\n",
       "      <td>1</td>\n",
       "      <td>2406</td>\n",
       "      <td>0.001</td>\n",
       "      <td>Low Risk</td>\n",
       "      <td>0</td>\n",
       "      <td>37</td>\n",
       "      <td>0.006730</td>\n",
       "      <td>low</td>\n",
       "      <td>1</td>\n",
       "      <td>1</td>\n",
       "      <td>53.0</td>\n",
       "    </tr>\n",
       "    <tr>\n",
       "      <th>2</th>\n",
       "      <td>2</td>\n",
       "      <td>1787</td>\n",
       "      <td>0.001</td>\n",
       "      <td>Low Risk</td>\n",
       "      <td>0</td>\n",
       "      <td>25</td>\n",
       "      <td>0.006030</td>\n",
       "      <td>low</td>\n",
       "      <td>1</td>\n",
       "      <td>2</td>\n",
       "      <td>60.0</td>\n",
       "    </tr>\n",
       "    <tr>\n",
       "      <th>3</th>\n",
       "      <td>3</td>\n",
       "      <td>3019</td>\n",
       "      <td>0.001</td>\n",
       "      <td>Low Risk</td>\n",
       "      <td>0</td>\n",
       "      <td>18</td>\n",
       "      <td>0.005684</td>\n",
       "      <td>low</td>\n",
       "      <td>1</td>\n",
       "      <td>2</td>\n",
       "      <td>56.0</td>\n",
       "    </tr>\n",
       "    <tr>\n",
       "      <th>4</th>\n",
       "      <td>4</td>\n",
       "      <td>2160</td>\n",
       "      <td>0.001</td>\n",
       "      <td>Low Risk</td>\n",
       "      <td>0</td>\n",
       "      <td>73</td>\n",
       "      <td>0.008648</td>\n",
       "      <td>low</td>\n",
       "      <td>1</td>\n",
       "      <td>1</td>\n",
       "      <td>55.0</td>\n",
       "    </tr>\n",
       "  </tbody>\n",
       "</table>\n",
       "</div>"
      ],
      "text/plain": [
       "   risk_order_pce    id   risk risk_cat_pce  true_label  risk_order_ddh  \\\n",
       "0               0  2129  0.001     Low Risk           0             132   \n",
       "1               1  2406  0.001     Low Risk           0              37   \n",
       "2               2  1787  0.001     Low Risk           0              25   \n",
       "3               3  3019  0.001     Low Risk           0              18   \n",
       "4               4  2160  0.001     Low Risk           0              73   \n",
       "\n",
       "      value risk_cat_ddh  race  gender   age  \n",
       "0  0.010692          low     1       1  56.0  \n",
       "1  0.006730          low     1       1  53.0  \n",
       "2  0.006030          low     1       2  60.0  \n",
       "3  0.005684          low     1       2  56.0  \n",
       "4  0.008648          low     1       1  55.0  "
      ]
     },
     "execution_count": 25,
     "metadata": {},
     "output_type": "execute_result"
    }
   ],
   "source": [
    "risk_demo.head()"
   ]
  },
  {
   "cell_type": "markdown",
   "metadata": {},
   "source": [
    "### Race"
   ]
  },
  {
   "cell_type": "code",
   "execution_count": 44,
   "metadata": {},
   "outputs": [
    {
     "name": "stdout",
     "output_type": "stream",
     "text": [
      "PCE AUC White: 0.7726637906484978\n",
      "DDH AUC White: 0.7913831546930193\n"
     ]
    }
   ],
   "source": [
    "risk_demo_white = risk_demo.loc[risk_demo['race'] == 1, :]\n",
    "print('PCE AUC White:', roc_auc_score(risk_demo_white['true_label'], risk_demo_white['risk']))\n",
    "print('DDH AUC White:', roc_auc_score(risk_demo_white['true_label'], risk_demo_white['value']))\n",
    "risk_demo_white.to_csv(\n",
    "    '/Users/excenity/Documents/HSIP/Research/Longitudinal PCE/Output/Demographic Comparison AUCs/risk_demo_white.csv', index = False)"
   ]
  },
  {
   "cell_type": "code",
   "execution_count": 46,
   "metadata": {},
   "outputs": [
    {
     "name": "stdout",
     "output_type": "stream",
     "text": [
      "PCE AUC Black: 0.7979330340441453\n",
      "DDH AUC Black: 0.8172777154258636\n"
     ]
    }
   ],
   "source": [
    "risk_demo_black = risk_demo.loc[risk_demo['race'] == 2, :]\n",
    "print('PCE AUC Black:', roc_auc_score(risk_demo_black['true_label'], risk_demo_black['risk']))\n",
    "print('DDH AUC Black:', roc_auc_score(risk_demo_black['true_label'], risk_demo_black['value']))\n",
    "risk_demo_black.to_csv(\n",
    "    '/Users/excenity/Documents/HSIP/Research/Longitudinal PCE/Output/Demographic Comparison AUCs/risk_demo_black.csv', index = False)"
   ]
  },
  {
   "cell_type": "markdown",
   "metadata": {},
   "source": [
    "### Sex"
   ]
  },
  {
   "cell_type": "code",
   "execution_count": 47,
   "metadata": {},
   "outputs": [
    {
     "name": "stdout",
     "output_type": "stream",
     "text": [
      "PCE AUC Males: 0.7695474251448482\n",
      "DDH AUC Males: 0.7869170617073863\n"
     ]
    }
   ],
   "source": [
    "risk_demo_males = risk_demo.loc[risk_demo['gender'] == 1, :]\n",
    "print('PCE AUC Males:', roc_auc_score(risk_demo_males['true_label'], risk_demo_males['risk']))\n",
    "print('DDH AUC Males:', roc_auc_score(risk_demo_males['true_label'], risk_demo_males['value']))\n",
    "risk_demo_males.to_csv(\n",
    "    '/Users/excenity/Documents/HSIP/Research/Longitudinal PCE/Output/Demographic Comparison AUCs/risk_demo_males.csv', index = False)"
   ]
  },
  {
   "cell_type": "code",
   "execution_count": 48,
   "metadata": {},
   "outputs": [
    {
     "name": "stdout",
     "output_type": "stream",
     "text": [
      "PCE AUC Females: 0.7877537128712871\n",
      "DDH AUC Females: 0.8068440594059406\n"
     ]
    }
   ],
   "source": [
    "risk_demo_females = risk_demo.loc[risk_demo['gender'] == 2, :]\n",
    "print('PCE AUC Females:', roc_auc_score(risk_demo_females['true_label'], risk_demo_females['risk']))\n",
    "print('DDH AUC Females:', roc_auc_score(risk_demo_females['true_label'], risk_demo_females['value']))\n",
    "risk_demo_females.to_csv(\n",
    "    '/Users/excenity/Documents/HSIP/Research/Longitudinal PCE/Output/Demographic Comparison AUCs/risk_demo_females.csv', index = False)"
   ]
  },
  {
   "cell_type": "markdown",
   "metadata": {},
   "source": [
    "### Age"
   ]
  },
  {
   "cell_type": "code",
   "execution_count": 35,
   "metadata": {},
   "outputs": [
    {
     "data": {
      "text/plain": [
       "<60     1841\n",
       ">=60    1269\n",
       "Name: age_cat, dtype: int64"
      ]
     },
     "execution_count": 35,
     "metadata": {},
     "output_type": "execute_result"
    }
   ],
   "source": [
    "risk_demo.age_cat.value_counts()"
   ]
  },
  {
   "cell_type": "code",
   "execution_count": 34,
   "metadata": {},
   "outputs": [],
   "source": [
    "risk_demo['age_cat'] = '<60'\n",
    "risk_demo.loc[risk_demo['age']>= 60, 'age_cat'] = '>=60'"
   ]
  },
  {
   "cell_type": "code",
   "execution_count": 38,
   "metadata": {},
   "outputs": [
    {
     "name": "stdout",
     "output_type": "stream",
     "text": [
      "PCE AUC <60: 0.7668630711393871\n",
      "DDH AUC <60: 0.7909686647938527\n"
     ]
    }
   ],
   "source": [
    "risk_demo_lessthan60 = risk_demo.loc[risk_demo['age_cat'] == '<60', :]\n",
    "print('PCE AUC <60:', roc_auc_score(risk_demo_lessthan60['true_label'], risk_demo_lessthan60['risk']))\n",
    "print('DDH AUC <60:', roc_auc_score(risk_demo_lessthan60['true_label'], risk_demo_lessthan60['value']))"
   ]
  },
  {
   "cell_type": "code",
   "execution_count": 40,
   "metadata": {},
   "outputs": [
    {
     "name": "stdout",
     "output_type": "stream",
     "text": [
      "PCE AUC >=60: 0.7952213576058026\n",
      "DDH AUC >=60: 0.8064517767528799\n"
     ]
    }
   ],
   "source": [
    "risk_demo_morethan60 = risk_demo.loc[risk_demo['age_cat'] == '>=60', :]\n",
    "print('PCE AUC >=60:', roc_auc_score(risk_demo_morethan60['true_label'], risk_demo_morethan60['risk']))\n",
    "print('DDH AUC >=60:', roc_auc_score(risk_demo_morethan60['true_label'], risk_demo_morethan60['value']))"
   ]
  },
  {
   "cell_type": "markdown",
   "metadata": {},
   "source": [
    "## AUPRC Calculation"
   ]
  },
  {
   "cell_type": "code",
   "execution_count": 41,
   "metadata": {},
   "outputs": [],
   "source": [
    "risk_df = pd.read_csv('risk_df_order.csv')"
   ]
  },
  {
   "cell_type": "code",
   "execution_count": 42,
   "metadata": {},
   "outputs": [
    {
     "data": {
      "text/html": [
       "<div>\n",
       "<style scoped>\n",
       "    .dataframe tbody tr th:only-of-type {\n",
       "        vertical-align: middle;\n",
       "    }\n",
       "\n",
       "    .dataframe tbody tr th {\n",
       "        vertical-align: top;\n",
       "    }\n",
       "\n",
       "    .dataframe thead th {\n",
       "        text-align: right;\n",
       "    }\n",
       "</style>\n",
       "<table border=\"1\" class=\"dataframe\">\n",
       "  <thead>\n",
       "    <tr style=\"text-align: right;\">\n",
       "      <th></th>\n",
       "      <th>risk_order_pce</th>\n",
       "      <th>id</th>\n",
       "      <th>risk</th>\n",
       "      <th>risk_cat_pce</th>\n",
       "      <th>true_label</th>\n",
       "      <th>risk_order_ddh</th>\n",
       "      <th>value</th>\n",
       "      <th>risk_cat_ddh</th>\n",
       "    </tr>\n",
       "  </thead>\n",
       "  <tbody>\n",
       "    <tr>\n",
       "      <th>0</th>\n",
       "      <td>0</td>\n",
       "      <td>2129</td>\n",
       "      <td>0.001</td>\n",
       "      <td>Low Risk</td>\n",
       "      <td>0</td>\n",
       "      <td>132</td>\n",
       "      <td>0.010692</td>\n",
       "      <td>low</td>\n",
       "    </tr>\n",
       "    <tr>\n",
       "      <th>1</th>\n",
       "      <td>1</td>\n",
       "      <td>2406</td>\n",
       "      <td>0.001</td>\n",
       "      <td>Low Risk</td>\n",
       "      <td>0</td>\n",
       "      <td>37</td>\n",
       "      <td>0.006730</td>\n",
       "      <td>low</td>\n",
       "    </tr>\n",
       "    <tr>\n",
       "      <th>2</th>\n",
       "      <td>2</td>\n",
       "      <td>1787</td>\n",
       "      <td>0.001</td>\n",
       "      <td>Low Risk</td>\n",
       "      <td>0</td>\n",
       "      <td>25</td>\n",
       "      <td>0.006030</td>\n",
       "      <td>low</td>\n",
       "    </tr>\n",
       "    <tr>\n",
       "      <th>3</th>\n",
       "      <td>3</td>\n",
       "      <td>3019</td>\n",
       "      <td>0.001</td>\n",
       "      <td>Low Risk</td>\n",
       "      <td>0</td>\n",
       "      <td>18</td>\n",
       "      <td>0.005684</td>\n",
       "      <td>low</td>\n",
       "    </tr>\n",
       "    <tr>\n",
       "      <th>4</th>\n",
       "      <td>4</td>\n",
       "      <td>2160</td>\n",
       "      <td>0.001</td>\n",
       "      <td>Low Risk</td>\n",
       "      <td>0</td>\n",
       "      <td>73</td>\n",
       "      <td>0.008648</td>\n",
       "      <td>low</td>\n",
       "    </tr>\n",
       "    <tr>\n",
       "      <th>...</th>\n",
       "      <td>...</td>\n",
       "      <td>...</td>\n",
       "      <td>...</td>\n",
       "      <td>...</td>\n",
       "      <td>...</td>\n",
       "      <td>...</td>\n",
       "      <td>...</td>\n",
       "      <td>...</td>\n",
       "    </tr>\n",
       "    <tr>\n",
       "      <th>3105</th>\n",
       "      <td>3105</td>\n",
       "      <td>2558</td>\n",
       "      <td>0.544</td>\n",
       "      <td>High Risk</td>\n",
       "      <td>1</td>\n",
       "      <td>3102</td>\n",
       "      <td>0.126296</td>\n",
       "      <td>intermediate</td>\n",
       "    </tr>\n",
       "    <tr>\n",
       "      <th>3106</th>\n",
       "      <td>3106</td>\n",
       "      <td>1676</td>\n",
       "      <td>0.566</td>\n",
       "      <td>High Risk</td>\n",
       "      <td>1</td>\n",
       "      <td>3097</td>\n",
       "      <td>0.126296</td>\n",
       "      <td>intermediate</td>\n",
       "    </tr>\n",
       "    <tr>\n",
       "      <th>3107</th>\n",
       "      <td>3107</td>\n",
       "      <td>104</td>\n",
       "      <td>0.669</td>\n",
       "      <td>High Risk</td>\n",
       "      <td>1</td>\n",
       "      <td>3043</td>\n",
       "      <td>0.126274</td>\n",
       "      <td>intermediate</td>\n",
       "    </tr>\n",
       "    <tr>\n",
       "      <th>3108</th>\n",
       "      <td>3108</td>\n",
       "      <td>2849</td>\n",
       "      <td>0.685</td>\n",
       "      <td>High Risk</td>\n",
       "      <td>0</td>\n",
       "      <td>3109</td>\n",
       "      <td>0.126296</td>\n",
       "      <td>intermediate</td>\n",
       "    </tr>\n",
       "    <tr>\n",
       "      <th>3109</th>\n",
       "      <td>3109</td>\n",
       "      <td>52</td>\n",
       "      <td>0.688</td>\n",
       "      <td>High Risk</td>\n",
       "      <td>0</td>\n",
       "      <td>3105</td>\n",
       "      <td>0.126296</td>\n",
       "      <td>intermediate</td>\n",
       "    </tr>\n",
       "  </tbody>\n",
       "</table>\n",
       "<p>3110 rows × 8 columns</p>\n",
       "</div>"
      ],
      "text/plain": [
       "      risk_order_pce    id   risk risk_cat_pce  true_label  risk_order_ddh  \\\n",
       "0                  0  2129  0.001     Low Risk           0             132   \n",
       "1                  1  2406  0.001     Low Risk           0              37   \n",
       "2                  2  1787  0.001     Low Risk           0              25   \n",
       "3                  3  3019  0.001     Low Risk           0              18   \n",
       "4                  4  2160  0.001     Low Risk           0              73   \n",
       "...              ...   ...    ...          ...         ...             ...   \n",
       "3105            3105  2558  0.544    High Risk           1            3102   \n",
       "3106            3106  1676  0.566    High Risk           1            3097   \n",
       "3107            3107   104  0.669    High Risk           1            3043   \n",
       "3108            3108  2849  0.685    High Risk           0            3109   \n",
       "3109            3109    52  0.688    High Risk           0            3105   \n",
       "\n",
       "         value  risk_cat_ddh  \n",
       "0     0.010692           low  \n",
       "1     0.006730           low  \n",
       "2     0.006030           low  \n",
       "3     0.005684           low  \n",
       "4     0.008648           low  \n",
       "...        ...           ...  \n",
       "3105  0.126296  intermediate  \n",
       "3106  0.126296  intermediate  \n",
       "3107  0.126274  intermediate  \n",
       "3108  0.126296  intermediate  \n",
       "3109  0.126296  intermediate  \n",
       "\n",
       "[3110 rows x 8 columns]"
      ]
     },
     "execution_count": 42,
     "metadata": {},
     "output_type": "execute_result"
    }
   ],
   "source": [
    "risk_df"
   ]
  },
  {
   "cell_type": "code",
   "execution_count": 43,
   "metadata": {},
   "outputs": [],
   "source": [
    "from sklearn.metrics import average_precision_score, precision_recall_curve\n",
    "from sklearn.metrics import auc, plot_precision_recall_curve\n",
    "import matplotlib.pyplot as plt"
   ]
  },
  {
   "cell_type": "markdown",
   "metadata": {},
   "source": [
    "#### PCE"
   ]
  },
  {
   "cell_type": "code",
   "execution_count": 28,
   "metadata": {},
   "outputs": [
    {
     "name": "stdout",
     "output_type": "stream",
     "text": [
      "0.2062414364302725\n"
     ]
    }
   ],
   "source": [
    "# Data to plot precision - recall curve\n",
    "precision, recall, thresholds = precision_recall_curve(risk_df.true_label, risk_df.risk)\n",
    "# Use AUC function to calculate the area under the curve of precision recall curve\n",
    "auc_precision_recall = auc(recall, precision)\n",
    "print(auc_precision_recall)"
   ]
  },
  {
   "cell_type": "markdown",
   "metadata": {},
   "source": [
    "#### DDH"
   ]
  },
  {
   "cell_type": "code",
   "execution_count": 29,
   "metadata": {},
   "outputs": [
    {
     "name": "stdout",
     "output_type": "stream",
     "text": [
      "0.2134173000330189\n"
     ]
    }
   ],
   "source": [
    "# Data to plot precision - recall curve\n",
    "precision, recall, thresholds = precision_recall_curve(risk_df.true_label, risk_df.value)\n",
    "# Use AUC function to calculate the area under the curve of precision recall curve\n",
    "auc_precision_recall = auc(recall, precision)\n",
    "print(auc_precision_recall)"
   ]
  },
  {
   "cell_type": "markdown",
   "metadata": {},
   "source": [
    "---------------------\n",
    "# Graveyard"
   ]
  },
  {
   "cell_type": "markdown",
   "metadata": {},
   "source": [
    "\n",
    "\n",
    "\n",
    "\n",
    "\n",
    "## Risk Comparison\n",
    "1. Scale risk scores to mean "
   ]
  },
  {
   "cell_type": "code",
   "execution_count": null,
   "metadata": {},
   "outputs": [],
   "source": [
    "len(pce_pred_df)"
   ]
  },
  {
   "cell_type": "code",
   "execution_count": null,
   "metadata": {},
   "outputs": [],
   "source": [
    "from sklearn.preprocessing import MinMaxScaler\n",
    "\n",
    "risk_df = pd.concat([ddh_risk_df['value'], pce_pred_df['risk']], axis = 1)\n",
    "risk_df.columns = ['ddh_risk', 'pce_risk']\n",
    "\n",
    "scaler = MinMaxScaler()\n",
    "risk_df_scale = scaler.fit_transform(risk_df.to_numpy())\n",
    "risk_df_scale = pd.DataFrame(risk_df_scale)\n",
    "\n",
    "risk_df_scale = risk_df_scale.reset_index().rename(columns = {'index':'id'})\n",
    "risk_df_scale.columns = ['index','ddh_risk_scaled', 'pce_risk_scaled']"
   ]
  },
  {
   "cell_type": "code",
   "execution_count": null,
   "metadata": {},
   "outputs": [],
   "source": [
    "risk_df_scale.mean()"
   ]
  },
  {
   "cell_type": "code",
   "execution_count": null,
   "metadata": {},
   "outputs": [],
   "source": [
    "# calculate distance\n",
    "risk_df_scale['ddh_risk_scaled_dist'] = (risk_df_scale['ddh_risk_scaled'] - risk_df_scale['ddh_risk_scaled'].mean())\n",
    "risk_df_scale['pce_risk_scaled_dist'] = (risk_df_scale['pce_risk_scaled'] - risk_df_scale['pce_risk_scaled'].mean()) "
   ]
  },
  {
   "cell_type": "code",
   "execution_count": null,
   "metadata": {},
   "outputs": [],
   "source": [
    "# visualization\n",
    "import seaborn as sns\n",
    "import matplotlib.pyplot as plt\n",
    "\n",
    "sns.set(rc={\"figure.figsize\":(5, 5)})"
   ]
  },
  {
   "cell_type": "code",
   "execution_count": null,
   "metadata": {},
   "outputs": [],
   "source": [
    "sns.scatterplot(data=risk_df_scale, x=\"pce_risk_scaled_dist\", y=\"ddh_risk_scaled_dist\")"
   ]
  },
  {
   "cell_type": "code",
   "execution_count": null,
   "metadata": {},
   "outputs": [],
   "source": [
    "risk_df_scale.pce_risk_scaled. hist()"
   ]
  },
  {
   "cell_type": "code",
   "execution_count": null,
   "metadata": {},
   "outputs": [],
   "source": [
    "risk_df_scale.ddh_risk_scaled.hist()"
   ]
  }
 ],
 "metadata": {
  "kernelspec": {
   "display_name": "Python 3",
   "language": "python",
   "name": "python3"
  },
  "language_info": {
   "codemirror_mode": {
    "name": "ipython",
    "version": 3
   },
   "file_extension": ".py",
   "mimetype": "text/x-python",
   "name": "python",
   "nbconvert_exporter": "python",
   "pygments_lexer": "ipython3",
   "version": "3.8.5"
  }
 },
 "nbformat": 4,
 "nbformat_minor": 5
}
