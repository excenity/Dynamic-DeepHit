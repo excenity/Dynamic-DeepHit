{
 "cells": [
  {
   "cell_type": "markdown",
   "id": "fd5631ea-9bd7-4ade-8b90-c062fdde409e",
   "metadata": {},
   "source": [
    "# Risk Comparsion"
   ]
  },
  {
   "cell_type": "markdown",
   "id": "c9b24cc5-8ff5-4b45-aa3f-4c039856db2e",
   "metadata": {},
   "source": [
    "1. Get rankings of risk prediction scores from PCE and DDH\n",
    "2. Look at their relative positions \n",
    "3. See how many of them are reclassified. "
   ]
  },
  {
   "cell_type": "markdown",
   "id": "aa24cb60-8d35-443e-9afa-372c7478be7d",
   "metadata": {},
   "source": [
    "## Project PCE thresholds DDH Risks"
   ]
  },
  {
   "cell_type": "code",
   "execution_count": 206,
   "id": "9152e61d-b0e9-4a6c-b9c8-65be8318c155",
   "metadata": {},
   "outputs": [],
   "source": [
    "import pandas as pd"
   ]
  },
  {
   "cell_type": "code",
   "execution_count": 214,
   "id": "538d7210-3e80-4d71-be40-fbcb6ffd8168",
   "metadata": {},
   "outputs": [],
   "source": [
    "ddh_risk_df = pd.read_csv('/Users/excenity/Documents/HSIP/Research/Longitudinal PCE/GitHub/Dynamic-DeepHit LRPP/DDH_pred_df.csv')"
   ]
  },
  {
   "cell_type": "code",
   "execution_count": 215,
   "id": "6eda9476-12a1-4841-a8dd-a93593d71bc0",
   "metadata": {},
   "outputs": [],
   "source": [
    "# clean up extra obs\n",
    "pce_exclude = pd.read_csv('PCE_excluded.csv')\n",
    "ddh_risk_df = ddh_risk_df.loc[~ddh_risk_df['pt_id'].isin(pce_exclude['index']),]\n",
    "ddh_risk_df = ddh_risk_df.reset_index().reset_index().drop(columns = ['index'])\n",
    "ddh_risk_df['pt_id'] = ddh_risk_df['level_0']"
   ]
  },
  {
   "cell_type": "code",
   "execution_count": 216,
   "id": "28f6da3e-f22d-439a-8432-d38cd05ce459",
   "metadata": {},
   "outputs": [],
   "source": [
    "ddh_risk_df['risk_category'] = 'low'\n",
    "ddh_risk_df.loc[(ddh_risk_df['value'] >= 0.05) & (ddh_risk_df['value'] < 0.075), 'risk_category'] = 'borderline'\n",
    "ddh_risk_df.loc[(ddh_risk_df['value'] >= 0.075) & (ddh_risk_df['value'] < 0.2), 'risk_category'] = 'intermediate'\n",
    "ddh_risk_df.loc[(ddh_risk_df['value'] >= 0.20), 'risk_category'] = 'high'"
   ]
  },
  {
   "cell_type": "code",
   "execution_count": 217,
   "id": "66005677-6ac9-4ee1-a45d-4244d2ab6ae2",
   "metadata": {},
   "outputs": [
    {
     "data": {
      "text/plain": [
       "intermediate    0.465273\n",
       "low             0.372669\n",
       "borderline      0.162058\n",
       "Name: risk_category, dtype: float64"
      ]
     },
     "execution_count": 217,
     "metadata": {},
     "output_type": "execute_result"
    }
   ],
   "source": [
    "ddh_risk_df.risk_category.value_counts()/len(ddh_risk_df)"
   ]
  },
  {
   "cell_type": "code",
   "execution_count": 218,
   "id": "46b0a128-ac8e-4f38-9c1e-9b763f221df5",
   "metadata": {},
   "outputs": [
    {
     "data": {
      "text/plain": [
       "<AxesSubplot:>"
      ]
     },
     "execution_count": 218,
     "metadata": {},
     "output_type": "execute_result"
    },
    {
     "data": {
      "image/png": "[encoded data removed]",
      "text/plain": [
       "<Figure size 432x288 with 1 Axes>"
      ]
     },
     "metadata": {
      "needs_background": "light"
     },
     "output_type": "display_data"
    }
   ],
   "source": [
    "ddh_risk_df.value.hist()"
   ]
  },
  {
   "cell_type": "code",
   "execution_count": 219,
   "id": "d0323127-906f-456f-aa2d-4b12f1707fde",
   "metadata": {},
   "outputs": [
    {
     "data": {
      "text/html": [
       "<div>\n",
       "<style scoped>\n",
       "    .dataframe tbody tr th:only-of-type {\n",
       "        vertical-align: middle;\n",
       "    }\n",
       "\n",
       "    .dataframe tbody tr th {\n",
       "        vertical-align: top;\n",
       "    }\n",
       "\n",
       "    .dataframe thead th {\n",
       "        text-align: right;\n",
       "    }\n",
       "</style>\n",
       "<table border=\"1\" class=\"dataframe\">\n",
       "  <thead>\n",
       "    <tr style=\"text-align: right;\">\n",
       "      <th></th>\n",
       "      <th>level_0</th>\n",
       "      <th>pt_id</th>\n",
       "      <th>pred_time</th>\n",
       "      <th>eval_time</th>\n",
       "      <th>value</th>\n",
       "      <th>risk_category</th>\n",
       "    </tr>\n",
       "  </thead>\n",
       "  <tbody>\n",
       "    <tr>\n",
       "      <th>0</th>\n",
       "      <td>0</td>\n",
       "      <td>0</td>\n",
       "      <td>1</td>\n",
       "      <td>0</td>\n",
       "      <td>0.017411</td>\n",
       "      <td>low</td>\n",
       "    </tr>\n",
       "    <tr>\n",
       "      <th>1</th>\n",
       "      <td>1</td>\n",
       "      <td>1</td>\n",
       "      <td>1</td>\n",
       "      <td>0</td>\n",
       "      <td>0.072617</td>\n",
       "      <td>borderline</td>\n",
       "    </tr>\n",
       "    <tr>\n",
       "      <th>2</th>\n",
       "      <td>2</td>\n",
       "      <td>2</td>\n",
       "      <td>1</td>\n",
       "      <td>0</td>\n",
       "      <td>0.057481</td>\n",
       "      <td>borderline</td>\n",
       "    </tr>\n",
       "    <tr>\n",
       "      <th>3</th>\n",
       "      <td>3</td>\n",
       "      <td>3</td>\n",
       "      <td>1</td>\n",
       "      <td>0</td>\n",
       "      <td>0.014913</td>\n",
       "      <td>low</td>\n",
       "    </tr>\n",
       "    <tr>\n",
       "      <th>4</th>\n",
       "      <td>4</td>\n",
       "      <td>4</td>\n",
       "      <td>1</td>\n",
       "      <td>0</td>\n",
       "      <td>0.109962</td>\n",
       "      <td>intermediate</td>\n",
       "    </tr>\n",
       "    <tr>\n",
       "      <th>...</th>\n",
       "      <td>...</td>\n",
       "      <td>...</td>\n",
       "      <td>...</td>\n",
       "      <td>...</td>\n",
       "      <td>...</td>\n",
       "      <td>...</td>\n",
       "    </tr>\n",
       "    <tr>\n",
       "      <th>3105</th>\n",
       "      <td>3105</td>\n",
       "      <td>3105</td>\n",
       "      <td>1</td>\n",
       "      <td>0</td>\n",
       "      <td>0.020543</td>\n",
       "      <td>low</td>\n",
       "    </tr>\n",
       "    <tr>\n",
       "      <th>3106</th>\n",
       "      <td>3106</td>\n",
       "      <td>3106</td>\n",
       "      <td>1</td>\n",
       "      <td>0</td>\n",
       "      <td>0.035277</td>\n",
       "      <td>low</td>\n",
       "    </tr>\n",
       "    <tr>\n",
       "      <th>3107</th>\n",
       "      <td>3107</td>\n",
       "      <td>3107</td>\n",
       "      <td>1</td>\n",
       "      <td>0</td>\n",
       "      <td>0.017955</td>\n",
       "      <td>low</td>\n",
       "    </tr>\n",
       "    <tr>\n",
       "      <th>3108</th>\n",
       "      <td>3108</td>\n",
       "      <td>3108</td>\n",
       "      <td>1</td>\n",
       "      <td>0</td>\n",
       "      <td>0.045019</td>\n",
       "      <td>low</td>\n",
       "    </tr>\n",
       "    <tr>\n",
       "      <th>3109</th>\n",
       "      <td>3109</td>\n",
       "      <td>3109</td>\n",
       "      <td>1</td>\n",
       "      <td>0</td>\n",
       "      <td>0.125993</td>\n",
       "      <td>intermediate</td>\n",
       "    </tr>\n",
       "  </tbody>\n",
       "</table>\n",
       "<p>3110 rows × 6 columns</p>\n",
       "</div>"
      ],
      "text/plain": [
       "      level_0  pt_id  pred_time  eval_time     value risk_category\n",
       "0           0      0          1          0  0.017411           low\n",
       "1           1      1          1          0  0.072617    borderline\n",
       "2           2      2          1          0  0.057481    borderline\n",
       "3           3      3          1          0  0.014913           low\n",
       "4           4      4          1          0  0.109962  intermediate\n",
       "...       ...    ...        ...        ...       ...           ...\n",
       "3105     3105   3105          1          0  0.020543           low\n",
       "3106     3106   3106          1          0  0.035277           low\n",
       "3107     3107   3107          1          0  0.017955           low\n",
       "3108     3108   3108          1          0  0.045019           low\n",
       "3109     3109   3109          1          0  0.125993  intermediate\n",
       "\n",
       "[3110 rows x 6 columns]"
      ]
     },
     "execution_count": 219,
     "metadata": {},
     "output_type": "execute_result"
    }
   ],
   "source": [
    "ddh_risk_df"
   ]
  },
  {
   "cell_type": "markdown",
   "id": "a0ae09ce-14bc-4763-990a-1629192e502a",
   "metadata": {},
   "source": [
    "## Ranking Comparison"
   ]
  },
  {
   "cell_type": "code",
   "execution_count": 220,
   "id": "3ee2a047-c75a-47b5-89ca-e5f4953ca93a",
   "metadata": {},
   "outputs": [],
   "source": [
    "pce_pred_df = pd.read_csv('/Users/excenity/Documents/HSIP/Research/Longitudinal PCE/GitHub/Dynamic-DeepHit LRPP/AUC + Risk Calculations/pce_pred_df.csv')"
   ]
  },
  {
   "cell_type": "code",
   "execution_count": 221,
   "id": "ef5e11d4-ff59-412e-ae4f-5e5bd3cfc5f5",
   "metadata": {},
   "outputs": [],
   "source": [
    "pce_pred_df_order = pce_pred_df.loc[:,['risk', 'risk_cat', 'true_label']].sort_values('risk').reset_index().rename(columns = {'index': 'id'}).reset_index().rename(columns = {'index': 'risk_order_pce'})"
   ]
  },
  {
   "cell_type": "code",
   "execution_count": 222,
   "id": "14874bb4-e1be-4268-b1a4-1ed065662a8a",
   "metadata": {},
   "outputs": [],
   "source": [
    "ddh_risk_df = ddh_risk_df.loc[ddh_risk_df.pt_id.isin(pce_pred_df_order['id']),]\n",
    "ddh_risk_df_order = ddh_risk_df.loc[:,['value', 'risk_category']].sort_values('value').reset_index().rename(columns = {'index': 'id'}).reset_index().rename(columns = {'index': 'risk_order_ddh'})"
   ]
  },
  {
   "cell_type": "code",
   "execution_count": 223,
   "id": "8cf8c447-0193-42bc-8bf0-ffb276c886e6",
   "metadata": {
    "tags": []
   },
   "outputs": [],
   "source": [
    "pce_pred_df_order = pce_pred_df_order.rename(columns = {'risk_cat' : 'risk_cat_pce'})\n",
    "ddh_risk_df_order = ddh_risk_df_order.rename(columns = {'risk_category' : 'risk_cat_ddh'})"
   ]
  },
  {
   "cell_type": "code",
   "execution_count": 224,
   "id": "a24fc536-9718-42ab-9eb1-b4a2c154a2db",
   "metadata": {},
   "outputs": [],
   "source": [
    "risk_df_order = pd.merge(pce_pred_df_order, ddh_risk_df_order)"
   ]
  },
  {
   "cell_type": "code",
   "execution_count": 225,
   "id": "5993fd80-e6e7-4a1c-a493-7a3aaa92ced2",
   "metadata": {},
   "outputs": [],
   "source": [
    "risk_df_order.to_csv('risk_df_order.csv', index = False)"
   ]
  },
  {
   "cell_type": "markdown",
   "id": "cb4824bd-a58a-4396-9c0f-b5c5ecc999c8",
   "metadata": {},
   "source": [
    "## Race & Sex Category Comparison\n",
    "Race Category:\n",
    "1. White \n",
    "2. Black \n",
    "\n",
    "Sex Category:\n",
    "1. Male\n",
    "2. Female"
   ]
  },
  {
   "cell_type": "code",
   "execution_count": 226,
   "id": "dd45d548-4701-45b5-9d67-df38e8dccb2d",
   "metadata": {},
   "outputs": [],
   "source": [
    "df = pd.read_csv('/Volumes/fsmresfiles/PrevMed/Projects/MESA_RiskPred/LRPP data/LRPP_select.csv')\n",
    "indecies_test = pd.read_csv('/Volumes/fsmresfiles/PrevMed/Projects/MESA_RiskPred/LRPP data/random_index_select.csv')\n",
    "indecies_test.columns = ['index', 'label', 'study_index']\n",
    "indecies_test = indecies_test.loc[indecies_test['study_index'] == True, :]\n",
    "df = df.loc[df['id'].isin(indecies_test['index']), :]\n",
    "# filter out patients without data before 8 years\n",
    "max_age_before_threshold = df.loc[df['times'] <= 8, :].groupby('id').times.max().reset_index()\n",
    "df = df.loc[df['id'].isin(max_age_before_threshold['id']), :]\n",
    "\n",
    "# gender \n",
    "df = df[['id', 'race', 'gender']].drop_duplicates().reset_index().reset_index().drop(columns=('index'))\n",
    "df['id'] = df['level_0']\n",
    "\n",
    "# merge datasets \n",
    "risk_demo = pd.merge(risk_df_order, df[['id', 'race', 'gender']]) "
   ]
  },
  {
   "cell_type": "code",
   "execution_count": 227,
   "id": "ef8d740b-81cd-45df-ab7c-41bc0a5d048b",
   "metadata": {},
   "outputs": [],
   "source": [
    "from sklearn.metrics import roc_auc_score"
   ]
  },
  {
   "cell_type": "code",
   "execution_count": 228,
   "id": "16c26c41-fd2a-4197-9336-fdb1b5bed5d8",
   "metadata": {},
   "outputs": [
    {
     "data": {
      "text/html": [
       "<div>\n",
       "<style scoped>\n",
       "    .dataframe tbody tr th:only-of-type {\n",
       "        vertical-align: middle;\n",
       "    }\n",
       "\n",
       "    .dataframe tbody tr th {\n",
       "        vertical-align: top;\n",
       "    }\n",
       "\n",
       "    .dataframe thead th {\n",
       "        text-align: right;\n",
       "    }\n",
       "</style>\n",
       "<table border=\"1\" class=\"dataframe\">\n",
       "  <thead>\n",
       "    <tr style=\"text-align: right;\">\n",
       "      <th></th>\n",
       "      <th>risk_order_pce</th>\n",
       "      <th>id</th>\n",
       "      <th>risk</th>\n",
       "      <th>risk_cat_pce</th>\n",
       "      <th>true_label</th>\n",
       "      <th>risk_order_ddh</th>\n",
       "      <th>value</th>\n",
       "      <th>risk_cat_ddh</th>\n",
       "      <th>race</th>\n",
       "      <th>gender</th>\n",
       "    </tr>\n",
       "  </thead>\n",
       "  <tbody>\n",
       "    <tr>\n",
       "      <th>0</th>\n",
       "      <td>0</td>\n",
       "      <td>2129</td>\n",
       "      <td>0.001</td>\n",
       "      <td>Low Risk</td>\n",
       "      <td>0</td>\n",
       "      <td>132</td>\n",
       "      <td>0.010692</td>\n",
       "      <td>low</td>\n",
       "      <td>2</td>\n",
       "      <td>2</td>\n",
       "    </tr>\n",
       "    <tr>\n",
       "      <th>1</th>\n",
       "      <td>1</td>\n",
       "      <td>2406</td>\n",
       "      <td>0.001</td>\n",
       "      <td>Low Risk</td>\n",
       "      <td>0</td>\n",
       "      <td>37</td>\n",
       "      <td>0.006730</td>\n",
       "      <td>low</td>\n",
       "      <td>1</td>\n",
       "      <td>2</td>\n",
       "    </tr>\n",
       "    <tr>\n",
       "      <th>2</th>\n",
       "      <td>2</td>\n",
       "      <td>1787</td>\n",
       "      <td>0.001</td>\n",
       "      <td>Low Risk</td>\n",
       "      <td>0</td>\n",
       "      <td>25</td>\n",
       "      <td>0.006030</td>\n",
       "      <td>low</td>\n",
       "      <td>2</td>\n",
       "      <td>2</td>\n",
       "    </tr>\n",
       "    <tr>\n",
       "      <th>3</th>\n",
       "      <td>3</td>\n",
       "      <td>3019</td>\n",
       "      <td>0.001</td>\n",
       "      <td>Low Risk</td>\n",
       "      <td>0</td>\n",
       "      <td>18</td>\n",
       "      <td>0.005684</td>\n",
       "      <td>low</td>\n",
       "      <td>1</td>\n",
       "      <td>2</td>\n",
       "    </tr>\n",
       "    <tr>\n",
       "      <th>4</th>\n",
       "      <td>4</td>\n",
       "      <td>2160</td>\n",
       "      <td>0.001</td>\n",
       "      <td>Low Risk</td>\n",
       "      <td>0</td>\n",
       "      <td>73</td>\n",
       "      <td>0.008648</td>\n",
       "      <td>low</td>\n",
       "      <td>2</td>\n",
       "      <td>2</td>\n",
       "    </tr>\n",
       "  </tbody>\n",
       "</table>\n",
       "</div>"
      ],
      "text/plain": [
       "   risk_order_pce    id   risk risk_cat_pce  true_label  risk_order_ddh  \\\n",
       "0               0  2129  0.001     Low Risk           0             132   \n",
       "1               1  2406  0.001     Low Risk           0              37   \n",
       "2               2  1787  0.001     Low Risk           0              25   \n",
       "3               3  3019  0.001     Low Risk           0              18   \n",
       "4               4  2160  0.001     Low Risk           0              73   \n",
       "\n",
       "      value risk_cat_ddh  race  gender  \n",
       "0  0.010692          low     2       2  \n",
       "1  0.006730          low     1       2  \n",
       "2  0.006030          low     2       2  \n",
       "3  0.005684          low     1       2  \n",
       "4  0.008648          low     2       2  "
      ]
     },
     "execution_count": 228,
     "metadata": {},
     "output_type": "execute_result"
    }
   ],
   "source": [
    "risk_demo.head()"
   ]
  },
  {
   "cell_type": "markdown",
   "id": "f39d17d4-be5b-49b0-815e-ab41b7c7ea31",
   "metadata": {},
   "source": [
    "### Race"
   ]
  },
  {
   "cell_type": "code",
   "execution_count": 229,
   "id": "41d6b95b-df23-4d04-82f6-d218fc555619",
   "metadata": {},
   "outputs": [
    {
     "name": "stdout",
     "output_type": "stream",
     "text": [
      "PCE AUC White: 0.7719682179818207\n",
      "DDH AUC White: 0.793159728782249\n"
     ]
    }
   ],
   "source": [
    "risk_demo_white = risk_demo.loc[risk_demo['race'] == 1, :]\n",
    "print('PCE AUC White:', roc_auc_score(risk_demo_white['true_label'], risk_demo_white['risk']))\n",
    "print('DDH AUC White:', roc_auc_score(risk_demo_white['true_label'], risk_demo_white['value']))"
   ]
  },
  {
   "cell_type": "code",
   "execution_count": 230,
   "id": "49c7c236-f583-47dc-8a77-5ad5cc5ebcc6",
   "metadata": {},
   "outputs": [
    {
     "name": "stdout",
     "output_type": "stream",
     "text": [
      "PCE AUC Black: 0.7910150517797996\n",
      "DDH AUC Black: 0.8055741897614356\n"
     ]
    }
   ],
   "source": [
    "risk_demo_black = risk_demo.loc[risk_demo['race'] == 2, :]\n",
    "print('PCE AUC Black:', roc_auc_score(risk_demo_black['true_label'], risk_demo_black['risk']))\n",
    "print('DDH AUC Black:', roc_auc_score(risk_demo_black['true_label'], risk_demo_black['value']))"
   ]
  },
  {
   "cell_type": "markdown",
   "id": "fba38c5e-b5d8-4d0e-ba82-3067febc2850",
   "metadata": {},
   "source": [
    "### Sex"
   ]
  },
  {
   "cell_type": "code",
   "execution_count": 231,
   "id": "dd5d0c8b-ec6f-4854-aaea-7907749b0a14",
   "metadata": {},
   "outputs": [
    {
     "name": "stdout",
     "output_type": "stream",
     "text": [
      "PCE AUC Males: 0.7549475094929641\n",
      "DDH AUC Males: 0.7684195411468138\n"
     ]
    }
   ],
   "source": [
    "risk_demo_males = risk_demo.loc[risk_demo['gender'] == 1, :]\n",
    "print('PCE AUC Males:', roc_auc_score(risk_demo_males['true_label'], risk_demo_males['risk']))\n",
    "print('DDH AUC Males:', roc_auc_score(risk_demo_males['true_label'], risk_demo_males['value']))"
   ]
  },
  {
   "cell_type": "code",
   "execution_count": 232,
   "id": "32dd9a70-5bee-4408-ac1e-c55cd6fcffa4",
   "metadata": {},
   "outputs": [
    {
     "name": "stdout",
     "output_type": "stream",
     "text": [
      "PCE AUC Females: 0.7792000333667\n",
      "DDH AUC Females: 0.8039247580914247\n"
     ]
    }
   ],
   "source": [
    "risk_demo_females = risk_demo.loc[risk_demo['gender'] == 2, :]\n",
    "print('PCE AUC Females:', roc_auc_score(risk_demo_females['true_label'], risk_demo_females['risk']))\n",
    "print('DDH AUC Females:', roc_auc_score(risk_demo_females['true_label'], risk_demo_females['value']))"
   ]
  },
  {
   "cell_type": "markdown",
   "id": "d6acb639-5505-4275-9050-572ad327bc49",
   "metadata": {},
   "source": [
    "---------------------\n",
    "# Graveyard"
   ]
  },
  {
   "cell_type": "markdown",
   "id": "f434eca6-0363-423f-8245-1eff1871783a",
   "metadata": {},
   "source": [
    "\n",
    "\n",
    "\n",
    "\n",
    "\n",
    "## Risk Comparison\n",
    "1. Scale risk scores to mean "
   ]
  },
  {
   "cell_type": "code",
   "execution_count": null,
   "id": "4099e0c9-216b-449f-b7ef-5a350b287eba",
   "metadata": {},
   "outputs": [],
   "source": [
    "len(pce_pred_df)"
   ]
  },
  {
   "cell_type": "code",
   "execution_count": null,
   "id": "926de67b-cd04-4182-8f1f-769c29875e80",
   "metadata": {},
   "outputs": [],
   "source": [
    "from sklearn.preprocessing import MinMaxScaler\n",
    "\n",
    "risk_df = pd.concat([ddh_risk_df['value'], pce_pred_df['risk']], axis = 1)\n",
    "risk_df.columns = ['ddh_risk', 'pce_risk']\n",
    "\n",
    "scaler = MinMaxScaler()\n",
    "risk_df_scale = scaler.fit_transform(risk_df.to_numpy())\n",
    "risk_df_scale = pd.DataFrame(risk_df_scale)\n",
    "\n",
    "risk_df_scale = risk_df_scale.reset_index().rename(columns = {'index':'id'})\n",
    "risk_df_scale.columns = ['index','ddh_risk_scaled', 'pce_risk_scaled']"
   ]
  },
  {
   "cell_type": "code",
   "execution_count": null,
   "id": "690a3614-1cff-4668-a79c-3b68e00a2600",
   "metadata": {},
   "outputs": [],
   "source": [
    "risk_df_scale.mean()"
   ]
  },
  {
   "cell_type": "code",
   "execution_count": null,
   "id": "e82472bc-9b3c-4005-90af-710e8e64603b",
   "metadata": {},
   "outputs": [],
   "source": [
    "# calculate distance\n",
    "risk_df_scale['ddh_risk_scaled_dist'] = (risk_df_scale['ddh_risk_scaled'] - risk_df_scale['ddh_risk_scaled'].mean())\n",
    "risk_df_scale['pce_risk_scaled_dist'] = (risk_df_scale['pce_risk_scaled'] - risk_df_scale['pce_risk_scaled'].mean()) "
   ]
  },
  {
   "cell_type": "code",
   "execution_count": null,
   "id": "e73faff8-4cbb-4b89-b8ee-0ff49da02692",
   "metadata": {},
   "outputs": [],
   "source": [
    "# visualization\n",
    "import seaborn as sns\n",
    "import matplotlib.pyplot as plt\n",
    "\n",
    "sns.set(rc={\"figure.figsize\":(5, 5)})"
   ]
  },
  {
   "cell_type": "code",
   "execution_count": null,
   "id": "224702af-f05f-4ac6-9002-77fc8f001237",
   "metadata": {},
   "outputs": [],
   "source": [
    "sns.scatterplot(data=risk_df_scale, x=\"pce_risk_scaled_dist\", y=\"ddh_risk_scaled_dist\")"
   ]
  },
  {
   "cell_type": "code",
   "execution_count": null,
   "id": "74f49f05-42cc-4860-85c0-6094f326aaf8",
   "metadata": {},
   "outputs": [],
   "source": [
    "risk_df_scale.pce_risk_scaled. hist()"
   ]
  },
  {
   "cell_type": "code",
   "execution_count": null,
   "id": "a108185d-eaf6-4e26-af03-239d2e03a551",
   "metadata": {},
   "outputs": [],
   "source": [
    "risk_df_scale.ddh_risk_scaled.hist()"
   ]
  }
 ],
 "metadata": {
  "kernelspec": {
   "display_name": "Python 3 (ipykernel)",
   "language": "python",
   "name": "python3"
  },
  "language_info": {
   "codemirror_mode": {
    "name": "ipython",
    "version": 3
   },
   "file_extension": ".py",
   "mimetype": "text/x-python",
   "name": "python",
   "nbconvert_exporter": "python",
   "pygments_lexer": "ipython3",
   "version": "3.8.8"
  }
 },
 "nbformat": 4,
 "nbformat_minor": 5
}
