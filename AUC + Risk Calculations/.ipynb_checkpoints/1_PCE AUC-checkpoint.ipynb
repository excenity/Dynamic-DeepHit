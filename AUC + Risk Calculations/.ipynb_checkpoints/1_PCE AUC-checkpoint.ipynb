{
 "cells": [
  {
   "cell_type": "markdown",
   "id": "41fa0d59",
   "metadata": {},
   "source": [
    "# PCE Calculations of Testing Dataset"
   ]
  },
  {
   "cell_type": "code",
   "execution_count": 2,
   "id": "ca8fd00b",
   "metadata": {},
   "outputs": [
    {
     "name": "stderr",
     "output_type": "stream",
     "text": [
      "/Users/excenity/Documents/HSIP/Research/Longitudinal PCE/GitHub/Dynamic-DeepHit LRPP/AUC + Risk Calculations/ASCVD_Calc_PCE.py:40: FutureWarning: The frame.append method is deprecated and will be removed from pandas in a future version. Use pandas.concat instead.\n",
      "  coefs = coefs.append(coefs_list)\n"
     ]
    }
   ],
   "source": [
    "import ASCVD_Calc_PCE\n",
    "import pandas as pd\n",
    "import numpy as np\n",
    "from importlib import reload\n",
    "reload(ASCVD_Calc_PCE)\n",
    "from sklearn.metrics import roc_auc_score, roc_curve, RocCurveDisplay, accuracy_score"
   ]
  },
  {
   "cell_type": "markdown",
   "id": "3994b531",
   "metadata": {},
   "source": [
    "## Import Data"
   ]
  },
  {
   "cell_type": "code",
   "execution_count": 21,
   "id": "d3db6719-987a-41fd-b259-8b0236fe726d",
   "metadata": {},
   "outputs": [],
   "source": [
    "df = pd.read_csv('/Volumes/fsmresfiles/PrevMed/Projects/MESA_RiskPred/LRPP data/LRPP_Select_CrossSectional.csv')\n",
    "indecies_test = pd.read_csv('/Volumes/fsmresfiles/PrevMed/Projects/MESA_RiskPred/LRPP data/random_index_select.csv')\n",
    "indecies_test['study_index'] = indecies_test['study_index'].astype('bool')\n",
    "indecies_test['id'] = indecies_test['id'].astype('int')\n",
    "indecies_test['round'] = indecies_test['round'].astype('int')"
   ]
  },
  {
   "cell_type": "code",
   "execution_count": 49,
   "id": "cac7f129",
   "metadata": {},
   "outputs": [],
   "source": [
    "def prediction_auc_PCE(pce_pred_df, true_labels):\n",
    "    \n",
    "    auc = roc_auc_score(true_labels, pce_pred_df['risk'].tolist())\n",
    "    \n",
    "    return auc "
   ]
  },
  {
   "cell_type": "markdown",
   "id": "262830d6",
   "metadata": {},
   "source": [
    "## PCE Calculation"
   ]
  },
  {
   "cell_type": "code",
   "execution_count": 50,
   "id": "8bcf8621-2da7-48f9-8d80-b7e7d5f7dbd3",
   "metadata": {},
   "outputs": [],
   "source": [
    "def pce_training(indecies_test, df):\n",
    "    \n",
    "    global pce_pred_df\n",
    "    \n",
    "    indecies_test = indecies_test.loc[indecies_test['study_index'] == True, :]\n",
    "    df = df.loc[df['id'].isin(indecies_test['id']), :]\n",
    "    \n",
    "    # get labels and tte\n",
    "    te_label = np.array(df.loc[:,['id', 'label']].drop_duplicates().label)\n",
    "    te_time = np.array(df.loc[:, ['id', 'time']].drop_duplicates().time)\n",
    "\n",
    "    # get risk measurements from PCE data set (Multiple)\n",
    "    pce_pred_df, pce_df = ASCVD_Calc_PCE.pce_pred_df_tab(df, 8, 10)\n",
    "\n",
    "    # Get PCE AUC for Each Prediction Year\n",
    "    print('NULL Risk Values from PCE: ', pce_pred_df.risk.isna().sum())\n",
    "    auc = np.round(prediction_auc_PCE(pce_pred_df, te_label), 4)\n",
    "    \n",
    "    return auc"
   ]
  },
  {
   "cell_type": "code",
   "execution_count": 51,
   "id": "1962de91-9f6f-42f6-a156-50bacd8d2dc8",
   "metadata": {
    "tags": []
   },
   "outputs": [],
   "source": [
    "auc_list = pd.DataFrame({'round':[],\n",
    "                         'auc':[]\n",
    "                        })\n",
    "\n",
    "index_max = int(indecies_test['round'].max())"
   ]
  },
  {
   "cell_type": "code",
   "execution_count": null,
   "id": "bfcbed37-49d4-4dfb-9d54-073b15811d2a",
   "metadata": {
    "tags": []
   },
   "outputs": [
    {
     "name": "stdout",
     "output_type": "stream",
     "text": [
      "round: 0\n",
      "NULL Risk Values from PCE:  0\n",
      "round: 1\n",
      "NULL Risk Values from PCE:  0\n",
      "round: 2\n",
      "NULL Risk Values from PCE:  0\n",
      "round: 3\n",
      "NULL Risk Values from PCE:  0\n",
      "round: 4\n",
      "NULL Risk Values from PCE:  0\n",
      "round: 5\n",
      "NULL Risk Values from PCE:  0\n",
      "round: 6\n",
      "NULL Risk Values from PCE:  0\n",
      "round: 7\n",
      "NULL Risk Values from PCE:  0\n",
      "round: 8\n",
      "NULL Risk Values from PCE:  0\n",
      "round: 9\n",
      "NULL Risk Values from PCE:  0\n",
      "round: 10\n",
      "NULL Risk Values from PCE:  0\n",
      "round: 11\n",
      "NULL Risk Values from PCE:  0\n",
      "round: 12\n",
      "NULL Risk Values from PCE:  0\n",
      "round: 13\n",
      "NULL Risk Values from PCE:  0\n",
      "round: 14\n",
      "NULL Risk Values from PCE:  0\n",
      "round: 15\n",
      "NULL Risk Values from PCE:  0\n",
      "round: 16\n",
      "NULL Risk Values from PCE:  0\n",
      "round: 17\n",
      "NULL Risk Values from PCE:  0\n",
      "round: 18\n",
      "NULL Risk Values from PCE:  0\n",
      "round: 19\n",
      "NULL Risk Values from PCE:  0\n",
      "round: 20\n",
      "NULL Risk Values from PCE:  0\n",
      "round: 21\n",
      "NULL Risk Values from PCE:  0\n",
      "round: 22\n",
      "NULL Risk Values from PCE:  0\n",
      "round: 23\n",
      "NULL Risk Values from PCE:  0\n",
      "round: 24\n",
      "NULL Risk Values from PCE:  0\n",
      "round: 25\n",
      "NULL Risk Values from PCE:  0\n",
      "round: 26\n",
      "NULL Risk Values from PCE:  0\n",
      "round: 27\n",
      "NULL Risk Values from PCE:  0\n",
      "round: 28\n",
      "NULL Risk Values from PCE:  0\n",
      "round: 29\n",
      "NULL Risk Values from PCE:  0\n",
      "round: 30\n",
      "NULL Risk Values from PCE:  0\n",
      "round: 31\n",
      "NULL Risk Values from PCE:  0\n",
      "round: 32\n",
      "NULL Risk Values from PCE:  0\n",
      "round: 33\n"
     ]
    }
   ],
   "source": [
    "for i in range(index_max):\n",
    "    current_indecies = indecies_test.loc[indecies_test['round'] == i,:]\n",
    "    print('round:', i)\n",
    "    auc = pce_training(current_indecies, df)\n",
    "    auc_chunk = pd.DataFrame({'round': [i],\n",
    "                              'auc': [auc]\n",
    "                             })\n",
    "    auc_list = pd.concat([auc_list, auc_chunk]) "
   ]
  },
  {
   "cell_type": "markdown",
   "id": "6f28e90d",
   "metadata": {},
   "source": [
    "## Get Risk Categories"
   ]
  },
  {
   "cell_type": "markdown",
   "id": "2a56c21e",
   "metadata": {},
   "source": [
    "#### Create Risk Categories\n",
    "1. Low: < 5% \n",
    "2. Borderline: 5% ~ 7.5% \n",
    "3. Intermediate: 7.5% ~ 20%\n",
    "4. High: > 20%"
   ]
  },
  {
   "cell_type": "code",
   "execution_count": null,
   "id": "8f865fcd",
   "metadata": {},
   "outputs": [],
   "source": [
    "pce_pred_df['risk_cat'] = 'Low Risk'\n",
    "pce_pred_df.loc[(pce_pred_df['risk'] >= 0.05) & (pce_pred_df['risk'] < 0.075), 'risk_cat'] = 'Borderline Risk'\n",
    "pce_pred_df.loc[(pce_pred_df['risk'] >= 0.075) & (pce_pred_df['risk'] < 0.2), 'risk_cat'] = 'Intermediate Risk'\n",
    "pce_pred_df.loc[(pce_pred_df['risk'] >= 0.2), 'risk_cat'] = 'High Risk'"
   ]
  },
  {
   "cell_type": "markdown",
   "id": "60892f56",
   "metadata": {},
   "source": [
    "#### DDH Risk Breakdown by PCE Standards"
   ]
  },
  {
   "cell_type": "code",
   "execution_count": null,
   "id": "d99fdf75",
   "metadata": {},
   "outputs": [],
   "source": [
    "round(pce_pred_df.risk_cat.value_counts() / len(pce_pred_df),3)*100"
   ]
  },
  {
   "cell_type": "code",
   "execution_count": null,
   "id": "cb3fafa4",
   "metadata": {},
   "outputs": [],
   "source": [
    "test = pd.DataFrame(pce_pred_df.groupby('risk_cat').true_label.value_counts()).rename(columns = {'true_label' : 'counts'}).reset_index()\n",
    "test2 = pd.DataFrame(pce_pred_df.risk_cat.value_counts()).reset_index().rename(columns = {'risk_cat' : 'total_counts', 'index' : 'risk_cat'})\n",
    "test = pd.merge(test, test2)\n",
    "test['percentage'] = round(test['counts'] / test['total_counts'],3) * 100\n",
    "test"
   ]
  },
  {
   "cell_type": "code",
   "execution_count": null,
   "id": "20aa7c4d",
   "metadata": {},
   "outputs": [],
   "source": [
    "pce_pred_df.to_csv('pce_pred_training_df.csv', index = False)"
   ]
  },
  {
   "cell_type": "markdown",
   "id": "e3d537a1",
   "metadata": {},
   "source": [
    "\n",
    "\n",
    "\n",
    "\n",
    "-----------\n",
    "## Compare Risk Categories"
   ]
  },
  {
   "cell_type": "code",
   "execution_count": null,
   "id": "43d26bd8",
   "metadata": {},
   "outputs": [],
   "source": [
    "ddh_pred_df = pd.read_csv('/Users/excenity/Dropbox/HSIP/Research/MESA/Output/DDH_pred_df.csv')\n",
    "\n",
    "ddh_pred_df = ddh_pred_df.loc[:, ['pt_id', 'value']].rename(columns = {'value' : 'ddh_risk'})\n",
    "\n",
    "pred_df = pd.merge(ddh_pred_df, pce_pred_df.loc[:,['risk', 'true_label', 'risk_cat']].reset_index().rename(columns = {'index' : 'pt_id'})).rename(columns = {'risk' : 'pce_risk'})"
   ]
  },
  {
   "cell_type": "code",
   "execution_count": null,
   "id": "56a0e724",
   "metadata": {},
   "outputs": [],
   "source": [
    "# Mean PCE Risk\n",
    "round(pred_df.groupby('risk_cat').pce_risk.mean(),3)"
   ]
  },
  {
   "cell_type": "code",
   "execution_count": null,
   "id": "40e5163f",
   "metadata": {},
   "outputs": [],
   "source": [
    "# Mean DDH Risk\n",
    "round(pred_df.groupby('risk_cat').ddh_risk.mean(),3)"
   ]
  },
  {
   "cell_type": "markdown",
   "id": "56bee42f",
   "metadata": {},
   "source": [
    "### PCE AUC by Risk Category"
   ]
  },
  {
   "cell_type": "code",
   "execution_count": null,
   "id": "5ad6efde",
   "metadata": {},
   "outputs": [],
   "source": [
    "# get accuracy scores for each risk category\n",
    "print(round(roc_auc_score(pred_df.loc[pred_df['risk_cat'] == 'Low Risk', 'true_label'], pred_df.loc[pred_df['risk_cat'] == 'Low Risk', 'pce_risk']), 3))\n",
    "print(round(roc_auc_score(pred_df.loc[pred_df['risk_cat'] == 'Borderline Risk', 'true_label'], pred_df.loc[pred_df['risk_cat'] == 'Borderline Risk', 'pce_risk']), 3))\n",
    "print(round(roc_auc_score(pred_df.loc[pred_df['risk_cat'] == 'Intermediate Risk', 'true_label'], pred_df.loc[pred_df['risk_cat'] == 'Intermediate Risk', 'pce_risk']),3))\n",
    "print(round(roc_auc_score(pred_df.loc[pred_df['risk_cat'] == 'High Risk', 'true_label'], pred_df.loc[pred_df['risk_cat'] == 'High Risk', 'pce_risk']), 3))"
   ]
  },
  {
   "cell_type": "markdown",
   "id": "7ffc28de",
   "metadata": {},
   "source": [
    "### DDH AUC by Risk Category"
   ]
  },
  {
   "cell_type": "code",
   "execution_count": null,
   "id": "21a3935a",
   "metadata": {},
   "outputs": [],
   "source": [
    "# get accuracy scores for each risk category\n",
    "print(round(roc_auc_score(pred_df.loc[pred_df['risk_cat'] == 'Low Risk', 'true_label'], pred_df.loc[pred_df['risk_cat'] == 'Low Risk', 'ddh_risk']), 3))\n",
    "print(round(roc_auc_score(pred_df.loc[pred_df['risk_cat'] == 'Borderline Risk', 'true_label'], pred_df.loc[pred_df['risk_cat'] == 'Borderline Risk', 'ddh_risk']), 3))\n",
    "print(round(roc_auc_score(pred_df.loc[pred_df['risk_cat'] == 'Intermediate Risk', 'true_label'], pred_df.loc[pred_df['risk_cat'] == 'Intermediate Risk', 'ddh_risk']),3))\n",
    "print(round(roc_auc_score(pred_df.loc[pred_df['risk_cat'] == 'High Risk', 'true_label'], pred_df.loc[pred_df['risk_cat'] == 'High Risk', 'ddh_risk']), 3))"
   ]
  },
  {
   "cell_type": "code",
   "execution_count": null,
   "id": "ab44c209",
   "metadata": {},
   "outputs": [],
   "source": [
    "RocCurveDisplay.from_predictions()"
   ]
  },
  {
   "cell_type": "code",
   "execution_count": null,
   "id": "d4940431",
   "metadata": {},
   "outputs": [],
   "source": []
  }
 ],
 "metadata": {
  "kernelspec": {
   "display_name": "Python 3 (ipykernel)",
   "language": "python",
   "name": "python3"
  },
  "language_info": {
   "codemirror_mode": {
    "name": "ipython",
    "version": 3
   },
   "file_extension": ".py",
   "mimetype": "text/x-python",
   "name": "python",
   "nbconvert_exporter": "python",
   "pygments_lexer": "ipython3",
   "version": "3.9.12"
  }
 },
 "nbformat": 4,
 "nbformat_minor": 5
}
