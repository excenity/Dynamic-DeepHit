{
 "cells": [
  {
   "cell_type": "markdown",
   "id": "41fa0d59",
   "metadata": {},
   "source": [
    "# PCE Calculations of Testing Dataset"
   ]
  },
  {
   "cell_type": "code",
   "execution_count": 1,
   "id": "ca8fd00b",
   "metadata": {},
   "outputs": [
    {
     "name": "stderr",
     "output_type": "stream",
     "text": [
      "/Users/excenity/Documents/HSIP/Research/Longitudinal PCE/GitHub/Dynamic-DeepHit LRPP/AUC + Risk Calculations/ASCVD_Calc_PCE.py:40: FutureWarning: The frame.append method is deprecated and will be removed from pandas in a future version. Use pandas.concat instead.\n",
      "  coefs = coefs.append(coefs_list)\n"
     ]
    }
   ],
   "source": [
    "import ASCVD_Calc_PCE\n",
    "import pandas as pd\n",
    "import numpy as np\n",
    "from importlib import reload\n",
    "reload(ASCVD_Calc_PCE)\n",
    "from sklearn.metrics import roc_auc_score, roc_curve, RocCurveDisplay, accuracy_score"
   ]
  },
  {
   "cell_type": "markdown",
   "id": "3994b531",
   "metadata": {},
   "source": [
    "## Import Data"
   ]
  },
  {
   "cell_type": "code",
   "execution_count": 3,
   "id": "fef85244-9fcf-4cf5-8707-c30f26c2e4d7",
   "metadata": {},
   "outputs": [
    {
     "data": {
      "text/html": [
       "<div>\n",
       "<style scoped>\n",
       "    .dataframe tbody tr th:only-of-type {\n",
       "        vertical-align: middle;\n",
       "    }\n",
       "\n",
       "    .dataframe tbody tr th {\n",
       "        vertical-align: top;\n",
       "    }\n",
       "\n",
       "    .dataframe thead th {\n",
       "        text-align: right;\n",
       "    }\n",
       "</style>\n",
       "<table border=\"1\" class=\"dataframe\">\n",
       "  <thead>\n",
       "    <tr style=\"text-align: right;\">\n",
       "      <th></th>\n",
       "      <th>id</th>\n",
       "      <th>label</th>\n",
       "      <th>study_index</th>\n",
       "      <th>round</th>\n",
       "    </tr>\n",
       "  </thead>\n",
       "  <tbody>\n",
       "    <tr>\n",
       "      <th>0</th>\n",
       "      <td>1.0</td>\n",
       "      <td>0.0</td>\n",
       "      <td>0.0</td>\n",
       "      <td>0.0</td>\n",
       "    </tr>\n",
       "    <tr>\n",
       "      <th>1</th>\n",
       "      <td>2.0</td>\n",
       "      <td>0.0</td>\n",
       "      <td>0.0</td>\n",
       "      <td>0.0</td>\n",
       "    </tr>\n",
       "    <tr>\n",
       "      <th>2</th>\n",
       "      <td>3.0</td>\n",
       "      <td>0.0</td>\n",
       "      <td>0.0</td>\n",
       "      <td>0.0</td>\n",
       "    </tr>\n",
       "    <tr>\n",
       "      <th>3</th>\n",
       "      <td>4.0</td>\n",
       "      <td>0.0</td>\n",
       "      <td>0.0</td>\n",
       "      <td>0.0</td>\n",
       "    </tr>\n",
       "    <tr>\n",
       "      <th>4</th>\n",
       "      <td>5.0</td>\n",
       "      <td>0.0</td>\n",
       "      <td>0.0</td>\n",
       "      <td>0.0</td>\n",
       "    </tr>\n",
       "    <tr>\n",
       "      <th>...</th>\n",
       "      <td>...</td>\n",
       "      <td>...</td>\n",
       "      <td>...</td>\n",
       "      <td>...</td>\n",
       "    </tr>\n",
       "    <tr>\n",
       "      <th>2437095</th>\n",
       "      <td>31425.0</td>\n",
       "      <td>0.0</td>\n",
       "      <td>1.0</td>\n",
       "      <td>99.0</td>\n",
       "    </tr>\n",
       "    <tr>\n",
       "      <th>2437096</th>\n",
       "      <td>31426.0</td>\n",
       "      <td>0.0</td>\n",
       "      <td>1.0</td>\n",
       "      <td>99.0</td>\n",
       "    </tr>\n",
       "    <tr>\n",
       "      <th>2437097</th>\n",
       "      <td>31427.0</td>\n",
       "      <td>0.0</td>\n",
       "      <td>0.0</td>\n",
       "      <td>99.0</td>\n",
       "    </tr>\n",
       "    <tr>\n",
       "      <th>2437098</th>\n",
       "      <td>31428.0</td>\n",
       "      <td>1.0</td>\n",
       "      <td>0.0</td>\n",
       "      <td>99.0</td>\n",
       "    </tr>\n",
       "    <tr>\n",
       "      <th>2437099</th>\n",
       "      <td>31429.0</td>\n",
       "      <td>0.0</td>\n",
       "      <td>0.0</td>\n",
       "      <td>99.0</td>\n",
       "    </tr>\n",
       "  </tbody>\n",
       "</table>\n",
       "<p>2437100 rows × 4 columns</p>\n",
       "</div>"
      ],
      "text/plain": [
       "              id  label  study_index  round\n",
       "0            1.0    0.0          0.0    0.0\n",
       "1            2.0    0.0          0.0    0.0\n",
       "2            3.0    0.0          0.0    0.0\n",
       "3            4.0    0.0          0.0    0.0\n",
       "4            5.0    0.0          0.0    0.0\n",
       "...          ...    ...          ...    ...\n",
       "2437095  31425.0    0.0          1.0   99.0\n",
       "2437096  31426.0    0.0          1.0   99.0\n",
       "2437097  31427.0    0.0          0.0   99.0\n",
       "2437098  31428.0    1.0          0.0   99.0\n",
       "2437099  31429.0    0.0          0.0   99.0\n",
       "\n",
       "[2437100 rows x 4 columns]"
      ]
     },
     "execution_count": 3,
     "metadata": {},
     "output_type": "execute_result"
    }
   ],
   "source": [
    "indecies_test"
   ]
  },
  {
   "cell_type": "code",
   "execution_count": 2,
   "id": "d3db6719-987a-41fd-b259-8b0236fe726d",
   "metadata": {},
   "outputs": [],
   "source": [
    "df = pd.read_csv('/Volumes/fsmresfiles/PrevMed/Projects/MESA_RiskPred/LRPP data/LRPP_select.csv')\n",
    "indecies_test = pd.read_csv('/Volumes/fsmresfiles/PrevMed/Projects/MESA_RiskPred/LRPP data/random_index_select.csv')"
   ]
  },
  {
   "cell_type": "code",
   "execution_count": 2,
   "id": "c5df4cfd-2061-4886-ab28-1ddf12f07b42",
   "metadata": {},
   "outputs": [
    {
     "ename": "ValueError",
     "evalue": "Length mismatch: Expected axis has 4 elements, new values have 3 elements",
     "output_type": "error",
     "traceback": [
      "\u001b[0;31m---------------------------------------------------------------------------\u001b[0m",
      "\u001b[0;31mValueError\u001b[0m                                Traceback (most recent call last)",
      "Input \u001b[0;32mIn [2]\u001b[0m, in \u001b[0;36m<cell line: 4>\u001b[0;34m()\u001b[0m\n\u001b[1;32m      1\u001b[0m df \u001b[38;5;241m=\u001b[39m pd\u001b[38;5;241m.\u001b[39mread_csv(\u001b[38;5;124m'\u001b[39m\u001b[38;5;124m/Volumes/fsmresfiles/PrevMed/Projects/MESA_RiskPred/LRPP data/LRPP_select.csv\u001b[39m\u001b[38;5;124m'\u001b[39m)\n\u001b[1;32m      2\u001b[0m indecies_test \u001b[38;5;241m=\u001b[39m pd\u001b[38;5;241m.\u001b[39mread_csv(\u001b[38;5;124m'\u001b[39m\u001b[38;5;124m/Volumes/fsmresfiles/PrevMed/Projects/MESA_RiskPred/LRPP data/random_index_select.csv\u001b[39m\u001b[38;5;124m'\u001b[39m)\n\u001b[0;32m----> 4\u001b[0m indecies_test\u001b[38;5;241m.\u001b[39mcolumns \u001b[38;5;241m=\u001b[39m [\u001b[38;5;124m'\u001b[39m\u001b[38;5;124mindex\u001b[39m\u001b[38;5;124m'\u001b[39m, \u001b[38;5;124m'\u001b[39m\u001b[38;5;124mlabel\u001b[39m\u001b[38;5;124m'\u001b[39m, \u001b[38;5;124m'\u001b[39m\u001b[38;5;124mstudy_index\u001b[39m\u001b[38;5;124m'\u001b[39m]\n\u001b[1;32m      6\u001b[0m indecies_test \u001b[38;5;241m=\u001b[39m indecies_test\u001b[38;5;241m.\u001b[39mloc[indecies_test[\u001b[38;5;124m'\u001b[39m\u001b[38;5;124mstudy_index\u001b[39m\u001b[38;5;124m'\u001b[39m] \u001b[38;5;241m==\u001b[39m \u001b[38;5;28;01mFalse\u001b[39;00m, :]\n\u001b[1;32m      7\u001b[0m df \u001b[38;5;241m=\u001b[39m df\u001b[38;5;241m.\u001b[39mloc[df[\u001b[38;5;124m'\u001b[39m\u001b[38;5;124mid\u001b[39m\u001b[38;5;124m'\u001b[39m]\u001b[38;5;241m.\u001b[39misin(indecies_test[\u001b[38;5;124m'\u001b[39m\u001b[38;5;124mindex\u001b[39m\u001b[38;5;124m'\u001b[39m]), :]\n",
      "File \u001b[0;32m~/opt/anaconda3/lib/python3.9/site-packages/pandas/core/generic.py:5588\u001b[0m, in \u001b[0;36mNDFrame.__setattr__\u001b[0;34m(self, name, value)\u001b[0m\n\u001b[1;32m   5586\u001b[0m \u001b[38;5;28;01mtry\u001b[39;00m:\n\u001b[1;32m   5587\u001b[0m     \u001b[38;5;28mobject\u001b[39m\u001b[38;5;241m.\u001b[39m\u001b[38;5;21m__getattribute__\u001b[39m(\u001b[38;5;28mself\u001b[39m, name)\n\u001b[0;32m-> 5588\u001b[0m     \u001b[38;5;28;01mreturn\u001b[39;00m \u001b[38;5;28;43mobject\u001b[39;49m\u001b[38;5;241;43m.\u001b[39;49m\u001b[38;5;21;43m__setattr__\u001b[39;49m\u001b[43m(\u001b[49m\u001b[38;5;28;43mself\u001b[39;49m\u001b[43m,\u001b[49m\u001b[43m \u001b[49m\u001b[43mname\u001b[49m\u001b[43m,\u001b[49m\u001b[43m \u001b[49m\u001b[43mvalue\u001b[49m\u001b[43m)\u001b[49m\n\u001b[1;32m   5589\u001b[0m \u001b[38;5;28;01mexcept\u001b[39;00m \u001b[38;5;167;01mAttributeError\u001b[39;00m:\n\u001b[1;32m   5590\u001b[0m     \u001b[38;5;28;01mpass\u001b[39;00m\n",
      "File \u001b[0;32m~/opt/anaconda3/lib/python3.9/site-packages/pandas/_libs/properties.pyx:70\u001b[0m, in \u001b[0;36mpandas._libs.properties.AxisProperty.__set__\u001b[0;34m()\u001b[0m\n",
      "File \u001b[0;32m~/opt/anaconda3/lib/python3.9/site-packages/pandas/core/generic.py:769\u001b[0m, in \u001b[0;36mNDFrame._set_axis\u001b[0;34m(self, axis, labels)\u001b[0m\n\u001b[1;32m    767\u001b[0m \u001b[38;5;28;01mdef\u001b[39;00m \u001b[38;5;21m_set_axis\u001b[39m(\u001b[38;5;28mself\u001b[39m, axis: \u001b[38;5;28mint\u001b[39m, labels: Index) \u001b[38;5;241m-\u001b[39m\u001b[38;5;241m>\u001b[39m \u001b[38;5;28;01mNone\u001b[39;00m:\n\u001b[1;32m    768\u001b[0m     labels \u001b[38;5;241m=\u001b[39m ensure_index(labels)\n\u001b[0;32m--> 769\u001b[0m     \u001b[38;5;28;43mself\u001b[39;49m\u001b[38;5;241;43m.\u001b[39;49m\u001b[43m_mgr\u001b[49m\u001b[38;5;241;43m.\u001b[39;49m\u001b[43mset_axis\u001b[49m\u001b[43m(\u001b[49m\u001b[43maxis\u001b[49m\u001b[43m,\u001b[49m\u001b[43m \u001b[49m\u001b[43mlabels\u001b[49m\u001b[43m)\u001b[49m\n\u001b[1;32m    770\u001b[0m     \u001b[38;5;28mself\u001b[39m\u001b[38;5;241m.\u001b[39m_clear_item_cache()\n",
      "File \u001b[0;32m~/opt/anaconda3/lib/python3.9/site-packages/pandas/core/internals/managers.py:214\u001b[0m, in \u001b[0;36mBaseBlockManager.set_axis\u001b[0;34m(self, axis, new_labels)\u001b[0m\n\u001b[1;32m    212\u001b[0m \u001b[38;5;28;01mdef\u001b[39;00m \u001b[38;5;21mset_axis\u001b[39m(\u001b[38;5;28mself\u001b[39m, axis: \u001b[38;5;28mint\u001b[39m, new_labels: Index) \u001b[38;5;241m-\u001b[39m\u001b[38;5;241m>\u001b[39m \u001b[38;5;28;01mNone\u001b[39;00m:\n\u001b[1;32m    213\u001b[0m     \u001b[38;5;66;03m# Caller is responsible for ensuring we have an Index object.\u001b[39;00m\n\u001b[0;32m--> 214\u001b[0m     \u001b[38;5;28;43mself\u001b[39;49m\u001b[38;5;241;43m.\u001b[39;49m\u001b[43m_validate_set_axis\u001b[49m\u001b[43m(\u001b[49m\u001b[43maxis\u001b[49m\u001b[43m,\u001b[49m\u001b[43m \u001b[49m\u001b[43mnew_labels\u001b[49m\u001b[43m)\u001b[49m\n\u001b[1;32m    215\u001b[0m     \u001b[38;5;28mself\u001b[39m\u001b[38;5;241m.\u001b[39maxes[axis] \u001b[38;5;241m=\u001b[39m new_labels\n",
      "File \u001b[0;32m~/opt/anaconda3/lib/python3.9/site-packages/pandas/core/internals/base.py:69\u001b[0m, in \u001b[0;36mDataManager._validate_set_axis\u001b[0;34m(self, axis, new_labels)\u001b[0m\n\u001b[1;32m     66\u001b[0m     \u001b[38;5;28;01mpass\u001b[39;00m\n\u001b[1;32m     68\u001b[0m \u001b[38;5;28;01melif\u001b[39;00m new_len \u001b[38;5;241m!=\u001b[39m old_len:\n\u001b[0;32m---> 69\u001b[0m     \u001b[38;5;28;01mraise\u001b[39;00m \u001b[38;5;167;01mValueError\u001b[39;00m(\n\u001b[1;32m     70\u001b[0m         \u001b[38;5;124mf\u001b[39m\u001b[38;5;124m\"\u001b[39m\u001b[38;5;124mLength mismatch: Expected axis has \u001b[39m\u001b[38;5;132;01m{\u001b[39;00mold_len\u001b[38;5;132;01m}\u001b[39;00m\u001b[38;5;124m elements, new \u001b[39m\u001b[38;5;124m\"\u001b[39m\n\u001b[1;32m     71\u001b[0m         \u001b[38;5;124mf\u001b[39m\u001b[38;5;124m\"\u001b[39m\u001b[38;5;124mvalues have \u001b[39m\u001b[38;5;132;01m{\u001b[39;00mnew_len\u001b[38;5;132;01m}\u001b[39;00m\u001b[38;5;124m elements\u001b[39m\u001b[38;5;124m\"\u001b[39m\n\u001b[1;32m     72\u001b[0m     )\n",
      "\u001b[0;31mValueError\u001b[0m: Length mismatch: Expected axis has 4 elements, new values have 3 elements"
     ]
    }
   ],
   "source": [
    "auc_list = pd.DataFrame({'round':[],\n",
    "                         'auc':[]\n",
    "                        })\n",
    "\n",
    "index_max = int\n",
    "\n",
    "indecies_test = indecies_test.loc[indecies_test['study_index'] == False, :]\n",
    "df = df.loc[df['id'].isin(indecies_test['index']), :]"
   ]
  },
  {
   "cell_type": "code",
   "execution_count": 4,
   "id": "f3d54c03",
   "metadata": {},
   "outputs": [],
   "source": [
    "# get labels and tte\n",
    "te_label = np.array(df.loc[:,['id', 'label']].drop_duplicates().label)\n",
    "te_time = np.array(df.loc[:, ['id', 'tte']].drop_duplicates().tte)"
   ]
  },
  {
   "cell_type": "markdown",
   "id": "262830d6",
   "metadata": {},
   "source": [
    "## PCE Calculation"
   ]
  },
  {
   "cell_type": "code",
   "execution_count": 5,
   "id": "138ff800",
   "metadata": {},
   "outputs": [],
   "source": [
    "# get risk measurements from PCE data set (Multiple)\n",
    "pce_pred_df, pce_df = ASCVD_Calc_PCE.pce_pred_df_tab(df, 8, 10)"
   ]
  },
  {
   "cell_type": "code",
   "execution_count": 6,
   "id": "cac7f129",
   "metadata": {},
   "outputs": [],
   "source": [
    "# calculate AUC \n",
    "def prediction_auc_PCE_df(pred_time, pred_time_index, pce_pred_df, cluster):\n",
    "    \"\"\"\n",
    "    Calculates the AUC of the PCE predictions at a given time\n",
    "    pred_time: pred time list of prediction times\n",
    "    pred_time_index: which prediction time in terms of position in the list \n",
    "    pce_pred_df: df of probability of PCE dataset\n",
    "    \"\"\"\n",
    "    global true, time_horizon\n",
    "    \n",
    "    time_horizon = pred_time + 10 \n",
    "    true = (te_time <= time_horizon) * (te_label == 1).astype(int)\n",
    "    \n",
    "    pce_pred_df['true_label'] = true\n",
    "    pce_pred_df = pce_pred_df.loc[~pce_pred_df.risk.isnull(),:]\n",
    "    \n",
    "    if cluster != 'none':\n",
    "        pce_pred_df = pce_pred_df.loc[pce_pred_df['labels'] == cluster, :]\n",
    "        \n",
    "    return pce_pred_df\n",
    "\n",
    "def prediction_auc_PCE(pred_time, pred_time_index, pce_pred_df, cluster):\n",
    "    \n",
    "    pce_pred_df = prediction_auc_PCE_df(pred_time, pred_time_index, pce_pred_df, cluster)\n",
    "    auc = roc_auc_score(pce_pred_df['true_label'].tolist(), pce_pred_df['risk'].tolist())\n",
    "    \n",
    "    return auc \n",
    "\n",
    "def prediction_ROC(pred_time, pred_time_index, pce_pred_df, cluster):\n",
    "    \n",
    "    pce_pred_df = prediction_auc_PCE_df(pred_time, pred_time_index, pce_pred_df, cluster)\n",
    "    fpr, tpr, thresh = roc_curve(pce_pred_df['true_label'].tolist(), pce_pred_df['risk'].tolist())\n",
    "    \n",
    "    return fpr, tpr, thresh"
   ]
  },
  {
   "cell_type": "code",
   "execution_count": 7,
   "id": "56546ed7",
   "metadata": {},
   "outputs": [
    {
     "name": "stdout",
     "output_type": "stream",
     "text": [
      "NULL Risk Values from PCE:  0\n",
      "PCE AUC: 0.801\n"
     ]
    }
   ],
   "source": [
    "# Get PCE AUC for Each Prediction Year\n",
    "print('NULL Risk Values from PCE: ', pce_pred_df.risk.isna().sum())\n",
    "print('PCE AUC:', np.round(prediction_auc_PCE(8, 10, pce_pred_df, 'none'),3))"
   ]
  },
  {
   "cell_type": "markdown",
   "id": "6f28e90d",
   "metadata": {},
   "source": [
    "## Get Risk Categories"
   ]
  },
  {
   "cell_type": "markdown",
   "id": "2a56c21e",
   "metadata": {},
   "source": [
    "#### Create Risk Categories\n",
    "1. Low: < 5% \n",
    "2. Borderline: 5% ~ 7.5% \n",
    "3. Intermediate: 7.5% ~ 20%\n",
    "4. High: > 20%"
   ]
  },
  {
   "cell_type": "code",
   "execution_count": 9,
   "id": "8f865fcd",
   "metadata": {},
   "outputs": [],
   "source": [
    "pce_pred_df['risk_cat'] = 'Low Risk'\n",
    "pce_pred_df.loc[(pce_pred_df['risk'] >= 0.05) & (pce_pred_df['risk'] < 0.075), 'risk_cat'] = 'Borderline Risk'\n",
    "pce_pred_df.loc[(pce_pred_df['risk'] >= 0.075) & (pce_pred_df['risk'] < 0.2), 'risk_cat'] = 'Intermediate Risk'\n",
    "pce_pred_df.loc[(pce_pred_df['risk'] >= 0.2), 'risk_cat'] = 'High Risk'"
   ]
  },
  {
   "cell_type": "markdown",
   "id": "60892f56",
   "metadata": {},
   "source": [
    "#### DDH Risk Breakdown by PCE Standards"
   ]
  },
  {
   "cell_type": "code",
   "execution_count": 10,
   "id": "d99fdf75",
   "metadata": {},
   "outputs": [
    {
     "data": {
      "text/plain": [
       "Low Risk             47.7\n",
       "Intermediate Risk    28.6\n",
       "Borderline Risk      13.9\n",
       "High Risk             9.9\n",
       "Name: risk_cat, dtype: float64"
      ]
     },
     "execution_count": 10,
     "metadata": {},
     "output_type": "execute_result"
    }
   ],
   "source": [
    "round(pce_pred_df.risk_cat.value_counts() / len(pce_pred_df),3)*100"
   ]
  },
  {
   "cell_type": "code",
   "execution_count": 11,
   "id": "cb3fafa4",
   "metadata": {},
   "outputs": [
    {
     "data": {
      "text/html": [
       "<div>\n",
       "<style scoped>\n",
       "    .dataframe tbody tr th:only-of-type {\n",
       "        vertical-align: middle;\n",
       "    }\n",
       "\n",
       "    .dataframe tbody tr th {\n",
       "        vertical-align: top;\n",
       "    }\n",
       "\n",
       "    .dataframe thead th {\n",
       "        text-align: right;\n",
       "    }\n",
       "</style>\n",
       "<table border=\"1\" class=\"dataframe\">\n",
       "  <thead>\n",
       "    <tr style=\"text-align: right;\">\n",
       "      <th></th>\n",
       "      <th>risk_cat</th>\n",
       "      <th>true_label</th>\n",
       "      <th>counts</th>\n",
       "      <th>total_counts</th>\n",
       "      <th>percentage</th>\n",
       "    </tr>\n",
       "  </thead>\n",
       "  <tbody>\n",
       "    <tr>\n",
       "      <th>0</th>\n",
       "      <td>Borderline Risk</td>\n",
       "      <td>0</td>\n",
       "      <td>1659</td>\n",
       "      <td>1727</td>\n",
       "      <td>96.1</td>\n",
       "    </tr>\n",
       "    <tr>\n",
       "      <th>1</th>\n",
       "      <td>Borderline Risk</td>\n",
       "      <td>1</td>\n",
       "      <td>68</td>\n",
       "      <td>1727</td>\n",
       "      <td>3.9</td>\n",
       "    </tr>\n",
       "    <tr>\n",
       "      <th>2</th>\n",
       "      <td>High Risk</td>\n",
       "      <td>0</td>\n",
       "      <td>980</td>\n",
       "      <td>1228</td>\n",
       "      <td>79.8</td>\n",
       "    </tr>\n",
       "    <tr>\n",
       "      <th>3</th>\n",
       "      <td>High Risk</td>\n",
       "      <td>1</td>\n",
       "      <td>248</td>\n",
       "      <td>1228</td>\n",
       "      <td>20.2</td>\n",
       "    </tr>\n",
       "    <tr>\n",
       "      <th>4</th>\n",
       "      <td>Intermediate Risk</td>\n",
       "      <td>0</td>\n",
       "      <td>3216</td>\n",
       "      <td>3557</td>\n",
       "      <td>90.4</td>\n",
       "    </tr>\n",
       "    <tr>\n",
       "      <th>5</th>\n",
       "      <td>Intermediate Risk</td>\n",
       "      <td>1</td>\n",
       "      <td>341</td>\n",
       "      <td>3557</td>\n",
       "      <td>9.6</td>\n",
       "    </tr>\n",
       "    <tr>\n",
       "      <th>6</th>\n",
       "      <td>Low Risk</td>\n",
       "      <td>0</td>\n",
       "      <td>5874</td>\n",
       "      <td>5940</td>\n",
       "      <td>98.9</td>\n",
       "    </tr>\n",
       "    <tr>\n",
       "      <th>7</th>\n",
       "      <td>Low Risk</td>\n",
       "      <td>1</td>\n",
       "      <td>66</td>\n",
       "      <td>5940</td>\n",
       "      <td>1.1</td>\n",
       "    </tr>\n",
       "  </tbody>\n",
       "</table>\n",
       "</div>"
      ],
      "text/plain": [
       "            risk_cat  true_label  counts  total_counts  percentage\n",
       "0    Borderline Risk           0    1659          1727        96.1\n",
       "1    Borderline Risk           1      68          1727         3.9\n",
       "2          High Risk           0     980          1228        79.8\n",
       "3          High Risk           1     248          1228        20.2\n",
       "4  Intermediate Risk           0    3216          3557        90.4\n",
       "5  Intermediate Risk           1     341          3557         9.6\n",
       "6           Low Risk           0    5874          5940        98.9\n",
       "7           Low Risk           1      66          5940         1.1"
      ]
     },
     "execution_count": 11,
     "metadata": {},
     "output_type": "execute_result"
    }
   ],
   "source": [
    "test = pd.DataFrame(pce_pred_df.groupby('risk_cat').true_label.value_counts()).rename(columns = {'true_label' : 'counts'}).reset_index()\n",
    "test2 = pd.DataFrame(pce_pred_df.risk_cat.value_counts()).reset_index().rename(columns = {'risk_cat' : 'total_counts', 'index' : 'risk_cat'})\n",
    "test = pd.merge(test, test2)\n",
    "test['percentage'] = round(test['counts'] / test['total_counts'],3) * 100\n",
    "test"
   ]
  },
  {
   "cell_type": "code",
   "execution_count": 12,
   "id": "20aa7c4d",
   "metadata": {},
   "outputs": [],
   "source": [
    "pce_pred_df.to_csv('pce_pred_training_df.csv', index = False)"
   ]
  },
  {
   "cell_type": "markdown",
   "id": "e3d537a1",
   "metadata": {},
   "source": [
    "\n",
    "\n",
    "\n",
    "\n",
    "-----------\n",
    "## Compare Risk Categories"
   ]
  },
  {
   "cell_type": "code",
   "execution_count": null,
   "id": "43d26bd8",
   "metadata": {},
   "outputs": [],
   "source": [
    "ddh_pred_df = pd.read_csv('/Users/excenity/Dropbox/HSIP/Research/MESA/Output/DDH_pred_df.csv')\n",
    "\n",
    "ddh_pred_df = ddh_pred_df.loc[:, ['pt_id', 'value']].rename(columns = {'value' : 'ddh_risk'})\n",
    "\n",
    "pred_df = pd.merge(ddh_pred_df, pce_pred_df.loc[:,['risk', 'true_label', 'risk_cat']].reset_index().rename(columns = {'index' : 'pt_id'})).rename(columns = {'risk' : 'pce_risk'})"
   ]
  },
  {
   "cell_type": "code",
   "execution_count": null,
   "id": "56a0e724",
   "metadata": {},
   "outputs": [],
   "source": [
    "# Mean PCE Risk\n",
    "round(pred_df.groupby('risk_cat').pce_risk.mean(),3)"
   ]
  },
  {
   "cell_type": "code",
   "execution_count": null,
   "id": "40e5163f",
   "metadata": {},
   "outputs": [],
   "source": [
    "# Mean DDH Risk\n",
    "round(pred_df.groupby('risk_cat').ddh_risk.mean(),3)"
   ]
  },
  {
   "cell_type": "markdown",
   "id": "56bee42f",
   "metadata": {},
   "source": [
    "### PCE AUC by Risk Category"
   ]
  },
  {
   "cell_type": "code",
   "execution_count": null,
   "id": "5ad6efde",
   "metadata": {},
   "outputs": [],
   "source": [
    "# get accuracy scores for each risk category\n",
    "print(round(roc_auc_score(pred_df.loc[pred_df['risk_cat'] == 'Low Risk', 'true_label'], pred_df.loc[pred_df['risk_cat'] == 'Low Risk', 'pce_risk']), 3))\n",
    "print(round(roc_auc_score(pred_df.loc[pred_df['risk_cat'] == 'Borderline Risk', 'true_label'], pred_df.loc[pred_df['risk_cat'] == 'Borderline Risk', 'pce_risk']), 3))\n",
    "print(round(roc_auc_score(pred_df.loc[pred_df['risk_cat'] == 'Intermediate Risk', 'true_label'], pred_df.loc[pred_df['risk_cat'] == 'Intermediate Risk', 'pce_risk']),3))\n",
    "print(round(roc_auc_score(pred_df.loc[pred_df['risk_cat'] == 'High Risk', 'true_label'], pred_df.loc[pred_df['risk_cat'] == 'High Risk', 'pce_risk']), 3))"
   ]
  },
  {
   "cell_type": "markdown",
   "id": "7ffc28de",
   "metadata": {},
   "source": [
    "### DDH AUC by Risk Category"
   ]
  },
  {
   "cell_type": "code",
   "execution_count": null,
   "id": "21a3935a",
   "metadata": {},
   "outputs": [],
   "source": [
    "# get accuracy scores for each risk category\n",
    "print(round(roc_auc_score(pred_df.loc[pred_df['risk_cat'] == 'Low Risk', 'true_label'], pred_df.loc[pred_df['risk_cat'] == 'Low Risk', 'ddh_risk']), 3))\n",
    "print(round(roc_auc_score(pred_df.loc[pred_df['risk_cat'] == 'Borderline Risk', 'true_label'], pred_df.loc[pred_df['risk_cat'] == 'Borderline Risk', 'ddh_risk']), 3))\n",
    "print(round(roc_auc_score(pred_df.loc[pred_df['risk_cat'] == 'Intermediate Risk', 'true_label'], pred_df.loc[pred_df['risk_cat'] == 'Intermediate Risk', 'ddh_risk']),3))\n",
    "print(round(roc_auc_score(pred_df.loc[pred_df['risk_cat'] == 'High Risk', 'true_label'], pred_df.loc[pred_df['risk_cat'] == 'High Risk', 'ddh_risk']), 3))"
   ]
  },
  {
   "cell_type": "code",
   "execution_count": null,
   "id": "ab44c209",
   "metadata": {},
   "outputs": [],
   "source": [
    "RocCurveDisplay.from_predictions()"
   ]
  },
  {
   "cell_type": "code",
   "execution_count": null,
   "id": "d4940431",
   "metadata": {},
   "outputs": [],
   "source": []
  }
 ],
 "metadata": {
  "kernelspec": {
   "display_name": "Python 3 (ipykernel)",
   "language": "python",
   "name": "python3"
  },
  "language_info": {
   "codemirror_mode": {
    "name": "ipython",
    "version": 3
   },
   "file_extension": ".py",
   "mimetype": "text/x-python",
   "name": "python",
   "nbconvert_exporter": "python",
   "pygments_lexer": "ipython3",
   "version": "3.9.12"
  }
 },
 "nbformat": 4,
 "nbformat_minor": 5
}
