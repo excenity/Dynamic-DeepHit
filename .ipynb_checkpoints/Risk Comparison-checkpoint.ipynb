{
 "cells": [
  {
   "cell_type": "markdown",
   "id": "fd5631ea-9bd7-4ade-8b90-c062fdde409e",
   "metadata": {},
   "source": [
    "# Risk Comparsion"
   ]
  },
  {
   "cell_type": "markdown",
   "id": "c9b24cc5-8ff5-4b45-aa3f-4c039856db2e",
   "metadata": {},
   "source": [
    "1. Get rankings of risk prediction scores from PCE and DDH\n",
    "2. Look at their relative positions \n",
    "3. See how many of them are reclassified. "
   ]
  },
  {
   "cell_type": "markdown",
   "id": "aa24cb60-8d35-443e-9afa-372c7478be7d",
   "metadata": {},
   "source": [
    "## Project PCE thresholds DDH Risks"
   ]
  },
  {
   "cell_type": "code",
   "execution_count": 1,
   "id": "9152e61d-b0e9-4a6c-b9c8-65be8318c155",
   "metadata": {},
   "outputs": [],
   "source": [
    "import pandas as pd"
   ]
  },
  {
   "cell_type": "code",
   "execution_count": 2,
   "id": "44655a3c-1f3b-44fc-a1e7-7633d1e8e920",
   "metadata": {},
   "outputs": [],
   "source": [
    "ddh_risk_df = pd.read_csv('/Users/excenity/Dropbox/HSIP/Research/MESA/Output/DDH_pred_df.csv')"
   ]
  },
  {
   "cell_type": "code",
   "execution_count": 3,
   "id": "28f6da3e-f22d-439a-8432-d38cd05ce459",
   "metadata": {},
   "outputs": [],
   "source": [
    "ddh_risk_df['risk_category'] = 'low'\n",
    "ddh_risk_df.loc[(ddh_risk_df['value'] >= 0.05) & (ddh_risk_df['value'] < 0.075), 'risk_category'] = 'borderline'\n",
    "ddh_risk_df.loc[(ddh_risk_df['value'] >= 0.075) & (ddh_risk_df['value'] < 0.2), 'risk_category'] = 'intermediate'\n",
    "ddh_risk_df.loc[(ddh_risk_df['value'] >= 0.20), 'risk_category'] = 'high'"
   ]
  },
  {
   "cell_type": "code",
   "execution_count": 4,
   "id": "66005677-6ac9-4ee1-a45d-4244d2ab6ae2",
   "metadata": {},
   "outputs": [
    {
     "data": {
      "text/plain": [
       "intermediate    0.518768\n",
       "low             0.321530\n",
       "borderline      0.159703\n",
       "Name: risk_category, dtype: float64"
      ]
     },
     "execution_count": 4,
     "metadata": {},
     "output_type": "execute_result"
    }
   ],
   "source": [
    "ddh_risk_df.risk_category.value_counts()/len(ddh_risk_df)"
   ]
  },
  {
   "cell_type": "code",
   "execution_count": 5,
   "id": "46b0a128-ac8e-4f38-9c1e-9b763f221df5",
   "metadata": {},
   "outputs": [
    {
     "data": {
      "text/plain": [
       "<AxesSubplot:>"
      ]
     },
     "execution_count": 5,
     "metadata": {},
     "output_type": "execute_result"
    },
    {
     "data": {
      "image/png": "[encoded data removed]",
      "text/plain": [
       "<Figure size 432x288 with 1 Axes>"
      ]
     },
     "metadata": {
      "needs_background": "light"
     },
     "output_type": "display_data"
    }
   ],
   "source": [
    "ddh_risk_df.value.hist()"
   ]
  },
  {
   "cell_type": "markdown",
   "id": "a0ae09ce-14bc-4763-990a-1629192e502a",
   "metadata": {},
   "source": [
    "## Ranking Comparison"
   ]
  },
  {
   "cell_type": "code",
   "execution_count": 22,
   "id": "ef5e11d4-ff59-412e-ae4f-5e5bd3cfc5f5",
   "metadata": {},
   "outputs": [],
   "source": [
    "pce_pred_df_order = pce_pred_df.loc[:,['risk', 'risk_cat', 'true_label']].sort_values('risk').reset_index().rename(columns = {'index': 'id'}).reset_index().rename(columns = {'index': 'risk_order_pce'})"
   ]
  },
  {
   "cell_type": "code",
   "execution_count": 23,
   "id": "d91c8711-d3c4-4a8b-a243-f6d2201c13b7",
   "metadata": {},
   "outputs": [
    {
     "data": {
      "text/html": [
       "<div>\n",
       "<style scoped>\n",
       "    .dataframe tbody tr th:only-of-type {\n",
       "        vertical-align: middle;\n",
       "    }\n",
       "\n",
       "    .dataframe tbody tr th {\n",
       "        vertical-align: top;\n",
       "    }\n",
       "\n",
       "    .dataframe thead th {\n",
       "        text-align: right;\n",
       "    }\n",
       "</style>\n",
       "<table border=\"1\" class=\"dataframe\">\n",
       "  <thead>\n",
       "    <tr style=\"text-align: right;\">\n",
       "      <th></th>\n",
       "      <th>risk_order_pce</th>\n",
       "      <th>id</th>\n",
       "      <th>risk</th>\n",
       "      <th>risk_cat</th>\n",
       "      <th>true_label</th>\n",
       "    </tr>\n",
       "  </thead>\n",
       "  <tbody>\n",
       "    <tr>\n",
       "      <th>0</th>\n",
       "      <td>0</td>\n",
       "      <td>2178</td>\n",
       "      <td>0.001</td>\n",
       "      <td>Low Risk</td>\n",
       "      <td>0</td>\n",
       "    </tr>\n",
       "    <tr>\n",
       "      <th>1</th>\n",
       "      <td>1</td>\n",
       "      <td>1706</td>\n",
       "      <td>0.001</td>\n",
       "      <td>Low Risk</td>\n",
       "      <td>0</td>\n",
       "    </tr>\n",
       "    <tr>\n",
       "      <th>2</th>\n",
       "      <td>2</td>\n",
       "      <td>1590</td>\n",
       "      <td>0.001</td>\n",
       "      <td>Low Risk</td>\n",
       "      <td>0</td>\n",
       "    </tr>\n",
       "    <tr>\n",
       "      <th>3</th>\n",
       "      <td>3</td>\n",
       "      <td>2200</td>\n",
       "      <td>0.001</td>\n",
       "      <td>Low Risk</td>\n",
       "      <td>0</td>\n",
       "    </tr>\n",
       "    <tr>\n",
       "      <th>4</th>\n",
       "      <td>4</td>\n",
       "      <td>1973</td>\n",
       "      <td>0.002</td>\n",
       "      <td>Low Risk</td>\n",
       "      <td>0</td>\n",
       "    </tr>\n",
       "    <tr>\n",
       "      <th>...</th>\n",
       "      <td>...</td>\n",
       "      <td>...</td>\n",
       "      <td>...</td>\n",
       "      <td>...</td>\n",
       "      <td>...</td>\n",
       "    </tr>\n",
       "    <tr>\n",
       "      <th>2765</th>\n",
       "      <td>2765</td>\n",
       "      <td>596</td>\n",
       "      <td>0.613</td>\n",
       "      <td>High Risk</td>\n",
       "      <td>0</td>\n",
       "    </tr>\n",
       "    <tr>\n",
       "      <th>2766</th>\n",
       "      <td>2766</td>\n",
       "      <td>10</td>\n",
       "      <td>0.618</td>\n",
       "      <td>High Risk</td>\n",
       "      <td>1</td>\n",
       "    </tr>\n",
       "    <tr>\n",
       "      <th>2767</th>\n",
       "      <td>2767</td>\n",
       "      <td>405</td>\n",
       "      <td>0.652</td>\n",
       "      <td>High Risk</td>\n",
       "      <td>0</td>\n",
       "    </tr>\n",
       "    <tr>\n",
       "      <th>2768</th>\n",
       "      <td>2768</td>\n",
       "      <td>43</td>\n",
       "      <td>0.688</td>\n",
       "      <td>High Risk</td>\n",
       "      <td>0</td>\n",
       "    </tr>\n",
       "    <tr>\n",
       "      <th>2769</th>\n",
       "      <td>2769</td>\n",
       "      <td>1360</td>\n",
       "      <td>0.695</td>\n",
       "      <td>High Risk</td>\n",
       "      <td>0</td>\n",
       "    </tr>\n",
       "  </tbody>\n",
       "</table>\n",
       "<p>2770 rows × 5 columns</p>\n",
       "</div>"
      ],
      "text/plain": [
       "      risk_order_pce    id   risk   risk_cat  true_label\n",
       "0                  0  2178  0.001   Low Risk           0\n",
       "1                  1  1706  0.001   Low Risk           0\n",
       "2                  2  1590  0.001   Low Risk           0\n",
       "3                  3  2200  0.001   Low Risk           0\n",
       "4                  4  1973  0.002   Low Risk           0\n",
       "...              ...   ...    ...        ...         ...\n",
       "2765            2765   596  0.613  High Risk           0\n",
       "2766            2766    10  0.618  High Risk           1\n",
       "2767            2767   405  0.652  High Risk           0\n",
       "2768            2768    43  0.688  High Risk           0\n",
       "2769            2769  1360  0.695  High Risk           0\n",
       "\n",
       "[2770 rows x 5 columns]"
      ]
     },
     "execution_count": 23,
     "metadata": {},
     "output_type": "execute_result"
    }
   ],
   "source": [
    "pce_pred_df_order"
   ]
  },
  {
   "cell_type": "code",
   "execution_count": 17,
   "id": "14874bb4-e1be-4268-b1a4-1ed065662a8a",
   "metadata": {},
   "outputs": [],
   "source": [
    "ddh_risk_df_order = ddh_risk_df.loc[:,['value', 'risk_category']].sort_values('value').reset_index().rename(columns = {'index': 'id'}).reset_index().rename(columns = {'index': 'risk_order_ddh'})"
   ]
  },
  {
   "cell_type": "code",
   "execution_count": 18,
   "id": "92e6ab97-bbba-4f0b-a9ef-630e3ca1e819",
   "metadata": {},
   "outputs": [
    {
     "data": {
      "text/html": [
       "<div>\n",
       "<style scoped>\n",
       "    .dataframe tbody tr th:only-of-type {\n",
       "        vertical-align: middle;\n",
       "    }\n",
       "\n",
       "    .dataframe tbody tr th {\n",
       "        vertical-align: top;\n",
       "    }\n",
       "\n",
       "    .dataframe thead th {\n",
       "        text-align: right;\n",
       "    }\n",
       "</style>\n",
       "<table border=\"1\" class=\"dataframe\">\n",
       "  <thead>\n",
       "    <tr style=\"text-align: right;\">\n",
       "      <th></th>\n",
       "      <th>risk_order_ddh</th>\n",
       "      <th>id</th>\n",
       "      <th>value</th>\n",
       "      <th>risk_category</th>\n",
       "    </tr>\n",
       "  </thead>\n",
       "  <tbody>\n",
       "    <tr>\n",
       "      <th>0</th>\n",
       "      <td>0</td>\n",
       "      <td>2651</td>\n",
       "      <td>0.006601</td>\n",
       "      <td>low</td>\n",
       "    </tr>\n",
       "    <tr>\n",
       "      <th>1</th>\n",
       "      <td>1</td>\n",
       "      <td>2522</td>\n",
       "      <td>0.006964</td>\n",
       "      <td>low</td>\n",
       "    </tr>\n",
       "    <tr>\n",
       "      <th>2</th>\n",
       "      <td>2</td>\n",
       "      <td>1714</td>\n",
       "      <td>0.006987</td>\n",
       "      <td>low</td>\n",
       "    </tr>\n",
       "    <tr>\n",
       "      <th>3</th>\n",
       "      <td>3</td>\n",
       "      <td>2521</td>\n",
       "      <td>0.007097</td>\n",
       "      <td>low</td>\n",
       "    </tr>\n",
       "    <tr>\n",
       "      <th>4</th>\n",
       "      <td>4</td>\n",
       "      <td>2473</td>\n",
       "      <td>0.007745</td>\n",
       "      <td>low</td>\n",
       "    </tr>\n",
       "    <tr>\n",
       "      <th>...</th>\n",
       "      <td>...</td>\n",
       "      <td>...</td>\n",
       "      <td>...</td>\n",
       "      <td>...</td>\n",
       "    </tr>\n",
       "    <tr>\n",
       "      <th>2819</th>\n",
       "      <td>2819</td>\n",
       "      <td>2761</td>\n",
       "      <td>0.113581</td>\n",
       "      <td>intermediate</td>\n",
       "    </tr>\n",
       "    <tr>\n",
       "      <th>2820</th>\n",
       "      <td>2820</td>\n",
       "      <td>891</td>\n",
       "      <td>0.113581</td>\n",
       "      <td>intermediate</td>\n",
       "    </tr>\n",
       "    <tr>\n",
       "      <th>2821</th>\n",
       "      <td>2821</td>\n",
       "      <td>1152</td>\n",
       "      <td>0.113581</td>\n",
       "      <td>intermediate</td>\n",
       "    </tr>\n",
       "    <tr>\n",
       "      <th>2822</th>\n",
       "      <td>2822</td>\n",
       "      <td>2600</td>\n",
       "      <td>0.113581</td>\n",
       "      <td>intermediate</td>\n",
       "    </tr>\n",
       "    <tr>\n",
       "      <th>2823</th>\n",
       "      <td>2823</td>\n",
       "      <td>1172</td>\n",
       "      <td>0.113581</td>\n",
       "      <td>intermediate</td>\n",
       "    </tr>\n",
       "  </tbody>\n",
       "</table>\n",
       "<p>2824 rows × 4 columns</p>\n",
       "</div>"
      ],
      "text/plain": [
       "      risk_order_ddh    id     value risk_category\n",
       "0                  0  2651  0.006601           low\n",
       "1                  1  2522  0.006964           low\n",
       "2                  2  1714  0.006987           low\n",
       "3                  3  2521  0.007097           low\n",
       "4                  4  2473  0.007745           low\n",
       "...              ...   ...       ...           ...\n",
       "2819            2819  2761  0.113581  intermediate\n",
       "2820            2820   891  0.113581  intermediate\n",
       "2821            2821  1152  0.113581  intermediate\n",
       "2822            2822  2600  0.113581  intermediate\n",
       "2823            2823  1172  0.113581  intermediate\n",
       "\n",
       "[2824 rows x 4 columns]"
      ]
     },
     "execution_count": 18,
     "metadata": {},
     "output_type": "execute_result"
    }
   ],
   "source": [
    "ddh_risk_df_order"
   ]
  },
  {
   "cell_type": "code",
   "execution_count": 19,
   "id": "8cf8c447-0193-42bc-8bf0-ffb276c886e6",
   "metadata": {},
   "outputs": [],
   "source": [
    "pce_pred_df_order = pce_pred_df_order.rename(columns = {'risk_cat' : 'risk_cat_pce'})\n",
    "ddh_risk_df_order = ddh_risk_df_order.rename(columns = {'risk_category' : 'risk_cat_ddh'})"
   ]
  },
  {
   "cell_type": "code",
   "execution_count": 20,
   "id": "a24fc536-9718-42ab-9eb1-b4a2c154a2db",
   "metadata": {},
   "outputs": [],
   "source": [
    "risk_df_order = pd.merge(pce_pred_df_order, ddh_risk_df_order)"
   ]
  },
  {
   "cell_type": "code",
   "execution_count": 21,
   "id": "5993fd80-e6e7-4a1c-a493-7a3aaa92ced2",
   "metadata": {},
   "outputs": [],
   "source": [
    "risk_df_order.to_csv('risk_df_order.csv', index = False)"
   ]
  },
  {
   "cell_type": "markdown",
   "id": "f434eca6-0363-423f-8245-1eff1871783a",
   "metadata": {},
   "source": [
    "## Risk Comparison\n",
    "1. Scale risk scores to mean "
   ]
  },
  {
   "cell_type": "code",
   "execution_count": 6,
   "id": "3ee2a047-c75a-47b5-89ca-e5f4953ca93a",
   "metadata": {},
   "outputs": [],
   "source": [
    "pce_pred_df = pd.read_csv('pce_pred_df.csv')"
   ]
  },
  {
   "cell_type": "code",
   "execution_count": 7,
   "id": "4099e0c9-216b-449f-b7ef-5a350b287eba",
   "metadata": {},
   "outputs": [
    {
     "data": {
      "text/plain": [
       "2770"
      ]
     },
     "execution_count": 7,
     "metadata": {},
     "output_type": "execute_result"
    }
   ],
   "source": [
    "len(pce_pred_df)"
   ]
  },
  {
   "cell_type": "code",
   "execution_count": 8,
   "id": "926de67b-cd04-4182-8f1f-769c29875e80",
   "metadata": {},
   "outputs": [],
   "source": [
    "from sklearn.preprocessing import MinMaxScaler\n",
    "\n",
    "risk_df = pd.concat([ddh_risk_df['value'], pce_pred_df['risk']], axis = 1)\n",
    "risk_df.columns = ['ddh_risk', 'pce_risk']\n",
    "\n",
    "scaler = MinMaxScaler()\n",
    "risk_df_scale = scaler.fit_transform(risk_df.to_numpy())\n",
    "risk_df_scale = pd.DataFrame(risk_df_scale)\n",
    "\n",
    "risk_df_scale = risk_df_scale.reset_index().rename(columns = {'index':'id'})\n",
    "risk_df_scale.columns = ['index','ddh_risk_scaled', 'pce_risk_scaled']"
   ]
  },
  {
   "cell_type": "code",
   "execution_count": 9,
   "id": "690a3614-1cff-4668-a79c-3b68e00a2600",
   "metadata": {},
   "outputs": [
    {
     "data": {
      "text/plain": [
       "index              1411.500000\n",
       "ddh_risk_scaled       0.581416\n",
       "pce_risk_scaled       0.120001\n",
       "dtype: float64"
      ]
     },
     "execution_count": 9,
     "metadata": {},
     "output_type": "execute_result"
    }
   ],
   "source": [
    "risk_df_scale.mean()"
   ]
  },
  {
   "cell_type": "code",
   "execution_count": 10,
   "id": "e82472bc-9b3c-4005-90af-710e8e64603b",
   "metadata": {},
   "outputs": [],
   "source": [
    "# calculate distance\n",
    "risk_df_scale['ddh_risk_scaled_dist'] = (risk_df_scale['ddh_risk_scaled'] - risk_df_scale['ddh_risk_scaled'].mean())\n",
    "risk_df_scale['pce_risk_scaled_dist'] = (risk_df_scale['pce_risk_scaled'] - risk_df_scale['pce_risk_scaled'].mean()) "
   ]
  },
  {
   "cell_type": "code",
   "execution_count": 11,
   "id": "e73faff8-4cbb-4b89-b8ee-0ff49da02692",
   "metadata": {},
   "outputs": [],
   "source": [
    "# visualization\n",
    "import seaborn as sns\n",
    "import matplotlib.pyplot as plt\n",
    "\n",
    "sns.set(rc={\"figure.figsize\":(5, 5)})"
   ]
  },
  {
   "cell_type": "code",
   "execution_count": 12,
   "id": "224702af-f05f-4ac6-9002-77fc8f001237",
   "metadata": {},
   "outputs": [
    {
     "data": {
      "text/plain": [
       "<AxesSubplot:xlabel='pce_risk_scaled_dist', ylabel='ddh_risk_scaled_dist'>"
      ]
     },
     "execution_count": 12,
     "metadata": {},
     "output_type": "execute_result"
    },
    {
     "data": {
      "image/png": "[encoded data removed]",
      "text/plain": [
       "<Figure size 360x360 with 1 Axes>"
      ]
     },
     "metadata": {},
     "output_type": "display_data"
    }
   ],
   "source": [
    "sns.scatterplot(data=risk_df_scale, x=\"pce_risk_scaled_dist\", y=\"ddh_risk_scaled_dist\")"
   ]
  },
  {
   "cell_type": "code",
   "execution_count": 13,
   "id": "74f49f05-42cc-4860-85c0-6094f326aaf8",
   "metadata": {},
   "outputs": [
    {
     "data": {
      "text/plain": [
       "<AxesSubplot:>"
      ]
     },
     "execution_count": 13,
     "metadata": {},
     "output_type": "execute_result"
    },
    {
     "data": {
      "image/png": "[encoded data removed]",
      "text/plain": [
       "<Figure size 360x360 with 1 Axes>"
      ]
     },
     "metadata": {},
     "output_type": "display_data"
    }
   ],
   "source": [
    "risk_df_scale.pce_risk_scaled. hist()"
   ]
  },
  {
   "cell_type": "code",
   "execution_count": 14,
   "id": "a108185d-eaf6-4e26-af03-239d2e03a551",
   "metadata": {},
   "outputs": [
    {
     "data": {
      "text/plain": [
       "<AxesSubplot:>"
      ]
     },
     "execution_count": 14,
     "metadata": {},
     "output_type": "execute_result"
    },
    {
     "data": {
      "image/png": "[encoded data removed]",
      "text/plain": [
       "<Figure size 360x360 with 1 Axes>"
      ]
     },
     "metadata": {},
     "output_type": "display_data"
    }
   ],
   "source": [
    "risk_df_scale.ddh_risk_scaled.hist()"
   ]
  }
 ],
 "metadata": {
  "kernelspec": {
   "display_name": "Python 3 (ipykernel)",
   "language": "python",
   "name": "python3"
  },
  "language_info": {
   "codemirror_mode": {
    "name": "ipython",
    "version": 3
   },
   "file_extension": ".py",
   "mimetype": "text/x-python",
   "name": "python",
   "nbconvert_exporter": "python",
   "pygments_lexer": "ipython3",
   "version": "3.8.8"
  }
 },
 "nbformat": 4,
 "nbformat_minor": 5
}
