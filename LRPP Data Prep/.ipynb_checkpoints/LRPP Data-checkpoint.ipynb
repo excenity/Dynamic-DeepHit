{
 "cells": [
  {
   "cell_type": "markdown",
   "id": "6be43adf",
   "metadata": {},
   "source": [
    "# LRPP Data Organizer\n",
    "#### Jingzhi Kevin Yu\n",
    "#### Date Updated: 11/13/21"
   ]
  },
  {
   "cell_type": "markdown",
   "id": "d5b2b900-cc64-4494-9030-f00e3a4e8df8",
   "metadata": {},
   "source": [
    "## Environment Prep"
   ]
  },
  {
   "cell_type": "code",
   "execution_count": 12,
   "id": "6b5868ce",
   "metadata": {},
   "outputs": [],
   "source": [
    "# load packages\n",
    "import pandas as pd\n",
    "import numpy as np"
   ]
  },
  {
   "cell_type": "code",
   "execution_count": 13,
   "id": "90b962ab",
   "metadata": {},
   "outputs": [],
   "source": [
    "# load data\n",
    "df = pd.read_csv('/Volumes/fsmresfiles/PrevMed/Projects/MESA_RiskPred/LRPP data/LRPP.csv') # raw data \n",
    "target_df = pd.read_csv('/Volumes/fsmresfiles/PrevMed/Projects/MESA_RiskPred/Output/MESA_cleaned_DDH_ASCVDonly.csv') # target data"
   ]
  },
  {
   "cell_type": "markdown",
   "id": "0224501d-b889-4d65-bce2-2aaf9207101f",
   "metadata": {},
   "source": [
    "##### Sample Data"
   ]
  },
  {
   "cell_type": "code",
   "execution_count": 14,
   "id": "954d42ea-6912-4742-bae6-bf285a7500f7",
   "metadata": {},
   "outputs": [
    {
     "data": {
      "text/html": [
       "<div>\n",
       "<style scoped>\n",
       "    .dataframe tbody tr th:only-of-type {\n",
       "        vertical-align: middle;\n",
       "    }\n",
       "\n",
       "    .dataframe tbody tr th {\n",
       "        vertical-align: top;\n",
       "    }\n",
       "\n",
       "    .dataframe thead th {\n",
       "        text-align: right;\n",
       "    }\n",
       "</style>\n",
       "<table border=\"1\" class=\"dataframe\">\n",
       "  <thead>\n",
       "    <tr style=\"text-align: right;\">\n",
       "      <th></th>\n",
       "      <th>id</th>\n",
       "      <th>tte</th>\n",
       "      <th>label</th>\n",
       "      <th>cig</th>\n",
       "      <th>sbp</th>\n",
       "      <th>dbp</th>\n",
       "      <th>dm03</th>\n",
       "      <th>htnmed</th>\n",
       "      <th>hdl</th>\n",
       "      <th>chol</th>\n",
       "      <th>times</th>\n",
       "      <th>age</th>\n",
       "      <th>race</th>\n",
       "      <th>gender</th>\n",
       "    </tr>\n",
       "  </thead>\n",
       "  <tbody>\n",
       "    <tr>\n",
       "      <th>0</th>\n",
       "      <td>0</td>\n",
       "      <td>17.0</td>\n",
       "      <td>0</td>\n",
       "      <td>1.0</td>\n",
       "      <td>147.5</td>\n",
       "      <td>80.0</td>\n",
       "      <td>0.0</td>\n",
       "      <td>0.0</td>\n",
       "      <td>59.0</td>\n",
       "      <td>169.0</td>\n",
       "      <td>1.0</td>\n",
       "      <td>51.0</td>\n",
       "      <td>1</td>\n",
       "      <td>1</td>\n",
       "    </tr>\n",
       "    <tr>\n",
       "      <th>1</th>\n",
       "      <td>0</td>\n",
       "      <td>17.0</td>\n",
       "      <td>0</td>\n",
       "      <td>1.0</td>\n",
       "      <td>132.0</td>\n",
       "      <td>80.0</td>\n",
       "      <td>0.0</td>\n",
       "      <td>NaN</td>\n",
       "      <td>64.0</td>\n",
       "      <td>218.0</td>\n",
       "      <td>3.0</td>\n",
       "      <td>53.0</td>\n",
       "      <td>1</td>\n",
       "      <td>1</td>\n",
       "    </tr>\n",
       "    <tr>\n",
       "      <th>2</th>\n",
       "      <td>0</td>\n",
       "      <td>17.0</td>\n",
       "      <td>0</td>\n",
       "      <td>1.0</td>\n",
       "      <td>129.5</td>\n",
       "      <td>78.5</td>\n",
       "      <td>0.0</td>\n",
       "      <td>0.0</td>\n",
       "      <td>55.0</td>\n",
       "      <td>196.0</td>\n",
       "      <td>5.0</td>\n",
       "      <td>55.0</td>\n",
       "      <td>1</td>\n",
       "      <td>1</td>\n",
       "    </tr>\n",
       "    <tr>\n",
       "      <th>3</th>\n",
       "      <td>0</td>\n",
       "      <td>17.0</td>\n",
       "      <td>0</td>\n",
       "      <td>1.0</td>\n",
       "      <td>137.0</td>\n",
       "      <td>81.0</td>\n",
       "      <td>1.0</td>\n",
       "      <td>0.0</td>\n",
       "      <td>64.0</td>\n",
       "      <td>201.0</td>\n",
       "      <td>7.0</td>\n",
       "      <td>57.0</td>\n",
       "      <td>1</td>\n",
       "      <td>1</td>\n",
       "    </tr>\n",
       "    <tr>\n",
       "      <th>4</th>\n",
       "      <td>0</td>\n",
       "      <td>17.0</td>\n",
       "      <td>0</td>\n",
       "      <td>1.0</td>\n",
       "      <td>143.5</td>\n",
       "      <td>80.5</td>\n",
       "      <td>1.0</td>\n",
       "      <td>1.0</td>\n",
       "      <td>59.0</td>\n",
       "      <td>205.0</td>\n",
       "      <td>10.0</td>\n",
       "      <td>60.0</td>\n",
       "      <td>1</td>\n",
       "      <td>1</td>\n",
       "    </tr>\n",
       "  </tbody>\n",
       "</table>\n",
       "</div>"
      ],
      "text/plain": [
       "   id   tte  label  cig    sbp   dbp  dm03  htnmed   hdl   chol  times   age  \\\n",
       "0   0  17.0      0  1.0  147.5  80.0   0.0     0.0  59.0  169.0    1.0  51.0   \n",
       "1   0  17.0      0  1.0  132.0  80.0   0.0     NaN  64.0  218.0    3.0  53.0   \n",
       "2   0  17.0      0  1.0  129.5  78.5   0.0     0.0  55.0  196.0    5.0  55.0   \n",
       "3   0  17.0      0  1.0  137.0  81.0   1.0     0.0  64.0  201.0    7.0  57.0   \n",
       "4   0  17.0      0  1.0  143.5  80.5   1.0     1.0  59.0  205.0   10.0  60.0   \n",
       "\n",
       "   race  gender  \n",
       "0     1       1  \n",
       "1     1       1  \n",
       "2     1       1  \n",
       "3     1       1  \n",
       "4     1       1  "
      ]
     },
     "execution_count": 14,
     "metadata": {},
     "output_type": "execute_result"
    }
   ],
   "source": [
    "target_df.head()"
   ]
  },
  {
   "cell_type": "markdown",
   "id": "924619b9-b18b-45b2-83e6-26d7bb135668",
   "metadata": {},
   "source": [
    "## Data Wrangling"
   ]
  },
  {
   "cell_type": "markdown",
   "id": "2c0d950f",
   "metadata": {},
   "source": [
    "### Variable Selection and Renaming + Diabetes Variable Creation"
   ]
  },
  {
   "cell_type": "code",
   "execution_count": 15,
   "id": "7565ef0b-d3a4-4f60-b0ca-88e26756c4f9",
   "metadata": {},
   "outputs": [],
   "source": [
    "# get relevant variables from main dataset\n",
    "df = df.loc[:, ['AGE', 'ASCVD', 'RACE', 'SBP', 'DBP', 'RXHYP', 'TOTCHL', 'HDLCHL', 'ID_FINAL',\n",
    "                'LENYASCVD', 'PREVALENT_CVD', 'SMOKER' ,'SEX', 'STUDY', 'LENYFL', 'EXAM', 'GLUCOSE', 'HXDIAB']]\n",
    "\n",
    "# label diabetes\n",
    "df['dm03'] = 0\n",
    "df.loc[(df['GLUCOSE'] > 126) | (df['HXDIAB'] == 1), 'dm03'] = 1\n",
    "df.loc[(df['GLUCOSE'].isna()) & (df['HXDIAB'].isna()), 'dm03'] = None\n",
    "\n",
    "# change variable names\n",
    "df = df.rename(columns = \n",
    "{\n",
    "    'ID_FINAL':'id',\n",
    "    'LENYASCVD':'tte', \n",
    "    'ASCVD':'label',\n",
    "    'SMOKER':'cig', \n",
    "    'SBP':'sbp',\n",
    "    'DBP':'dbp',\n",
    "    'RXHYP':'htnmed',\n",
    "    'HDLCHL':'hdl',\n",
    "    'TOTCHL':'chol',\n",
    "    'LENYFL':'times',\n",
    "    'AGE':'age',\n",
    "    'SEX':'gender',\n",
    "    'RACE':'race'\n",
    "})\n",
    "\n",
    "# order data to match target data\n",
    "df = df.loc[:, ['id', 'tte', 'label', 'cig', 'sbp', 'dbp', 'dm03', 'htnmed', 'hdl', 'chol', 'times', 'age', 'race', 'gender', 'EXAM', 'STUDY']]"
   ]
  },
  {
   "cell_type": "code",
   "execution_count": 16,
   "id": "e4be8119-9faa-4dc8-89be-f802c8719dea",
   "metadata": {},
   "outputs": [
    {
     "name": "stdout",
     "output_type": "stream",
     "text": [
      "STUDY\n",
      "1    18.525903\n",
      "2    21.746108\n",
      "3    10.579956\n",
      "4    11.511635\n",
      "5    22.516093\n",
      "6    18.424410\n",
      "7     5.954698\n",
      "9    16.008429\n",
      "Name: times, dtype: float64\n",
      "STUDY\n",
      "1    31.1\n",
      "2    42.2\n",
      "3    22.6\n",
      "4    17.5\n",
      "5    63.2\n",
      "6    42.6\n",
      "7    12.2\n",
      "9    33.1\n",
      "Name: times, dtype: float64\n",
      "STUDY\n",
      "1    0.0\n",
      "2    0.0\n",
      "3    0.0\n",
      "4    0.0\n",
      "5    0.0\n",
      "6    0.0\n",
      "7    0.0\n",
      "9    0.0\n",
      "Name: times, dtype: float64\n"
     ]
    }
   ],
   "source": [
    "print(df.groupby('STUDY').times.mean())\n",
    "print(df.groupby('STUDY').times.max())\n",
    "print(df.groupby('STUDY').times.min())"
   ]
  },
  {
   "cell_type": "code",
   "execution_count": 17,
   "id": "700b568c-ade5-43f7-a9ac-5f10d497b761",
   "metadata": {},
   "outputs": [
    {
     "name": "stdout",
     "output_type": "stream",
     "text": [
      "STUDY\n",
      "1    17.776247\n",
      "2    21.311869\n",
      "3     8.757602\n",
      "4    11.041460\n",
      "5    18.912107\n",
      "6    16.601570\n",
      "7     5.774156\n",
      "9    15.185497\n",
      "Name: tte, dtype: float64\n",
      "STUDY\n",
      "1    31.1\n",
      "2    42.2\n",
      "3    22.5\n",
      "4    17.5\n",
      "5    63.2\n",
      "6    42.3\n",
      "7    12.2\n",
      "9    33.1\n",
      "Name: tte, dtype: float64\n",
      "STUDY\n",
      "1   -23.6\n",
      "2   -24.6\n",
      "3    -9.5\n",
      "4    -9.8\n",
      "5   -47.0\n",
      "6   -39.2\n",
      "7   -10.3\n",
      "9   -25.7\n",
      "Name: tte, dtype: float64\n"
     ]
    }
   ],
   "source": [
    "print(df.groupby('STUDY').tte.mean())\n",
    "print(df.groupby('STUDY').tte.max())\n",
    "print(df.groupby('STUDY').tte.min())"
   ]
  },
  {
   "cell_type": "markdown",
   "id": "524e7ed5",
   "metadata": {},
   "source": [
    "### Data Cleaning\n",
    "1. Update participant follow-up times and time to event\n",
    "2. Remove records after censoring\n",
    "3. Select and realign time of different studies\n",
    "    1. FHS: Start from year 15\n",
    "    2. FOF: Start from year 10\n",
    "4. Remove particiapnts who have ASCVD from first 5 years\n",
    "5. Log transform the cholesterol and HDL values "
   ]
  },
  {
   "cell_type": "markdown",
   "id": "63b9d603-be15-4a06-9218-38037f3e12f7",
   "metadata": {},
   "source": [
    "##### Update participant follow-up times and time to event(tte)"
   ]
  },
  {
   "cell_type": "code",
   "execution_count": 18,
   "id": "3e7e890c-8005-4430-957c-c2b576388525",
   "metadata": {},
   "outputs": [],
   "source": [
    "# get min date of each participant for follow-up times and time to event\n",
    "times_max_list = df.groupby(['id']).times.max().reset_index()\n",
    "times_max_list.columns = ['id', 'max_times']\n",
    "tte_max_list = df.groupby(['id']).tte.max().reset_index()\n",
    "tte_max_list.columns = ['id', 'max_tte']\n",
    "\n",
    "# get times and tte variable \n",
    "df = pd.merge(df, times_max_list)\n",
    "df = pd.merge(df, tte_max_list)\n",
    "\n",
    "# times = max_times - follow-up time\n",
    "df['times'] = df['max_times'] - df['times']\n",
    "# tte = max tte\n",
    "df['tte'] = df['max_tte'] \n",
    "\n",
    "# drop intermediate variables\n",
    "df = df.drop(columns = ['max_times', 'max_tte'])"
   ]
  },
  {
   "cell_type": "code",
   "execution_count": 19,
   "id": "e4095e1c-f78e-4ced-b3f4-5e60ea507be5",
   "metadata": {},
   "outputs": [],
   "source": [
    "df.to_csv('/Volumes/fsmresfiles/PrevMed/Projects/MESA_RiskPred/LRPP data/LRPP_raw.csv', index = False)"
   ]
  },
  {
   "cell_type": "markdown",
   "id": "8d544ef4-9c3e-48a6-b6b5-bcbbc350752b",
   "metadata": {},
   "source": [
    "##### Select and realign study periods"
   ]
  },
  {
   "cell_type": "code",
   "execution_count": 20,
   "id": "9c633b47-8bb8-4c42-92ae-d071bf84c2ff",
   "metadata": {},
   "outputs": [],
   "source": [
    "# FHS start from year 15 \n",
    "df.loc[(df['STUDY'] == 5), 'times'] = df.loc[(df['STUDY'] == 5), 'times'] - 15\n",
    "\n",
    "# FOF start from year 10\n",
    "df.loc[(df['STUDY'] == 6), 'times'] = df.loc[(df['STUDY'] == 6), 'times'] - 10\n",
    "\n",
    "# CARDIA start from year 18\n",
    "df.loc[(df['STUDY'] == 2), 'times'] = df.loc[(df['STUDY'] == 2), 'times'] - 18\n",
    "\n",
    "# remove those with negative times\n",
    "df = df.loc[df['times']>= 0]"
   ]
  },
  {
   "cell_type": "markdown",
   "id": "a952274a-7765-4743-b876-79b001475881",
   "metadata": {},
   "source": [
    "##### Remove patients less than 40 and over 75"
   ]
  },
  {
   "cell_type": "code",
   "execution_count": 21,
   "id": "00336931-855a-4bea-8544-6b85bb9a8bab",
   "metadata": {},
   "outputs": [
    {
     "data": {
      "text/plain": [
       "28683"
      ]
     },
     "execution_count": 21,
     "metadata": {},
     "output_type": "execute_result"
    }
   ],
   "source": [
    "age_exclude = df.loc[(df['age'] < 32) | (df['age'] > 71), 'id'].drop_duplicates()\n",
    "\n",
    "df = df.loc[~df['id'].isin(age_exclude)]\n",
    "\n",
    "# number of unique participants\n",
    "df.id.nunique()"
   ]
  },
  {
   "cell_type": "markdown",
   "id": "892185cd-1aaf-4e88-9a9c-1fcb5eac6521",
   "metadata": {},
   "source": [
    "##### Remove records after censoring (CVD event)"
   ]
  },
  {
   "cell_type": "code",
   "execution_count": 22,
   "id": "5814381a-62b6-40b9-b4a6-a0df9f1a7046",
   "metadata": {},
   "outputs": [
    {
     "data": {
      "text/plain": [
       "28645"
      ]
     },
     "execution_count": 22,
     "metadata": {},
     "output_type": "execute_result"
    }
   ],
   "source": [
    "# remove records after censoring\n",
    "df = df.loc[df['tte'] >= df['times']]\n",
    "\n",
    "# number of unique participants\n",
    "df.id.nunique()"
   ]
  },
  {
   "cell_type": "markdown",
   "id": "fccc6525-5a63-403a-8392-aadb2f0c3422",
   "metadata": {},
   "source": [
    "##### Exclude participants that have ASCVD within the first 8 years"
   ]
  },
  {
   "cell_type": "code",
   "execution_count": 23,
   "id": "db9d3dcf",
   "metadata": {},
   "outputs": [
    {
     "data": {
      "text/plain": [
       "25156"
      ]
     },
     "execution_count": 23,
     "metadata": {},
     "output_type": "execute_result"
    }
   ],
   "source": [
    "# Exclude participants with ASCVD within 8 years\n",
    "df = df.loc[df['tte']> 8, :]\n",
    "\n",
    "# number of unique participants\n",
    "df.id.nunique()"
   ]
  },
  {
   "cell_type": "markdown",
   "id": "ec727ac1-07ff-426d-823e-b0ac45ea1d00",
   "metadata": {},
   "source": [
    "##### Exclude participants that have no data before 8 years"
   ]
  },
  {
   "cell_type": "code",
   "execution_count": 24,
   "id": "47353c28-6c35-441f-8330-51d99155f9e9",
   "metadata": {},
   "outputs": [],
   "source": [
    "max_age_before_threshold = df.loc[df['times'] <= 8, 'id'].drop_duplicates()"
   ]
  },
  {
   "cell_type": "code",
   "execution_count": 25,
   "id": "b947c0a9-2e60-45c8-80ec-50d53d5b4f8b",
   "metadata": {},
   "outputs": [],
   "source": [
    "df = df.loc[df['id'].isin(max_age_before_threshold), :]"
   ]
  },
  {
   "cell_type": "markdown",
   "id": "012be116-571e-4676-ac8c-e11cd866941c",
   "metadata": {},
   "source": [
    "##### Log transform the cholesterol and HDL values"
   ]
  },
  {
   "cell_type": "code",
   "execution_count": 26,
   "id": "e65ce4bb-5271-4624-9b7a-4c96ad60e79b",
   "metadata": {},
   "outputs": [],
   "source": [
    "#df['hdl'] = np.log(df['hdl'])\n",
    "#df['chol'] = np.log(df['chol'])"
   ]
  },
  {
   "cell_type": "markdown",
   "id": "a5c0b20e-439e-4e63-ac56-7c7d71cf9c7d",
   "metadata": {},
   "source": [
    "##### Create New IDs for Participants"
   ]
  },
  {
   "cell_type": "code",
   "execution_count": 27,
   "id": "a5e65a83-e774-46a6-b5af-4f861d45bed8",
   "metadata": {},
   "outputs": [],
   "source": [
    "# get id list of patients\n",
    "pt_list = pd.DataFrame(df['id'].drop_duplicates())\n",
    "pt_list['id_new'] = range(len(pt_list))\n",
    "pt_list['id_new'] = pt_list['id_new'] + 1\n",
    "\n",
    "df = pd.merge(df, pt_list)\n",
    "\n",
    "df['id'] = df['id_new']\n",
    "df = df.drop(columns = ['id_new'])"
   ]
  },
  {
   "cell_type": "markdown",
   "id": "f5f45f7a",
   "metadata": {},
   "source": [
    "## Missingness"
   ]
  },
  {
   "cell_type": "code",
   "execution_count": 28,
   "id": "5e5729f0",
   "metadata": {},
   "outputs": [
    {
     "data": {
      "text/plain": [
       "id         0.0\n",
       "tte        0.0\n",
       "label      0.0\n",
       "cig        6.3\n",
       "sbp        0.6\n",
       "dbp        0.7\n",
       "dm03       3.5\n",
       "htnmed     3.2\n",
       "hdl       15.2\n",
       "chol       9.8\n",
       "times      0.0\n",
       "age        0.0\n",
       "race       0.0\n",
       "gender     0.0\n",
       "EXAM       0.0\n",
       "STUDY      0.0\n",
       "dtype: float64"
      ]
     },
     "execution_count": 28,
     "metadata": {},
     "output_type": "execute_result"
    }
   ],
   "source": [
    "# general missingness\n",
    "round(df.isnull().sum() / len(df) * 100, 1)"
   ]
  },
  {
   "cell_type": "code",
   "execution_count": 29,
   "id": "5bd582e9",
   "metadata": {},
   "outputs": [
    {
     "name": "stdout",
     "output_type": "stream",
     "text": [
      "5482\n",
      "22.1%\n"
     ]
    }
   ],
   "source": [
    "# hdl missing\n",
    "print(df.loc[df['hdl'].isna(), 'id'].nunique())\n",
    "print(round(df.loc[df['hdl'].isna(), 'id'].nunique() / df['id'].nunique()*100,1), '%', sep = '')"
   ]
  },
  {
   "cell_type": "code",
   "execution_count": 30,
   "id": "bc335e8f",
   "metadata": {},
   "outputs": [
    {
     "name": "stdout",
     "output_type": "stream",
     "text": [
      "5167\n",
      "20.8%\n"
     ]
    }
   ],
   "source": [
    "# chol missing\n",
    "print(df.loc[df['chol'].isna(), 'id'].nunique())\n",
    "print(round(df.loc[df['chol'].isna(), 'id'].nunique() / df['id'].nunique()*100,1), '%', sep = '')"
   ]
  },
  {
   "cell_type": "code",
   "execution_count": 31,
   "id": "f737afeb",
   "metadata": {},
   "outputs": [
    {
     "name": "stdout",
     "output_type": "stream",
     "text": [
      "3339\n",
      "13.4%\n"
     ]
    }
   ],
   "source": [
    "# smoking missing\n",
    "print(df.loc[df['cig'].isna(), 'id'].nunique())\n",
    "print(round(df.loc[df['cig'].isna(), 'id'].nunique() / df['id'].nunique()*100,1), '%', sep = '') "
   ]
  },
  {
   "cell_type": "code",
   "execution_count": 32,
   "id": "595bd794",
   "metadata": {},
   "outputs": [
    {
     "data": {
      "text/plain": [
       "STUDY\n",
       "1    0.029053\n",
       "2    0.021711\n",
       "3    0.928571\n",
       "4    0.039616\n",
       "5    0.703911\n",
       "6    0.163380\n",
       "7    0.307162\n",
       "9    0.919227\n",
       "Name: id, dtype: float64"
      ]
     },
     "execution_count": 32,
     "metadata": {},
     "output_type": "execute_result"
    }
   ],
   "source": [
    "df.loc[df['chol'].isna(), ['id', 'STUDY']].groupby(['STUDY']).id.nunique() / df.groupby(['STUDY']).id.nunique()"
   ]
  },
  {
   "cell_type": "markdown",
   "id": "6d12545e-58bc-4f8f-a7c8-6fed7b02c435",
   "metadata": {},
   "source": [
    "### Filter Missing Data"
   ]
  },
  {
   "cell_type": "code",
   "execution_count": 33,
   "id": "4e33c433",
   "metadata": {},
   "outputs": [
    {
     "data": {
      "text/plain": [
       "21615"
      ]
     },
     "execution_count": 33,
     "metadata": {},
     "output_type": "execute_result"
    }
   ],
   "source": [
    "# drop missing all longitudinal data\n",
    "df = df[(~df['sbp'].isna()) & (~df['dbp'].isna()) & (~df['hdl'].isna()) & (~df['chol'].isna())]\n",
    "\n",
    "# number of unique participants\n",
    "df.id.nunique()"
   ]
  },
  {
   "cell_type": "markdown",
   "id": "656b44ca-c085-4f20-a7ad-93b03726030a",
   "metadata": {},
   "source": [
    "## Output Data"
   ]
  },
  {
   "cell_type": "markdown",
   "id": "e3054f57-9ad5-4b3f-a179-c2f3637e7a97",
   "metadata": {},
   "source": [
    "#### Output final cleaned dataset"
   ]
  },
  {
   "cell_type": "code",
   "execution_count": 34,
   "id": "eb02afd1",
   "metadata": {},
   "outputs": [],
   "source": [
    "df.drop(columns = ['STUDY', 'EXAM']).to_csv('/Volumes/fsmresfiles/PrevMed/Projects/MESA_RiskPred/LRPP data/LRPP_final.csv', index = False)"
   ]
  },
  {
   "cell_type": "markdown",
   "id": "4dc91674-496e-4747-9e0b-914f58be5aab",
   "metadata": {},
   "source": [
    "#### Output raw cleaned dataset (with additional identifying variables)"
   ]
  },
  {
   "cell_type": "code",
   "execution_count": 35,
   "id": "e69b0dd6",
   "metadata": {},
   "outputs": [],
   "source": [
    "df.to_csv('/Volumes/fsmresfiles/PrevMed/Projects/MESA_RiskPred/LRPP data/LRPP_raw.csv', index = False)"
   ]
  },
  {
   "cell_type": "markdown",
   "id": "662f81b1-52f1-4d43-990f-57a36c6c0fbe",
   "metadata": {},
   "source": [
    "#### Output select dataset (ARIC, CARDIA, FHS, FOF)\n",
    "1=ARIC 2=CARIDA 3=CHS 4=MESA 5=FHS 6=FOF 7=JHS 9=HHP"
   ]
  },
  {
   "cell_type": "code",
   "execution_count": 36,
   "id": "f55834de-945d-4fb6-b04d-18676be458d2",
   "metadata": {},
   "outputs": [],
   "source": [
    "df.loc[df['STUDY'].isin([1,2,5,6]), :].drop(columns = ['STUDY', 'EXAM']).to_csv('/Volumes/fsmresfiles/PrevMed/Projects/MESA_RiskPred/LRPP data/LRPP_select.csv', index = False)"
   ]
  },
  {
   "cell_type": "markdown",
   "id": "ae1bd900-dd31-40a7-bdb8-a55474d9c027",
   "metadata": {},
   "source": [
    "#### Output Study Index"
   ]
  },
  {
   "cell_type": "code",
   "execution_count": 37,
   "id": "5edf3286-4dae-4749-98d0-48d046a8fbdf",
   "metadata": {},
   "outputs": [],
   "source": [
    "mesa_index = df.loc[:,['id', 'STUDY']].drop_duplicates()\n",
    "mesa_index['study_index'] = False\n",
    "\n",
    "# current selection: MESA\n",
    "mesa_index.loc[mesa_index['STUDY'] == 1, 'study_index'] = True\n",
    "\n",
    "# output data\n",
    "mesa_index.to_csv('/Volumes/fsmresfiles/PrevMed/Projects/MESA_RiskPred/LRPP data/mesa_index.csv', index = False)"
   ]
  },
  {
   "cell_type": "markdown",
   "id": "b0e334d8-d076-46e2-b736-25a0e3a72a4f",
   "metadata": {},
   "source": [
    "#### Output Study SELECT Index"
   ]
  },
  {
   "cell_type": "code",
   "execution_count": 38,
   "id": "cde641cd-c45e-453a-8ad9-18fbab618850",
   "metadata": {},
   "outputs": [],
   "source": [
    "mesa_index_select = df.loc[df['STUDY'].isin([1,2,5,6]),['id', 'STUDY']].drop_duplicates()\n",
    "mesa_index_select['study_index'] = False\n",
    "\n",
    "# current selection: ARIC\n",
    "mesa_index_select.loc[mesa_index_select['STUDY'] == 4, 'study_index'] = True\n",
    "\n",
    "# output data\n",
    "mesa_index_select.to_csv('/Volumes/fsmresfiles/PrevMed/Projects/MESA_RiskPred/LRPP data/mesa_index_select.csv', index = False)"
   ]
  },
  {
   "cell_type": "markdown",
   "id": "fb3d8455-9743-4a6b-9d82-2342ebaf85f6",
   "metadata": {},
   "source": [
    "#### Output SELECT Random Index"
   ]
  },
  {
   "cell_type": "code",
   "execution_count": 49,
   "id": "7fe2f5f0-260a-4bda-8bc1-11f31c918482",
   "metadata": {},
   "outputs": [
    {
     "name": "stdout",
     "output_type": "stream",
     "text": [
      "test size: 3121\n"
     ]
    }
   ],
   "source": [
    "from sklearn.model_selection import train_test_split\n",
    "\n",
    "mesa_index_select = df.loc[df['STUDY'].isin([1,2,5,6]),['id', 'label']].drop_duplicates()\n",
    "mesa_index_select['study_index'] = False\n",
    "\n",
    "# random selection\n",
    "train, test = train_test_split(mesa_index_select['id'], test_size = 0.2, stratify = mesa_index_select['label'], random_state = 860)\n",
    "mesa_index_select.loc[mesa_index_select['id'].isin(test), 'study_index'] = True\n",
    "print('test size:', len(test))\n",
    "\n",
    "# output data\n",
    "mesa_index_select.to_csv('/Volumes/fsmresfiles/PrevMed/Projects/MESA_RiskPred/LRPP data/random_index_select.csv', index = False)"
   ]
  },
  {
   "cell_type": "markdown",
   "id": "8cf4fcf2-1516-4e42-b0e1-9b6fd4a299e0",
   "metadata": {},
   "source": [
    "### Number of final participants\n"
   ]
  },
  {
   "cell_type": "code",
   "execution_count": 40,
   "id": "a72e6fcb-2ec0-4769-8911-9e3ac8727a6a",
   "metadata": {},
   "outputs": [
    {
     "data": {
      "text/plain": [
       "15605"
      ]
     },
     "execution_count": 40,
     "metadata": {},
     "output_type": "execute_result"
    }
   ],
   "source": [
    "df.loc[df['STUDY'].isin([1,2,5,6]),['id', 'label']].id.nunique()"
   ]
  },
  {
   "cell_type": "markdown",
   "id": "5cb120c9-7ec4-4fb8-8634-ab364576bd32",
   "metadata": {},
   "source": [
    "## Evaluate Dataset"
   ]
  },
  {
   "cell_type": "code",
   "execution_count": 41,
   "id": "fd220d15",
   "metadata": {},
   "outputs": [],
   "source": [
    "test = pd.read_csv('/Volumes/fsmresfiles/PrevMed/Projects/MESA_RiskPred/LRPP data/LRPP_select.csv')"
   ]
  },
  {
   "cell_type": "code",
   "execution_count": 42,
   "id": "67ca9f86-1ec1-4dd5-bb61-9ffd5ee98db2",
   "metadata": {},
   "outputs": [
    {
     "data": {
      "text/html": [
       "<div>\n",
       "<style scoped>\n",
       "    .dataframe tbody tr th:only-of-type {\n",
       "        vertical-align: middle;\n",
       "    }\n",
       "\n",
       "    .dataframe tbody tr th {\n",
       "        vertical-align: top;\n",
       "    }\n",
       "\n",
       "    .dataframe thead th {\n",
       "        text-align: right;\n",
       "    }\n",
       "</style>\n",
       "<table border=\"1\" class=\"dataframe\">\n",
       "  <thead>\n",
       "    <tr style=\"text-align: right;\">\n",
       "      <th></th>\n",
       "      <th>id</th>\n",
       "      <th>tte</th>\n",
       "      <th>label</th>\n",
       "      <th>cig</th>\n",
       "      <th>sbp</th>\n",
       "      <th>dbp</th>\n",
       "      <th>dm03</th>\n",
       "      <th>htnmed</th>\n",
       "      <th>hdl</th>\n",
       "      <th>chol</th>\n",
       "      <th>times</th>\n",
       "      <th>age</th>\n",
       "      <th>race</th>\n",
       "      <th>gender</th>\n",
       "    </tr>\n",
       "  </thead>\n",
       "  <tbody>\n",
       "    <tr>\n",
       "      <th>0</th>\n",
       "      <td>1</td>\n",
       "      <td>30.6</td>\n",
       "      <td>0</td>\n",
       "      <td>0.0</td>\n",
       "      <td>107.333333</td>\n",
       "      <td>69.333333</td>\n",
       "      <td>0.0</td>\n",
       "      <td>0.0</td>\n",
       "      <td>69.000</td>\n",
       "      <td>158.0</td>\n",
       "      <td>2.9</td>\n",
       "      <td>48.0</td>\n",
       "      <td>2</td>\n",
       "      <td>2</td>\n",
       "    </tr>\n",
       "    <tr>\n",
       "      <th>1</th>\n",
       "      <td>1</td>\n",
       "      <td>30.6</td>\n",
       "      <td>0</td>\n",
       "      <td>0.0</td>\n",
       "      <td>108.000000</td>\n",
       "      <td>73.333333</td>\n",
       "      <td>0.0</td>\n",
       "      <td>0.0</td>\n",
       "      <td>72.000</td>\n",
       "      <td>181.0</td>\n",
       "      <td>6.2</td>\n",
       "      <td>51.0</td>\n",
       "      <td>2</td>\n",
       "      <td>2</td>\n",
       "    </tr>\n",
       "    <tr>\n",
       "      <th>2</th>\n",
       "      <td>1</td>\n",
       "      <td>30.6</td>\n",
       "      <td>0</td>\n",
       "      <td>0.0</td>\n",
       "      <td>123.000000</td>\n",
       "      <td>80.000000</td>\n",
       "      <td>0.0</td>\n",
       "      <td>0.0</td>\n",
       "      <td>64.000</td>\n",
       "      <td>164.0</td>\n",
       "      <td>8.8</td>\n",
       "      <td>54.0</td>\n",
       "      <td>2</td>\n",
       "      <td>2</td>\n",
       "    </tr>\n",
       "    <tr>\n",
       "      <th>3</th>\n",
       "      <td>2</td>\n",
       "      <td>8.3</td>\n",
       "      <td>0</td>\n",
       "      <td>0.0</td>\n",
       "      <td>102.666667</td>\n",
       "      <td>68.666667</td>\n",
       "      <td>0.0</td>\n",
       "      <td>0.0</td>\n",
       "      <td>43.335</td>\n",
       "      <td>255.0</td>\n",
       "      <td>0.0</td>\n",
       "      <td>47.0</td>\n",
       "      <td>1</td>\n",
       "      <td>2</td>\n",
       "    </tr>\n",
       "    <tr>\n",
       "      <th>4</th>\n",
       "      <td>2</td>\n",
       "      <td>8.3</td>\n",
       "      <td>0</td>\n",
       "      <td>0.0</td>\n",
       "      <td>98.666667</td>\n",
       "      <td>58.666667</td>\n",
       "      <td>0.0</td>\n",
       "      <td>0.0</td>\n",
       "      <td>42.000</td>\n",
       "      <td>283.0</td>\n",
       "      <td>2.9</td>\n",
       "      <td>50.0</td>\n",
       "      <td>1</td>\n",
       "      <td>2</td>\n",
       "    </tr>\n",
       "  </tbody>\n",
       "</table>\n",
       "</div>"
      ],
      "text/plain": [
       "   id   tte  label  cig         sbp        dbp  dm03  htnmed     hdl   chol  \\\n",
       "0   1  30.6      0  0.0  107.333333  69.333333   0.0     0.0  69.000  158.0   \n",
       "1   1  30.6      0  0.0  108.000000  73.333333   0.0     0.0  72.000  181.0   \n",
       "2   1  30.6      0  0.0  123.000000  80.000000   0.0     0.0  64.000  164.0   \n",
       "3   2   8.3      0  0.0  102.666667  68.666667   0.0     0.0  43.335  255.0   \n",
       "4   2   8.3      0  0.0   98.666667  58.666667   0.0     0.0  42.000  283.0   \n",
       "\n",
       "   times   age  race  gender  \n",
       "0    2.9  48.0     2       2  \n",
       "1    6.2  51.0     2       2  \n",
       "2    8.8  54.0     2       2  \n",
       "3    0.0  47.0     1       2  \n",
       "4    2.9  50.0     1       2  "
      ]
     },
     "execution_count": 42,
     "metadata": {},
     "output_type": "execute_result"
    }
   ],
   "source": [
    "test.head()"
   ]
  },
  {
   "cell_type": "code",
   "execution_count": 43,
   "id": "0784c13c",
   "metadata": {},
   "outputs": [
    {
     "data": {
      "text/plain": [
       "id           0\n",
       "tte          0\n",
       "label        0\n",
       "cig        248\n",
       "sbp          0\n",
       "dbp          0\n",
       "dm03        20\n",
       "htnmed    1115\n",
       "hdl          0\n",
       "chol         0\n",
       "times        0\n",
       "age          0\n",
       "race         0\n",
       "gender       0\n",
       "dtype: int64"
      ]
     },
     "execution_count": 43,
     "metadata": {},
     "output_type": "execute_result"
    }
   ],
   "source": [
    "test.isna().sum()"
   ]
  },
  {
   "cell_type": "code",
   "execution_count": 44,
   "id": "497f7cc0",
   "metadata": {},
   "outputs": [
    {
     "data": {
      "text/plain": [
       "0    46968\n",
       "1     6645\n",
       "Name: label, dtype: int64"
      ]
     },
     "execution_count": 44,
     "metadata": {},
     "output_type": "execute_result"
    }
   ],
   "source": [
    "test.label.value_counts()"
   ]
  },
  {
   "cell_type": "code",
   "execution_count": 45,
   "id": "37d84724-2bb6-447a-a074-6fc5f37c02f3",
   "metadata": {},
   "outputs": [
    {
     "data": {
      "text/plain": [
       "0    50405\n",
       "1     5728\n",
       "Name: label, dtype: int64"
      ]
     },
     "execution_count": 45,
     "metadata": {},
     "output_type": "execute_result"
    }
   ],
   "source": [
    "df.loc[df['STUDY'].isin([1,4,6]), :].label.value_counts()"
   ]
  },
  {
   "cell_type": "code",
   "execution_count": 46,
   "id": "887a00c1",
   "metadata": {},
   "outputs": [
    {
     "name": "stdout",
     "output_type": "stream",
     "text": [
      "<class 'pandas.core.frame.DataFrame'>\n",
      "Int64Index: 74395 entries, 1 to 87808\n",
      "Data columns (total 16 columns):\n",
      " #   Column  Non-Null Count  Dtype  \n",
      "---  ------  --------------  -----  \n",
      " 0   id      74395 non-null  int64  \n",
      " 1   tte     74395 non-null  float64\n",
      " 2   label   74395 non-null  int64  \n",
      " 3   cig     70596 non-null  float64\n",
      " 4   sbp     74395 non-null  float64\n",
      " 5   dbp     74395 non-null  float64\n",
      " 6   dm03    74375 non-null  float64\n",
      " 7   htnmed  72421 non-null  float64\n",
      " 8   hdl     74395 non-null  float64\n",
      " 9   chol    74395 non-null  float64\n",
      " 10  times   74395 non-null  float64\n",
      " 11  age     74395 non-null  float64\n",
      " 12  race    74395 non-null  int64  \n",
      " 13  gender  74395 non-null  int64  \n",
      " 14  EXAM    74395 non-null  int64  \n",
      " 15  STUDY   74395 non-null  int64  \n",
      "dtypes: float64(10), int64(6)\n",
      "memory usage: 9.6 MB\n"
     ]
    }
   ],
   "source": [
    "df.info()"
   ]
  },
  {
   "cell_type": "code",
   "execution_count": 47,
   "id": "1f1cd61f",
   "metadata": {},
   "outputs": [
    {
     "data": {
      "text/plain": [
       "STUDY\n",
       "1    57.689865\n",
       "2    50.003850\n",
       "3    65.816092\n",
       "4    57.272518\n",
       "5    57.696303\n",
       "6    52.203603\n",
       "7    51.802866\n",
       "9    71.000000\n",
       "Name: age, dtype: float64"
      ]
     },
     "execution_count": 47,
     "metadata": {},
     "output_type": "execute_result"
    }
   ],
   "source": [
    "df.groupby('STUDY').age.mean()"
   ]
  }
 ],
 "metadata": {
  "kernelspec": {
   "display_name": "Python 3 (ipykernel)",
   "language": "python",
   "name": "python3"
  },
  "language_info": {
   "codemirror_mode": {
    "name": "ipython",
    "version": 3
   },
   "file_extension": ".py",
   "mimetype": "text/x-python",
   "name": "python",
   "nbconvert_exporter": "python",
   "pygments_lexer": "ipython3",
   "version": "3.8.8"
  }
 },
 "nbformat": 4,
 "nbformat_minor": 5
}
