{
 "cells": [
  {
   "cell_type": "markdown",
   "id": "b6d97167-fd5a-4cb1-b901-6502fde28d41",
   "metadata": {},
   "source": [
    "# PCE Calculations of Testing Dataset"
   ]
  },
  {
   "cell_type": "code",
   "execution_count": null,
   "id": "e41db9cf-a7d7-4942-964e-296e681ababb",
   "metadata": {},
   "outputs": [],
   "source": [
    "import ASCVD_Calc_PCE\n",
    "import pandas as pd\n",
    "import numpy as np\n",
    "from importlib import reload\n",
    "reload(ASCVD_Calc_PCE)\n",
    "from sklearn.metrics import roc_auc_score, roc_curve"
   ]
  },
  {
   "cell_type": "markdown",
   "id": "fb439b44-b1eb-428f-a20d-5cc793e03e67",
   "metadata": {},
   "source": [
    "## Import Data"
   ]
  },
  {
   "cell_type": "code",
   "execution_count": 2,
   "id": "7e705f57-da67-4079-bbe3-729da7f90c13",
   "metadata": {},
   "outputs": [],
   "source": [
    "df = pd.read_csv('/Volumes/fsmresfiles/PrevMed/Projects/MESA_RiskPred/LRPP data/LRPP_select.csv')\n",
    "indecies_test = pd.read_csv('/Volumes/fsmresfiles/PrevMed/Projects/MESA_RiskPred/LRPP data/mesa_index_select.csv')\n",
    "indecies_test = indecies_test.loc[indecies_test['study_index'] == True, :]\n",
    "df = df.loc[df['id'].isin(indecies_test['id']), :]"
   ]
  },
  {
   "cell_type": "code",
   "execution_count": 3,
   "id": "ba0e478d-21c3-48a8-9576-c7551e571193",
   "metadata": {},
   "outputs": [],
   "source": [
    "# filter out patients without data before 8 years\n",
    "max_age_before_threshold = df.loc[df['times'] <= 8, :].groupby('id').times.max().reset_index()\n",
    "df = df.loc[df['id'].isin(max_age_before_threshold['id']), :]\n",
    "\n",
    "# get labels and tte\n",
    "te_label = np.array(df.loc[:,['id', 'label']].drop_duplicates().label)\n",
    "te_time = np.array(df.loc[:, ['id', 'tte']].drop_duplicates().tte)"
   ]
  },
  {
   "cell_type": "markdown",
   "id": "e7bcbcdf-0d83-4871-8dc3-1744775dbf8e",
   "metadata": {},
   "source": [
    "## PCE Calculation"
   ]
  },
  {
   "cell_type": "code",
   "execution_count": 4,
   "id": "40f228a8-0c4f-40fb-bba1-08c57fec93f9",
   "metadata": {},
   "outputs": [],
   "source": [
    "# get risk measurements from PCE data set (Multiple)\n",
    "pce_pred_df, pce_df = ASCVD_Calc_PCE.pce_pred_df_tab(df, 8, 10)"
   ]
  },
  {
   "cell_type": "code",
   "execution_count": 5,
   "id": "64b5e41c-ac36-4cbc-9571-69a383b5aff4",
   "metadata": {},
   "outputs": [],
   "source": [
    "# calculate AUC \n",
    "def prediction_auc_PCE_df(pred_time, pred_time_index, pce_pred_df, cluster):\n",
    "    \"\"\"\n",
    "    Calculates the AUC of the PCE predictions at a given time\n",
    "    pred_time: pred time list of prediction times\n",
    "    pred_time_index: which prediction time in terms of position in the list \n",
    "    pce_pred_df: df of probability of PCE dataset\n",
    "    \"\"\"\n",
    "    global true, time_horizon\n",
    "    \n",
    "    time_horizon = pred_time + 10 \n",
    "    true = (te_time <= time_horizon) * (te_label == 1).astype(int)\n",
    "    \n",
    "    pce_pred_df['true_label'] = true\n",
    "    pce_pred_df = pce_pred_df.loc[~pce_pred_df.risk.isnull(),:]\n",
    "    \n",
    "    if cluster != 'none':\n",
    "        pce_pred_df = pce_pred_df.loc[pce_pred_df['labels'] == cluster, :]\n",
    "        \n",
    "    return pce_pred_df\n",
    "\n",
    "def prediction_auc_PCE(pred_time, pred_time_index, pce_pred_df, cluster):\n",
    "    \n",
    "    pce_pred_df = prediction_auc_PCE_df(pred_time, pred_time_index, pce_pred_df, cluster)\n",
    "    auc = roc_auc_score(pce_pred_df['true_label'].tolist(), pce_pred_df['risk'].tolist())\n",
    "    \n",
    "    return auc \n",
    "\n",
    "def prediction_ROC(pred_time, pred_time_index, pce_pred_df, cluster):\n",
    "    \n",
    "    pce_pred_df = prediction_auc_PCE_df(pred_time, pred_time_index, pce_pred_df, cluster)\n",
    "    fpr, tpr, thresh = roc_curve(pce_pred_df['true_label'].tolist(), pce_pred_df['risk'].tolist())\n",
    "    \n",
    "    return fpr, tpr, thresh"
   ]
  },
  {
   "cell_type": "code",
   "execution_count": 6,
   "id": "c82509b6-c34b-4499-a345-68ab25157bcf",
   "metadata": {},
   "outputs": [
    {
     "name": "stdout",
     "output_type": "stream",
     "text": [
      "NULL Risk Values from PCE:  0\n",
      "PCE AUC: 0.741\n"
     ]
    }
   ],
   "source": [
    "# Get PCE AUC for Each Prediction Year\n",
    "print('NULL Risk Values from PCE: ', pce_pred_df.risk.isna().sum())\n",
    "print('PCE AUC:', np.round(prediction_auc_PCE(8, 10, pce_pred_df, 'none'),3))"
   ]
  }
 ],
 "metadata": {
  "kernelspec": {
   "display_name": "Python 3",
   "language": "python",
   "name": "python3"
  },
  "language_info": {
   "codemirror_mode": {
    "name": "ipython",
    "version": 3
   },
   "file_extension": ".py",
   "mimetype": "text/x-python",
   "name": "python",
   "nbconvert_exporter": "python",
   "pygments_lexer": "ipython3",
   "version": "3.8.8"
  }
 },
 "nbformat": 4,
 "nbformat_minor": 5
}
