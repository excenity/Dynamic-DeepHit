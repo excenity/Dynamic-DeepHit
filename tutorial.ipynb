{
 "cells": [
  {
   "cell_type": "markdown",
   "metadata": {},
   "source": [
    "# Dynamic-DeepHit Tutorial\n",
    "\n",
    "### by Changhee Lee"
   ]
  },
  {
   "cell_type": "code",
   "execution_count": 1,
   "metadata": {},
   "outputs": [
    {
     "name": "stderr",
     "output_type": "stream",
     "text": [
      "C:\\Users\\excen\\anaconda3\\lib\\site-packages\\tensorflow\\python\\framework\\dtypes.py:516: FutureWarning: Passing (type, 1) or '1type' as a synonym of type is deprecated; in a future version of numpy, it will be understood as (type, (1,)) / '(1,)type'.\n",
      "  _np_qint8 = np.dtype([(\"qint8\", np.int8, 1)])\n",
      "C:\\Users\\excen\\anaconda3\\lib\\site-packages\\tensorflow\\python\\framework\\dtypes.py:517: FutureWarning: Passing (type, 1) or '1type' as a synonym of type is deprecated; in a future version of numpy, it will be understood as (type, (1,)) / '(1,)type'.\n",
      "  _np_quint8 = np.dtype([(\"quint8\", np.uint8, 1)])\n",
      "C:\\Users\\excen\\anaconda3\\lib\\site-packages\\tensorflow\\python\\framework\\dtypes.py:518: FutureWarning: Passing (type, 1) or '1type' as a synonym of type is deprecated; in a future version of numpy, it will be understood as (type, (1,)) / '(1,)type'.\n",
      "  _np_qint16 = np.dtype([(\"qint16\", np.int16, 1)])\n",
      "C:\\Users\\excen\\anaconda3\\lib\\site-packages\\tensorflow\\python\\framework\\dtypes.py:519: FutureWarning: Passing (type, 1) or '1type' as a synonym of type is deprecated; in a future version of numpy, it will be understood as (type, (1,)) / '(1,)type'.\n",
      "  _np_quint16 = np.dtype([(\"quint16\", np.uint16, 1)])\n",
      "C:\\Users\\excen\\anaconda3\\lib\\site-packages\\tensorflow\\python\\framework\\dtypes.py:520: FutureWarning: Passing (type, 1) or '1type' as a synonym of type is deprecated; in a future version of numpy, it will be understood as (type, (1,)) / '(1,)type'.\n",
      "  _np_qint32 = np.dtype([(\"qint32\", np.int32, 1)])\n",
      "C:\\Users\\excen\\anaconda3\\lib\\site-packages\\tensorflow\\python\\framework\\dtypes.py:525: FutureWarning: Passing (type, 1) or '1type' as a synonym of type is deprecated; in a future version of numpy, it will be understood as (type, (1,)) / '(1,)type'.\n",
      "  np_resource = np.dtype([(\"resource\", np.ubyte, 1)])\n",
      "C:\\Users\\excen\\anaconda3\\lib\\site-packages\\tensorboard\\compat\\tensorflow_stub\\dtypes.py:541: FutureWarning: Passing (type, 1) or '1type' as a synonym of type is deprecated; in a future version of numpy, it will be understood as (type, (1,)) / '(1,)type'.\n",
      "  _np_qint8 = np.dtype([(\"qint8\", np.int8, 1)])\n",
      "C:\\Users\\excen\\anaconda3\\lib\\site-packages\\tensorboard\\compat\\tensorflow_stub\\dtypes.py:542: FutureWarning: Passing (type, 1) or '1type' as a synonym of type is deprecated; in a future version of numpy, it will be understood as (type, (1,)) / '(1,)type'.\n",
      "  _np_quint8 = np.dtype([(\"quint8\", np.uint8, 1)])\n",
      "C:\\Users\\excen\\anaconda3\\lib\\site-packages\\tensorboard\\compat\\tensorflow_stub\\dtypes.py:543: FutureWarning: Passing (type, 1) or '1type' as a synonym of type is deprecated; in a future version of numpy, it will be understood as (type, (1,)) / '(1,)type'.\n",
      "  _np_qint16 = np.dtype([(\"qint16\", np.int16, 1)])\n",
      "C:\\Users\\excen\\anaconda3\\lib\\site-packages\\tensorboard\\compat\\tensorflow_stub\\dtypes.py:544: FutureWarning: Passing (type, 1) or '1type' as a synonym of type is deprecated; in a future version of numpy, it will be understood as (type, (1,)) / '(1,)type'.\n",
      "  _np_quint16 = np.dtype([(\"quint16\", np.uint16, 1)])\n",
      "C:\\Users\\excen\\anaconda3\\lib\\site-packages\\tensorboard\\compat\\tensorflow_stub\\dtypes.py:545: FutureWarning: Passing (type, 1) or '1type' as a synonym of type is deprecated; in a future version of numpy, it will be understood as (type, (1,)) / '(1,)type'.\n",
      "  _np_qint32 = np.dtype([(\"qint32\", np.int32, 1)])\n",
      "C:\\Users\\excen\\anaconda3\\lib\\site-packages\\tensorboard\\compat\\tensorflow_stub\\dtypes.py:550: FutureWarning: Passing (type, 1) or '1type' as a synonym of type is deprecated; in a future version of numpy, it will be understood as (type, (1,)) / '(1,)type'.\n",
      "  np_resource = np.dtype([(\"resource\", np.ubyte, 1)])\n"
     ]
    }
   ],
   "source": [
    "_EPSILON = 1e-08\n",
    "\n",
    "import numpy as np\n",
    "import pandas as pd\n",
    "import tensorflow as tf\n",
    "import random\n",
    "import os\n",
    "import warnings\n",
    "\n",
    "from sklearn.model_selection import train_test_split\n",
    "from sklearn.metrics import roc_auc_score, roc_curve\n",
    "\n",
    "import matplotlib.pyplot as plt\n",
    "\n",
    "import import_data as impt\n",
    "\n",
    "from class_DeepLongitudinal import Model_Longitudinal_Attention\n",
    "\n",
    "from utils_eval             import c_index, brier_score\n",
    "from utils_log              import save_logging, load_logging\n",
    "from utils_helper           import f_get_minibatch, f_get_boosted_trainset\n",
    "\n",
    "warnings.filterwarnings('ignore')"
   ]
  },
  {
   "cell_type": "code",
   "execution_count": 23,
   "metadata": {},
   "outputs": [],
   "source": [
    "def _f_get_pred(sess, model, data, data_mi, pred_horizon):\n",
    "    '''\n",
    "        predictions based on the prediction time.\n",
    "        create new_data and new_mask2 that are available previous or equal to the prediction time (no future measurements are used)\n",
    "    '''\n",
    "    new_data    = np.zeros(np.shape(data))\n",
    "    new_data_mi = np.zeros(np.shape(data_mi))\n",
    "\n",
    "    meas_time = np.concatenate([np.zeros([np.shape(data)[0], 1]), np.cumsum(data[:, :, 0], axis=1)[:, :-1]], axis=1)\n",
    "\n",
    "    for i in range(np.shape(data)[0]):\n",
    "        last_meas = np.sum(meas_time[i, :] <= pred_horizon)\n",
    "\n",
    "        new_data[i, :last_meas, :]    = data[i, :last_meas, :]\n",
    "        new_data_mi[i, :last_meas, :] = data_mi[i, :last_meas, :]\n",
    "\n",
    "    return model.predict(new_data, new_data_mi)\n",
    "\n",
    "\n",
    "def f_get_risk_predictions(sess, model, data_, data_mi_, pred_time, eval_time):\n",
    "    \n",
    "    pred = _f_get_pred(sess, model, data_[[0]], data_mi_[[0]], 0)\n",
    "    _, num_Event, num_Category = np.shape(pred)\n",
    "       \n",
    "    risk_all = {}\n",
    "    for k in range(num_Event):\n",
    "        risk_all[k] = np.zeros([np.shape(data_)[0], len(pred_time), len(eval_time)])\n",
    "            \n",
    "    for p, p_time in enumerate(pred_time):\n",
    "        ### PREDICTION\n",
    "        pred_horizon = int(p_time)\n",
    "        pred = _f_get_pred(sess, model, data_, data_mi_, pred_horizon)\n",
    "\n",
    "\n",
    "        for t, t_time in enumerate(eval_time):\n",
    "            eval_horizon = int(t_time) + pred_horizon #if eval_horizon >= num_Category, output the maximum...\n",
    "\n",
    "            # calculate F(t | x, Y, t >= t_M) = \\sum_{t_M <= \\tau < t} P(\\tau | x, Y, \\tau > t_M)\n",
    "            risk = np.sum(pred[:,:,pred_horizon:(eval_horizon+1)], axis=2) #risk score until eval_time\n",
    "            risk = risk / (np.sum(np.sum(pred[:,:,pred_horizon:], axis=2), axis=1, keepdims=True) +_EPSILON) #conditioniong on t > t_pred\n",
    "            \n",
    "            for k in range(num_Event):\n",
    "                risk_all[k][:, p, t] = risk[:, k]\n",
    "                \n",
    "    return risk_all"
   ]
  },
  {
   "cell_type": "markdown",
   "metadata": {},
   "source": [
    "### 1. Import Dataset\n",
    "#####      - Users must prepare dataset in csv format and modify 'import_data.py' following our examplar 'PBC2'"
   ]
  },
  {
   "cell_type": "code",
   "execution_count": 54,
   "metadata": {},
   "outputs": [],
   "source": [
    "data_mode                   = 'PBC2' \n",
    "seed                        = 1234\n",
    "\n",
    "##### IMPORT DATASET\n",
    "'''\n",
    "    num_Category            = max event/censoring time * 1.2\n",
    "    num_Event               = number of evetns i.e. len(np.unique(label))-1\n",
    "    max_length              = maximum number of measurements\n",
    "    x_dim                   = data dimension including delta (1 + num_features)\n",
    "    x_dim_cont              = dim of continuous features\n",
    "    x_dim_bin               = dim of binary features\n",
    "    mask1, mask2, mask3     = used for cause-specific network (FCNet structure)\n",
    "'''\n",
    "\n",
    "if data_mode == 'PBC2':\n",
    "    (x_dim, x_dim_cont, x_dim_bin), (data, time, label), (mask1, mask2, mask3), (data_mi), df_raw = impt.import_dataset(norm_mode = 'standard')\n",
    "    \n",
    "    # This must be changed depending on the datasets, prediction/evaliation times of interest\n",
    "    pred_time = [8] # prediction time (in years)\n",
    "    eval_time = [10] # years evaluation time (for C-index and Brier-Score)\n",
    "else:\n",
    "    print ('ERROR:  DATA_MODE NOT FOUND !!!')\n",
    "\n",
    "_, num_Event, num_Category  = np.shape(mask1)  # dim of mask3: [subj, Num_Event, Num_Category]\n",
    "max_length                  = np.shape(data)[1]\n",
    "\n",
    "\n",
    "file_path = '{}'.format(data_mode)\n",
    "\n",
    "if not os.path.exists(file_path):\n",
    "    os.makedirs(file_path)"
   ]
  },
  {
   "cell_type": "markdown",
   "metadata": {},
   "source": [
    "### 2. Set Hyper-Parameters\n",
    "##### - Play with your own hyper-parameters!"
   ]
  },
  {
   "cell_type": "code",
   "execution_count": 55,
   "metadata": {},
   "outputs": [],
   "source": [
    "burn_in_mode                = 'ON' #{'ON', 'OFF'}\n",
    "boost_mode                  = 'ON' #{'ON', 'OFF'}\n",
    "\n",
    "##### HYPER-PARAMETERS\n",
    "new_parser = {'mb_size': 128,\n",
    "\n",
    "             'iteration_burn_in': 3000,\n",
    "             'iteration': 25000,\n",
    "\n",
    "             'keep_prob': 0.6,\n",
    "             'lr_train': 1e-4,\n",
    "\n",
    "             'h_dim_RNN': 100,\n",
    "             'h_dim_FC' : 100,\n",
    "             'num_layers_RNN':3,\n",
    "             'num_layers_ATT':2,\n",
    "             'num_layers_CS' :3,\n",
    "\n",
    "             'RNN_type':'LSTM', #{'LSTM', 'GRU'}\n",
    "\n",
    "             'FC_active_fn' : tf.nn.relu,\n",
    "             'RNN_active_fn': tf.nn.tanh,\n",
    "\n",
    "            'reg_W'         : 1e-5,\n",
    "            'reg_W_out'     : 0.,\n",
    "\n",
    "             'alpha' :1.0,\n",
    "             'beta'  :0.1,\n",
    "             'gamma' :1.0\n",
    "}\n",
    "\n",
    "\n",
    "# INPUT DIMENSIONS\n",
    "input_dims                  = { 'x_dim'         : x_dim,\n",
    "                                'x_dim_cont'    : x_dim_cont,\n",
    "                                'x_dim_bin'     : x_dim_bin,\n",
    "                                'num_Event'     : num_Event,\n",
    "                                'num_Category'  : num_Category,\n",
    "                                'max_length'    : max_length }\n",
    "\n",
    "# NETWORK HYPER-PARMETERS\n",
    "network_settings            = { 'h_dim_RNN'         : new_parser['h_dim_RNN'],\n",
    "                                'h_dim_FC'          : new_parser['h_dim_FC'],\n",
    "                                'num_layers_RNN'    : new_parser['num_layers_RNN'],\n",
    "                                'num_layers_ATT'    : new_parser['num_layers_ATT'],\n",
    "                                'num_layers_CS'     : new_parser['num_layers_CS'],\n",
    "                                'RNN_type'          : new_parser['RNN_type'],\n",
    "                                'FC_active_fn'      : new_parser['FC_active_fn'],\n",
    "                                'RNN_active_fn'     : new_parser['RNN_active_fn'],\n",
    "                                'initial_W'         : tf.contrib.layers.xavier_initializer(),\n",
    "\n",
    "                                'reg_W'             : new_parser['reg_W'],\n",
    "                                'reg_W_out'         : new_parser['reg_W_out']\n",
    "                                 }\n",
    "\n",
    "\n",
    "mb_size           = new_parser['mb_size']\n",
    "iteration         = new_parser['iteration']\n",
    "iteration_burn_in = new_parser['iteration_burn_in']\n",
    "\n",
    "keep_prob         = new_parser['keep_prob']\n",
    "lr_train          = new_parser['lr_train']\n",
    "\n",
    "alpha             = new_parser['alpha']\n",
    "beta              = new_parser['beta']\n",
    "gamma             = new_parser['gamma']\n",
    "\n",
    "# SAVE HYPERPARAMETERS\n",
    "log_name = file_path + '/hyperparameters_log.txt'\n",
    "save_logging(new_parser, log_name)"
   ]
  },
  {
   "cell_type": "markdown",
   "metadata": {},
   "source": [
    "### 3. Split Dataset into Train/Valid/Test Sets"
   ]
  },
  {
   "cell_type": "code",
   "execution_count": 56,
   "metadata": {},
   "outputs": [],
   "source": [
    "indecies_mesa = pd.read_csv('R:/PrevMed/projects/MESA_RiskPred/LRPP data/mesa_index_select.csv')\n",
    "indecies_mesa = np.array(indecies_mesa['study_index'])\n",
    "\n",
    "df_index = list(range(len(data)))\n",
    "\n",
    "def train_test_split_index(df, indecies):\n",
    "    tr_data = df[indecies == False]\n",
    "    te_data = df[indecies]\n",
    "    \n",
    "    return tr_data, te_data"
   ]
  },
  {
   "cell_type": "code",
   "execution_count": 57,
   "metadata": {},
   "outputs": [],
   "source": [
    "split_option = 'MESA'\n",
    "\n",
    "if split_option == 'MESA':\n",
    "\n",
    "    ### Select MESA as Testing set \n",
    "    tr_data, te_data = train_test_split_index(data, indecies_mesa)\n",
    "    tr_data_raw, te_data_raw = train_test_split_index(df_raw, indecies_mesa)\n",
    "    tr_df_index, te_df_index = train_test_split_index(np.array(df_index), indecies_mesa)\n",
    "    tr_data_mi, te_data_mi = train_test_split_index(data_mi, indecies_mesa)\n",
    "    tr_time, te_time = train_test_split_index(time, indecies_mesa)\n",
    "    tr_label, te_label = train_test_split_index(label, indecies_mesa)\n",
    "    tr_mask1, te_mask1 = train_test_split_index(mask1, indecies_mesa)\n",
    "    tr_mask2, te_mask2 = train_test_split_index(mask2, indecies_mesa)\n",
    "    tr_mask3, te_mask3 = train_test_split_index(mask3, indecies_mesa) \n",
    "else:\n",
    "    ### TRAINING-TESTING SPLIT\n",
    "    (tr_data, te_data, tr_data_raw, te_data_raw, tr_df_index, te_df_index, tr_data_mi, te_data_mi, tr_time, te_time, tr_label, te_label, \n",
    "    tr_mask1,te_mask1, tr_mask2,te_mask2, tr_mask3,te_mask3) = train_test_split(data, df_raw, df_index, data_mi, time, label, mask1, mask2, mask3, test_size=0.3, random_state=seed, stratify = label) \n",
    "\n",
    "(tr_data, va_data, tr_data_mi, va_data_mi, tr_time, va_time, tr_label, va_label, \n",
    " tr_mask1,va_mask1, tr_mask2,va_mask2, tr_mask3,va_mask3) = train_test_split(tr_data, tr_data_mi, tr_time, tr_label, tr_mask1, tr_mask2, tr_mask3, test_size=0.3, random_state=seed, stratify = tr_label) \n",
    "\n",
    "if boost_mode == 'ON':\n",
    "    tr_data, tr_data_mi, tr_time, tr_label, tr_mask1, tr_mask2, tr_mask3 = f_get_boosted_trainset(tr_data, tr_data_mi, tr_time, tr_label, tr_mask1, tr_mask2, tr_mask3)"
   ]
  },
  {
   "cell_type": "code",
   "execution_count": 58,
   "metadata": {},
   "outputs": [
    {
     "name": "stdout",
     "output_type": "stream",
     "text": [
      "INFO:tensorflow:Scale of 0 disables regularizer.\n",
      "WARNING:tensorflow:Entity <bound method MultiRNNCell.call of <tensorflow.python.ops.rnn_cell_impl.MultiRNNCell object at 0x0000020E9E5B1488>> could not be transformed and will be executed as-is. Please report this to the AutgoGraph team. When filing the bug, set the verbosity to 10 (on Linux, `export AUTOGRAPH_VERBOSITY=10`) and attach the full output. Cause: converting <bound method MultiRNNCell.call of <tensorflow.python.ops.rnn_cell_impl.MultiRNNCell object at 0x0000020E9E5B1488>>: AttributeError: module 'gast' has no attribute 'Index'\n",
      "WARNING: Entity <bound method MultiRNNCell.call of <tensorflow.python.ops.rnn_cell_impl.MultiRNNCell object at 0x0000020E9E5B1488>> could not be transformed and will be executed as-is. Please report this to the AutgoGraph team. When filing the bug, set the verbosity to 10 (on Linux, `export AUTOGRAPH_VERBOSITY=10`) and attach the full output. Cause: converting <bound method MultiRNNCell.call of <tensorflow.python.ops.rnn_cell_impl.MultiRNNCell object at 0x0000020E9E5B1488>>: AttributeError: module 'gast' has no attribute 'Index'\n",
      "WARNING:tensorflow:Entity <bound method LSTMCell.call of <tensorflow.python.ops.rnn_cell_impl.LSTMCell object at 0x0000020E8DEB90C8>> could not be transformed and will be executed as-is. Please report this to the AutgoGraph team. When filing the bug, set the verbosity to 10 (on Linux, `export AUTOGRAPH_VERBOSITY=10`) and attach the full output. Cause: converting <bound method LSTMCell.call of <tensorflow.python.ops.rnn_cell_impl.LSTMCell object at 0x0000020E8DEB90C8>>: AttributeError: module 'gast' has no attribute 'Index'\n",
      "WARNING: Entity <bound method LSTMCell.call of <tensorflow.python.ops.rnn_cell_impl.LSTMCell object at 0x0000020E8DEB90C8>> could not be transformed and will be executed as-is. Please report this to the AutgoGraph team. When filing the bug, set the verbosity to 10 (on Linux, `export AUTOGRAPH_VERBOSITY=10`) and attach the full output. Cause: converting <bound method LSTMCell.call of <tensorflow.python.ops.rnn_cell_impl.LSTMCell object at 0x0000020E8DEB90C8>>: AttributeError: module 'gast' has no attribute 'Index'\n",
      "WARNING:tensorflow:Entity <bound method LSTMCell.call of <tensorflow.python.ops.rnn_cell_impl.LSTMCell object at 0x0000020E85904708>> could not be transformed and will be executed as-is. Please report this to the AutgoGraph team. When filing the bug, set the verbosity to 10 (on Linux, `export AUTOGRAPH_VERBOSITY=10`) and attach the full output. Cause: converting <bound method LSTMCell.call of <tensorflow.python.ops.rnn_cell_impl.LSTMCell object at 0x0000020E85904708>>: AttributeError: module 'gast' has no attribute 'Index'\n",
      "WARNING: Entity <bound method LSTMCell.call of <tensorflow.python.ops.rnn_cell_impl.LSTMCell object at 0x0000020E85904708>> could not be transformed and will be executed as-is. Please report this to the AutgoGraph team. When filing the bug, set the verbosity to 10 (on Linux, `export AUTOGRAPH_VERBOSITY=10`) and attach the full output. Cause: converting <bound method LSTMCell.call of <tensorflow.python.ops.rnn_cell_impl.LSTMCell object at 0x0000020E85904708>>: AttributeError: module 'gast' has no attribute 'Index'\n",
      "WARNING:tensorflow:Entity <bound method LSTMCell.call of <tensorflow.python.ops.rnn_cell_impl.LSTMCell object at 0x0000020E9EA7CB88>> could not be transformed and will be executed as-is. Please report this to the AutgoGraph team. When filing the bug, set the verbosity to 10 (on Linux, `export AUTOGRAPH_VERBOSITY=10`) and attach the full output. Cause: converting <bound method LSTMCell.call of <tensorflow.python.ops.rnn_cell_impl.LSTMCell object at 0x0000020E9EA7CB88>>: AttributeError: module 'gast' has no attribute 'Index'\n",
      "WARNING: Entity <bound method LSTMCell.call of <tensorflow.python.ops.rnn_cell_impl.LSTMCell object at 0x0000020E9EA7CB88>> could not be transformed and will be executed as-is. Please report this to the AutgoGraph team. When filing the bug, set the verbosity to 10 (on Linux, `export AUTOGRAPH_VERBOSITY=10`) and attach the full output. Cause: converting <bound method LSTMCell.call of <tensorflow.python.ops.rnn_cell_impl.LSTMCell object at 0x0000020E9EA7CB88>>: AttributeError: module 'gast' has no attribute 'Index'\n",
      "WARNING:tensorflow:Entity <bound method Dense.call of <tensorflow.python.layers.core.Dense object at 0x0000020E9F060488>> could not be transformed and will be executed as-is. Please report this to the AutgoGraph team. When filing the bug, set the verbosity to 10 (on Linux, `export AUTOGRAPH_VERBOSITY=10`) and attach the full output. Cause: converting <bound method Dense.call of <tensorflow.python.layers.core.Dense object at 0x0000020E9F060488>>: AttributeError: module 'gast' has no attribute 'Index'\n",
      "WARNING: Entity <bound method Dense.call of <tensorflow.python.layers.core.Dense object at 0x0000020E9F060488>> could not be transformed and will be executed as-is. Please report this to the AutgoGraph team. When filing the bug, set the verbosity to 10 (on Linux, `export AUTOGRAPH_VERBOSITY=10`) and attach the full output. Cause: converting <bound method Dense.call of <tensorflow.python.layers.core.Dense object at 0x0000020E9F060488>>: AttributeError: module 'gast' has no attribute 'Index'\n",
      "WARNING:tensorflow:Entity <bound method Dense.call of <tensorflow.python.layers.core.Dense object at 0x0000020E88086288>> could not be transformed and will be executed as-is. Please report this to the AutgoGraph team. When filing the bug, set the verbosity to 10 (on Linux, `export AUTOGRAPH_VERBOSITY=10`) and attach the full output. Cause: converting <bound method Dense.call of <tensorflow.python.layers.core.Dense object at 0x0000020E88086288>>: AttributeError: module 'gast' has no attribute 'Index'\n",
      "WARNING: Entity <bound method Dense.call of <tensorflow.python.layers.core.Dense object at 0x0000020E88086288>> could not be transformed and will be executed as-is. Please report this to the AutgoGraph team. When filing the bug, set the verbosity to 10 (on Linux, `export AUTOGRAPH_VERBOSITY=10`) and attach the full output. Cause: converting <bound method Dense.call of <tensorflow.python.layers.core.Dense object at 0x0000020E88086288>>: AttributeError: module 'gast' has no attribute 'Index'\n",
      "WARNING:tensorflow:Entity <bound method Dense.call of <tensorflow.python.layers.core.Dense object at 0x0000020E8CE996C8>> could not be transformed and will be executed as-is. Please report this to the AutgoGraph team. When filing the bug, set the verbosity to 10 (on Linux, `export AUTOGRAPH_VERBOSITY=10`) and attach the full output. Cause: converting <bound method Dense.call of <tensorflow.python.layers.core.Dense object at 0x0000020E8CE996C8>>: AttributeError: module 'gast' has no attribute 'Index'\n",
      "WARNING: Entity <bound method Dense.call of <tensorflow.python.layers.core.Dense object at 0x0000020E8CE996C8>> could not be transformed and will be executed as-is. Please report this to the AutgoGraph team. When filing the bug, set the verbosity to 10 (on Linux, `export AUTOGRAPH_VERBOSITY=10`) and attach the full output. Cause: converting <bound method Dense.call of <tensorflow.python.layers.core.Dense object at 0x0000020E8CE996C8>>: AttributeError: module 'gast' has no attribute 'Index'\n",
      "WARNING:tensorflow:Entity <bound method Dense.call of <tensorflow.python.layers.core.Dense object at 0x0000020E8F025E08>> could not be transformed and will be executed as-is. Please report this to the AutgoGraph team. When filing the bug, set the verbosity to 10 (on Linux, `export AUTOGRAPH_VERBOSITY=10`) and attach the full output. Cause: converting <bound method Dense.call of <tensorflow.python.layers.core.Dense object at 0x0000020E8F025E08>>: AttributeError: module 'gast' has no attribute 'Index'\n",
      "WARNING: Entity <bound method Dense.call of <tensorflow.python.layers.core.Dense object at 0x0000020E8F025E08>> could not be transformed and will be executed as-is. Please report this to the AutgoGraph team. When filing the bug, set the verbosity to 10 (on Linux, `export AUTOGRAPH_VERBOSITY=10`) and attach the full output. Cause: converting <bound method Dense.call of <tensorflow.python.layers.core.Dense object at 0x0000020E8F025E08>>: AttributeError: module 'gast' has no attribute 'Index'\n",
      "WARNING:tensorflow:Entity <bound method Dense.call of <tensorflow.python.layers.core.Dense object at 0x0000020E9EC1FA48>> could not be transformed and will be executed as-is. Please report this to the AutgoGraph team. When filing the bug, set the verbosity to 10 (on Linux, `export AUTOGRAPH_VERBOSITY=10`) and attach the full output. Cause: converting <bound method Dense.call of <tensorflow.python.layers.core.Dense object at 0x0000020E9EC1FA48>>: AttributeError: module 'gast' has no attribute 'Index'\n",
      "WARNING: Entity <bound method Dense.call of <tensorflow.python.layers.core.Dense object at 0x0000020E9EC1FA48>> could not be transformed and will be executed as-is. Please report this to the AutgoGraph team. When filing the bug, set the verbosity to 10 (on Linux, `export AUTOGRAPH_VERBOSITY=10`) and attach the full output. Cause: converting <bound method Dense.call of <tensorflow.python.layers.core.Dense object at 0x0000020E9EC1FA48>>: AttributeError: module 'gast' has no attribute 'Index'\n",
      "WARNING:tensorflow:Entity <bound method Dense.call of <tensorflow.python.layers.core.Dense object at 0x0000020E8B2B6CC8>> could not be transformed and will be executed as-is. Please report this to the AutgoGraph team. When filing the bug, set the verbosity to 10 (on Linux, `export AUTOGRAPH_VERBOSITY=10`) and attach the full output. Cause: converting <bound method Dense.call of <tensorflow.python.layers.core.Dense object at 0x0000020E8B2B6CC8>>: AttributeError: module 'gast' has no attribute 'Index'\n",
      "WARNING: Entity <bound method Dense.call of <tensorflow.python.layers.core.Dense object at 0x0000020E8B2B6CC8>> could not be transformed and will be executed as-is. Please report this to the AutgoGraph team. When filing the bug, set the verbosity to 10 (on Linux, `export AUTOGRAPH_VERBOSITY=10`) and attach the full output. Cause: converting <bound method Dense.call of <tensorflow.python.layers.core.Dense object at 0x0000020E8B2B6CC8>>: AttributeError: module 'gast' has no attribute 'Index'\n",
      "WARNING:tensorflow:Entity <bound method Dense.call of <tensorflow.python.layers.core.Dense object at 0x0000020E8B2B6CC8>> could not be transformed and will be executed as-is. Please report this to the AutgoGraph team. When filing the bug, set the verbosity to 10 (on Linux, `export AUTOGRAPH_VERBOSITY=10`) and attach the full output. Cause: converting <bound method Dense.call of <tensorflow.python.layers.core.Dense object at 0x0000020E8B2B6CC8>>: AttributeError: module 'gast' has no attribute 'Index'\n",
      "WARNING: Entity <bound method Dense.call of <tensorflow.python.layers.core.Dense object at 0x0000020E8B2B6CC8>> could not be transformed and will be executed as-is. Please report this to the AutgoGraph team. When filing the bug, set the verbosity to 10 (on Linux, `export AUTOGRAPH_VERBOSITY=10`) and attach the full output. Cause: converting <bound method Dense.call of <tensorflow.python.layers.core.Dense object at 0x0000020E8B2B6CC8>>: AttributeError: module 'gast' has no attribute 'Index'\n",
      "WARNING:tensorflow:Entity <bound method Dense.call of <tensorflow.python.layers.core.Dense object at 0x0000020E8B2B6CC8>> could not be transformed and will be executed as-is. Please report this to the AutgoGraph team. When filing the bug, set the verbosity to 10 (on Linux, `export AUTOGRAPH_VERBOSITY=10`) and attach the full output. Cause: converting <bound method Dense.call of <tensorflow.python.layers.core.Dense object at 0x0000020E8B2B6CC8>>: AttributeError: module 'gast' has no attribute 'Index'\n",
      "WARNING: Entity <bound method Dense.call of <tensorflow.python.layers.core.Dense object at 0x0000020E8B2B6CC8>> could not be transformed and will be executed as-is. Please report this to the AutgoGraph team. When filing the bug, set the verbosity to 10 (on Linux, `export AUTOGRAPH_VERBOSITY=10`) and attach the full output. Cause: converting <bound method Dense.call of <tensorflow.python.layers.core.Dense object at 0x0000020E8B2B6CC8>>: AttributeError: module 'gast' has no attribute 'Index'\n",
      "WARNING:tensorflow:Entity <bound method Dense.call of <tensorflow.python.layers.core.Dense object at 0x0000020E8B2B01C8>> could not be transformed and will be executed as-is. Please report this to the AutgoGraph team. When filing the bug, set the verbosity to 10 (on Linux, `export AUTOGRAPH_VERBOSITY=10`) and attach the full output. Cause: converting <bound method Dense.call of <tensorflow.python.layers.core.Dense object at 0x0000020E8B2B01C8>>: AttributeError: module 'gast' has no attribute 'Index'\n",
      "WARNING: Entity <bound method Dense.call of <tensorflow.python.layers.core.Dense object at 0x0000020E8B2B01C8>> could not be transformed and will be executed as-is. Please report this to the AutgoGraph team. When filing the bug, set the verbosity to 10 (on Linux, `export AUTOGRAPH_VERBOSITY=10`) and attach the full output. Cause: converting <bound method Dense.call of <tensorflow.python.layers.core.Dense object at 0x0000020E8B2B01C8>>: AttributeError: module 'gast' has no attribute 'Index'\n"
     ]
    }
   ],
   "source": [
    "##### CREATE DYNAMIC-DEEPHIT NETWORK\n",
    "tf.reset_default_graph()\n",
    "\n",
    "config = tf.ConfigProto()\n",
    "config.gpu_options.allow_growth = True\n",
    "sess = tf.Session(config=config)\n",
    "\n",
    "model = Model_Longitudinal_Attention(sess, \"Dyanmic-DeepHit\", input_dims, network_settings)\n",
    "saver = tf.train.Saver()\n",
    "\n",
    "sess.run(tf.global_variables_initializer())"
   ]
  },
  {
   "cell_type": "code",
   "execution_count": 59,
   "metadata": {},
   "outputs": [
    {
     "name": "stdout",
     "output_type": "stream",
     "text": [
      "BURN-IN TRAINING ...\n",
      "itr: 1000 | loss: 2.0677\n",
      "itr: 2000 | loss: 1.3464\n",
      "itr: 3000 | loss: 1.5232\n",
      "MAIN TRAINING ...\n",
      "itr: 1000 | loss: 2.5791\n",
      "updated.... average c-index = 0.8007\n",
      "itr: 2000 | loss: 2.5021\n",
      "updated.... average c-index = 0.8046\n",
      "itr: 3000 | loss: 2.3008\n",
      "updated.... average c-index = 0.8047\n",
      "itr: 4000 | loss: 2.1858\n",
      "updated.... average c-index = 0.8059\n",
      "itr: 5000 | loss: 2.5463\n",
      "itr: 6000 | loss: 2.3947\n",
      "itr: 7000 | loss: 2.7438\n",
      "updated.... average c-index = 0.8065\n",
      "itr: 8000 | loss: 1.8497\n",
      "itr: 9000 | loss: 2.7048\n",
      "updated.... average c-index = 0.8066\n",
      "itr: 10000 | loss: 2.1203\n",
      "itr: 11000 | loss: 1.8567\n",
      "updated.... average c-index = 0.8089\n",
      "itr: 12000 | loss: 2.1438\n",
      "updated.... average c-index = 0.8094\n",
      "itr: 13000 | loss: 1.6616\n",
      "itr: 14000 | loss: 1.8909\n",
      "updated.... average c-index = 0.8112\n",
      "itr: 15000 | loss: 2.5762\n",
      "itr: 16000 | loss: 1.6489\n",
      "itr: 17000 | loss: 2.1490\n",
      "itr: 18000 | loss: 2.3043\n",
      "itr: 19000 | loss: 2.6016\n",
      "updated.... average c-index = 0.8123\n",
      "itr: 20000 | loss: 2.5773\n",
      "updated.... average c-index = 0.8124\n",
      "itr: 21000 | loss: 1.4868\n",
      "updated.... average c-index = 0.8131\n",
      "itr: 22000 | loss: 2.1138\n",
      "itr: 23000 | loss: 2.3374\n",
      "itr: 24000 | loss: 2.3702\n",
      "updated.... average c-index = 0.8168\n",
      "itr: 25000 | loss: 2.3794\n"
     ]
    }
   ],
   "source": [
    "### TRAINING - BURN-IN\n",
    "if burn_in_mode == 'ON':\n",
    "    print( \"BURN-IN TRAINING ...\")\n",
    "    for itr in range(iteration_burn_in):\n",
    "        x_mb, x_mi_mb, k_mb, t_mb, m1_mb, m2_mb, m3_mb = f_get_minibatch(mb_size, tr_data, tr_data_mi, tr_label, tr_time, tr_mask1, tr_mask2, tr_mask3)\n",
    "        DATA = (x_mb, k_mb, t_mb)\n",
    "        MISSING = (x_mi_mb)\n",
    "\n",
    "        _, loss_curr = model.train_burn_in(DATA, MISSING, keep_prob, lr_train)\n",
    "\n",
    "        if (itr+1)%1000 == 0:\n",
    "            print('itr: {:04d} | loss: {:.4f}'.format(itr+1, loss_curr))\n",
    "\n",
    "\n",
    "### TRAINING - MAIN\n",
    "print( \"MAIN TRAINING ...\")\n",
    "min_valid = 0.5\n",
    "\n",
    "for itr in range(iteration):\n",
    "    x_mb, x_mi_mb, k_mb, t_mb, m1_mb, m2_mb, m3_mb = f_get_minibatch(mb_size, tr_data, tr_data_mi, tr_label, tr_time, tr_mask1, tr_mask2, tr_mask3)\n",
    "    DATA = (x_mb, k_mb, t_mb)\n",
    "    MASK = (m1_mb, m2_mb, m3_mb)\n",
    "    MISSING = (x_mi_mb)\n",
    "    PARAMETERS = (alpha, beta, gamma)\n",
    "\n",
    "    _, loss_curr = model.train(DATA, MASK, MISSING, PARAMETERS, keep_prob, lr_train)\n",
    "\n",
    "    if (itr+1)%1000 == 0:\n",
    "        print('itr: {:04d} | loss: {:.4f}'.format(itr+1, loss_curr))\n",
    "\n",
    "    ### VALIDATION  (based on average C-index of our interest)\n",
    "    if (itr+1)%1000 == 0:        \n",
    "        risk_all = f_get_risk_predictions(sess, model, va_data, va_data_mi, pred_time, eval_time)\n",
    "        \n",
    "        for p, p_time in enumerate(pred_time):\n",
    "            pred_horizon = int(p_time)\n",
    "            val_result1 = np.zeros([num_Event, len(eval_time)])\n",
    "            \n",
    "            for t, t_time in enumerate(eval_time):                \n",
    "                eval_horizon = int(t_time) + pred_horizon\n",
    "                for k in range(num_Event):\n",
    "                    val_result1[k, t] = c_index(risk_all[k][:, p, t], va_time, (va_label[:,0] == k+1).astype(int), eval_horizon) #-1 for no event (not comparable)\n",
    "            \n",
    "            if p == 0:\n",
    "                val_final1 = val_result1\n",
    "            else:\n",
    "                val_final1 = np.append(val_final1, val_result1, axis=0)\n",
    "\n",
    "        tmp_valid = np.mean(val_final1)\n",
    "\n",
    "        if tmp_valid >  min_valid:\n",
    "            min_valid = tmp_valid\n",
    "            saver.save(sess, file_path + '/model')\n",
    "            print( 'updated.... average c-index = ' + str('%.4f' %(tmp_valid)))"
   ]
  },
  {
   "cell_type": "markdown",
   "metadata": {},
   "source": [
    "### 5. Test the Trained Network"
   ]
  },
  {
   "cell_type": "code",
   "execution_count": 60,
   "metadata": {},
   "outputs": [
    {
     "name": "stdout",
     "output_type": "stream",
     "text": [
      "INFO:tensorflow:Restoring parameters from PBC2/model\n",
      "========================================================\n",
      "--------------------------------------------------------\n",
      "- C-INDEX: \n",
      "                      eval_time 10\n",
      "pred_time 8: event_1      0.731543\n",
      "--------------------------------------------------------\n",
      "- BRIER-SCORE: \n",
      "                      eval_time 10\n",
      "pred_time 8: event_1      0.055628\n",
      "========================================================\n"
     ]
    }
   ],
   "source": [
    "saver.restore(sess, file_path + '/model')\n",
    "\n",
    "risk_all = f_get_risk_predictions(sess, model, te_data, te_data_mi, pred_time, eval_time)\n",
    "\n",
    "for p, p_time in enumerate(pred_time):\n",
    "    pred_horizon = int(p_time)\n",
    "    result1, result2 = np.zeros([num_Event, len(eval_time)]), np.zeros([num_Event, len(eval_time)])\n",
    "\n",
    "    for t, t_time in enumerate(eval_time):                \n",
    "        eval_horizon = int(t_time) + pred_horizon\n",
    "        for k in range(num_Event):\n",
    "            result1[k, t] = c_index(risk_all[k][:, p, t], te_time, (te_label[:,0] == k+1).astype(int), eval_horizon) #-1 for no event (not comparable)\n",
    "            result2[k, t] = brier_score(risk_all[k][:, p, t], te_time, (te_label[:,0] == k+1).astype(int), eval_horizon) #-1 for no event (not comparable)\n",
    "   \n",
    "    if p == 0:\n",
    "        final1, final2 = result1, result2\n",
    "    else:\n",
    "        final1, final2 = np.append(final1, result1, axis=0), np.append(final2, result2, axis=0)\n",
    "        \n",
    "        \n",
    "row_header = []\n",
    "for p_time in pred_time:\n",
    "    for k in range(num_Event):\n",
    "        row_header.append('pred_time {}: event_{}'.format(p_time,k+1))\n",
    "            \n",
    "col_header = []\n",
    "for t_time in eval_time:\n",
    "    col_header.append('eval_time {}'.format(t_time))\n",
    "\n",
    "# c-index result\n",
    "df1 = pd.DataFrame(final1, index = row_header, columns=col_header)\n",
    "\n",
    "# brier-score result\n",
    "df2 = pd.DataFrame(final2, index = row_header, columns=col_header)\n",
    "\n",
    "### PRINT RESULTS\n",
    "print('========================================================')\n",
    "print('--------------------------------------------------------')\n",
    "print('- C-INDEX: ')\n",
    "print(df1)\n",
    "print('--------------------------------------------------------')\n",
    "print('- BRIER-SCORE: ')\n",
    "print(df2)\n",
    "print('========================================================')"
   ]
  },
  {
   "cell_type": "markdown",
   "metadata": {},
   "source": [
    "### AUC Calculation"
   ]
  },
  {
   "cell_type": "code",
   "execution_count": 61,
   "metadata": {},
   "outputs": [],
   "source": [
    "def prediction_df(risk_all, event):\n",
    "    \"\"\"\n",
    "    Gets the individual predictions from risk_all\n",
    "    event = 0 -> \n",
    "    \"\"\"\n",
    "    \n",
    "    for i in range(len(risk_all[event])): \n",
    "        \n",
    "        chunk = risk_all[event][i].tolist()\n",
    "        chunk = pd.DataFrame(chunk)\n",
    "        chunk['pt_id'] = i\n",
    "        if i == 0:\n",
    "            df = chunk\n",
    "        else: \n",
    "            df = pd.concat([df, chunk])\n",
    "\n",
    "    df = df.reset_index()\n",
    "    df = df.rename(columns = {'index':'pred_time'})\n",
    "    df['pred_time'] = df['pred_time'] * 2 + 1 # need to change if eval or pred time is edited\n",
    "\n",
    "    df = pd.melt(df, id_vars=['pt_id', 'pred_time'], value_vars=[0]).sort_values(['pt_id', 'pred_time', 'variable'])\n",
    "\n",
    "    df = df.rename(columns = {'variable' : 'eval_time'})\n",
    "    \n",
    "    return df\n",
    "\n",
    "def prediction_auc(pred_t, eval_t , event_n, df):\n",
    "    \"\"\"Calculates the AUC at each prediction time and prediction time\"\"\"\n",
    "    \n",
    "    global true \n",
    "    \n",
    "    time_horizon = pred_t + eval_t \n",
    "    true = (te_time <= 15) * (te_label == 1).astype(int)\n",
    "\n",
    "    auc = roc_auc_score(true.tolist(), df.loc[(df.pred_time == pred_t) & (df.eval_time == eval_t), 'value'].tolist())\n",
    "            \n",
    "    return auc \n",
    "\n",
    "def prediction_pred_values(pred_t, eval_t , event_n, df):\n",
    "    \"\"\"Gets the predication values and true labels for AUC CI calculation\"\"\"\n",
    "    \n",
    "    global true \n",
    "    \n",
    "    time_horizon = pred_t + eval_t \n",
    "    true = (te_time <= time_horizon) * (te_label == event_n).astype(int)\n",
    "\n",
    "    pred_values = df.loc[(df.pred_time == pred_t) & (df.eval_time == eval_t), 'value'].tolist()\n",
    "            \n",
    "    pred_values_df = pd.DataFrame(true, columns = ['true_labels'])\n",
    "    pred_values_df['pred_values'] = pred_values    \n",
    "    \n",
    "    return pred_values_df\n",
    "\n",
    "def prediction_ROC(pred_t, eval_t , event_n, df):\n",
    "    \"\"\"Calculates the AUC at each prediction time and prediction time\"\"\"\n",
    "    \n",
    "    global true \n",
    "    \n",
    "    time_horizon = pred_t + eval_t \n",
    "    true = (te_time <= 15) * (te_label == 1).astype(int)\n",
    "\n",
    "    fpr, tpr, thresh = roc_curve(true.tolist(), df.loc[(df.pred_time == pred_t) & (df.eval_time == eval_t), 'value'].tolist())\n",
    "            \n",
    "    return fpr, tpr, thresh\n",
    "\n",
    "def get_all_auc(risk_all):\n",
    "    \"\"\"Get the auc matrix\"\"\"\n",
    "\n",
    "    pred_df = prediction_df(risk_all, 0)\n",
    "\n",
    "    for p, p_t in enumerate(pred_time):\n",
    "        p_t_row = []\n",
    "        for e, e_t in enumerate(eval_time):\n",
    "            p_t_row.append(round(prediction_auc(p_t, e, 1, pred_df),3))\n",
    "        if p == 0:\n",
    "            auc_df = pd.DataFrame(p_t_row).T\n",
    "        else: \n",
    "            auc_df = pd.concat([auc_df, pd.DataFrame(p_t_row).T], axis = 0)\n",
    "\n",
    "    auc_df.columns = ['eval_time_' + str(i) for i in eval_time]\n",
    "    auc_df.index = ['pred_time_' + str(i) for i in pred_time]\n",
    "    \n",
    "    return auc_df, pred_df"
   ]
  },
  {
   "cell_type": "code",
   "execution_count": 62,
   "metadata": {},
   "outputs": [
    {
     "data": {
      "text/plain": [
       "0.7283588629392761"
      ]
     },
     "execution_count": 62,
     "metadata": {},
     "output_type": "execute_result"
    }
   ],
   "source": [
    "# Get individual risks for AUC calculation\n",
    "pred_df = prediction_df(risk_all, 0)\n",
    "pred_values_5_10 = prediction_auc(1,0,0,pred_df)\n",
    "pred_values_5_10\n",
    "#os.chdir('C:/Users/excen/Dropbox/HSIP/Research/MESA/Results/AUC Values')\n",
    "#pred_values_5_10.to_csv('pred_values_5_10.csv', index = False)"
   ]
  },
  {
   "cell_type": "markdown",
   "metadata": {},
   "source": [
    "## PCE Calculation"
   ]
  },
  {
   "cell_type": "code",
   "execution_count": null,
   "metadata": {},
   "outputs": [],
   "source": [
    "import ASCVD_Calc_PCE\n",
    "from importlib import reload\n",
    "reload(ASCVD_Calc_PCE)"
   ]
  },
  {
   "cell_type": "code",
   "execution_count": null,
   "metadata": {},
   "outputs": [],
   "source": [
    "# get risk measurements from PCE data set (Multiple)\n",
    "pred_time_index = 2\n",
    "pce_pred_df, pce_df = ASCVD_Calc_PCE.pce_pred_df_tab(te_data_raw, pred_time, pred_time_index)\n",
    "\n",
    "# mean risk from PCE equation\n",
    "np.round(pce_pred_df.risk.mean(),3)"
   ]
  },
  {
   "cell_type": "code",
   "execution_count": null,
   "metadata": {},
   "outputs": [],
   "source": [
    "# generate data for PCE \n",
    "pd.DataFrame(te_data_raw[:,3]).to_csv('R:/PrevMed/Projects/MESA_RiskPred/Output/test5.csv')\n",
    "pd.DataFrame(tr_data_raw[:,3]).to_csv('R:/PrevMed/Projects/MESA_RiskPred/Output/train5.csv')"
   ]
  },
  {
   "cell_type": "code",
   "execution_count": null,
   "metadata": {},
   "outputs": [],
   "source": [
    "# calculate AUC \n",
    "def prediction_auc_PCE_df(pred_time, pred_time_index, pce_pred_df, cluster):\n",
    "    \"\"\"\n",
    "    Calculates the AUC of the PCE predictions at a given time\n",
    "    pred_time: pred time list of prediction times\n",
    "    pred_time_index: which prediction time in terms of position in the list \n",
    "    pce_pred_df: df of probability of PCE dataset\n",
    "    \"\"\"\n",
    "    global true, time_horizon\n",
    "    \n",
    "    time_horizon = np.zeros((len(te_label),1))\n",
    "    time_horizon = [pred_time[pred_time_index] + 10 + i for i in time_horizon]\n",
    "    true = (te_time <= time_horizon) * (te_label == 1).astype(int)\n",
    "    \n",
    "    pce_pred_df['true_label'] = true\n",
    "    pce_pred_df = pce_pred_df.loc[~pce_pred_df.risk.isnull(),:]\n",
    "    \n",
    "    if cluster != 'none':\n",
    "        pce_pred_df = pce_pred_df.loc[pce_pred_df['labels'] == cluster, :]\n",
    "        \n",
    "    return pce_pred_df\n",
    "\n",
    "def prediction_auc_PCE(pred_time, pred_time_index, pce_pred_df, cluster):\n",
    "    \n",
    "    pce_pred_df = prediction_auc_PCE_df(pred_time, pred_time_index, pce_pred_df, cluster)\n",
    "    auc = roc_auc_score(pce_pred_df['true_label'].tolist(), pce_pred_df['risk'].tolist())\n",
    "    \n",
    "    return auc \n",
    "\n",
    "def prediction_ROC(pred_time, pred_time_index, pce_pred_df, cluster):\n",
    "    \n",
    "    pce_pred_df = prediction_auc_PCE_df(pred_time, pred_time_index, pce_pred_df, cluster)\n",
    "    fpr, tpr, thresh = roc_curve(pce_pred_df['true_label'].tolist(), pce_pred_df['risk'].tolist())\n",
    "    \n",
    "    return fpr, tpr, thresh"
   ]
  },
  {
   "cell_type": "code",
   "execution_count": null,
   "metadata": {},
   "outputs": [],
   "source": [
    "# Get PCE AUC for Each Prediction Year\n",
    "print('NULL Risk Values from PCE: ', pce_pred_df.risk.isnull().sum())\n",
    "print('PCE AUC @ Yr 1: ', np.round(prediction_auc_PCE(pred_time, 0, pce_pred_df, 'none'),3))\n",
    "print('PCE AUC @ Yr 3: ', np.round(prediction_auc_PCE(pred_time, 1, pce_pred_df, 'none'),3))\n",
    "print('PCE AUC @ Yr 5: ', np.round(prediction_auc_PCE(pred_time, 2, pce_pred_df, 'none'),3))\n",
    "print('PCE AUC @ Yr 7: ', np.round(prediction_auc_PCE(pred_time, 3, pce_pred_df, 'none'),3))"
   ]
  },
  {
   "cell_type": "code",
   "execution_count": null,
   "metadata": {},
   "outputs": [],
   "source": [
    "# 5 year ROC \n",
    "pce_fpr, pce_tpr, pce_thresh = prediction_ROC(pred_time, 2, pce_pred_df, 'none')\n",
    "auc1 = np.round(prediction_auc_PCE(pred_time, 2, pce_pred_df, 'none'),3)\n",
    "auc2 = 0.764#np.round(prediction_auc(5, 3, 1, pred_df), 3)"
   ]
  },
  {
   "cell_type": "code",
   "execution_count": null,
   "metadata": {},
   "outputs": [],
   "source": [
    "dh_roc_df = pd.read_csv('/Users/Excenity/Documents/HSIP/Research/Longitudinal PCE/GitHub/PCE_Dynamic-DeepHit/dh_roc_df.csv')\n",
    "auc3 = 0.703"
   ]
  },
  {
   "cell_type": "markdown",
   "metadata": {},
   "source": [
    "#### Plot ROC Curve"
   ]
  },
  {
   "cell_type": "code",
   "execution_count": null,
   "metadata": {},
   "outputs": [],
   "source": [
    "plt.plot(pce_fpr, pce_tpr,label='PCE AUC='+str(auc1))\n",
    "plt.plot(dh_roc_df['fpr'], dh_roc_df['tpr'],label='DH AUC='+str(auc3))\n",
    "plt.plot(ddh_fpr, ddh_tpr,label='DDH AUC='+str(auc2))\n",
    "plt.legend(loc=4)"
   ]
  },
  {
   "cell_type": "code",
   "execution_count": null,
   "metadata": {},
   "outputs": [],
   "source": [
    "roc_df = pd.DataFrame({'fpr': ddh_fpr,\n",
    "                       'tpr': ddh_tpr})\n",
    "roc_df.to_csv('/Users/Excenity/Documents/HSIP/Research/Longitudinal PCE/GitHub/PCE_Dynamic-DeepHit/ddh_roc_df.csv', index = False)"
   ]
  },
  {
   "cell_type": "code",
   "execution_count": null,
   "metadata": {},
   "outputs": [],
   "source": [
    "dh_fpr, dh_tpr"
   ]
  },
  {
   "cell_type": "markdown",
   "metadata": {},
   "source": [
    "## Compare Population Groups\n",
    "\n",
    "1. Get predicted probabilities of risk\n",
    "2. Get the appropriate labels\n",
    "3. Get relevant demographics of participants \n",
    "4. Create AUCs for respective participants"
   ]
  },
  {
   "cell_type": "code",
   "execution_count": null,
   "metadata": {},
   "outputs": [],
   "source": [
    "### Dynamic DeepHit\n",
    "# Time Of Interest\n",
    "pred_time_i = 2\n",
    "pred_time_ia = 5\n",
    "eval_time_i = 3\n",
    "eval_time_ia= 10\n",
    "\n",
    "# get prediction risk\n",
    "pred_df = prediction_df(risk_all, 0)\n",
    "# get only the evaluation time of 10 years\n",
    "pred_df = pred_df[(pred_df['eval_time'] == eval_time_i) & (pred_df['pred_time'] == pred_time_ia)]\n",
    "\n",
    "# get true labels\n",
    "time_horizon = pred_time_ia + eval_time_ia\n",
    "true = (te_time <= time_horizon) * (te_label == 1).astype(int)\n",
    "pred_df['true_label'] = true\n",
    "\n",
    "# get actual demographics data\n",
    "demo_df = pd.DataFrame(te_data_raw[:,pred_time_i])\n",
    "demo_df.columns = ['x', 'sbp', 'dbp', 'hdl', 'chol', 'age', 'cig', 'dm03', 'htnmed', 'race', 'gender']\n",
    "\n",
    "demo_df = demo_df.reset_index()\n",
    "pred_df = pred_df.reset_index()\n",
    "final = pd.concat([demo_df, pred_df], axis = 1)\n",
    "\n",
    "#final = final.drop(columns = ['level_0', 'index', 'x'])"
   ]
  },
  {
   "cell_type": "code",
   "execution_count": null,
   "metadata": {},
   "outputs": [],
   "source": [
    "### PCEs\n",
    "pce_pred_df = pce_pred_df.reset_index()\n",
    "pce_pred_df = pce_pred_df[['risk']]\n",
    "pce_df = pce_df.reset_index()\n",
    "pce_df['true_label'] = true\n",
    "final_pce = pd.concat([pce_pred_df, pce_df], axis = 1)"
   ]
  },
  {
   "cell_type": "markdown",
   "metadata": {},
   "source": [
    "### Race Comparisons\n",
    "1. Black\n",
    "2. White and Other Races"
   ]
  },
  {
   "cell_type": "code",
   "execution_count": null,
   "metadata": {},
   "outputs": [],
   "source": [
    "# convert race categories for PCE data\n",
    "final.loc[final['race'] == 1, 'race'] = 'white'\n",
    "final.loc[final['race'] == 2, 'race'] = 'asian'\n",
    "final.loc[final['race'] == 3, 'race'] = 'black'\n",
    "final.loc[final['race'] == 4, 'race'] = 'hispanic'"
   ]
  },
  {
   "cell_type": "code",
   "execution_count": null,
   "metadata": {},
   "outputs": [],
   "source": [
    "# black comparison\n",
    "### Dynamic DeepHit\n",
    "final_t = final.loc[final['race'] == 'black', :]\n",
    "print('DDH AUC: ', round(roc_auc_score(final_t['true_label'].tolist(), final_t['value'].tolist()),3))\n",
    "### PCE\n",
    "final_pce_t = final_pce.loc[final_pce['race'] == 'black', :]\n",
    "print('PCE AUC: ', round(roc_auc_score(final_pce_t['true_label'].tolist(), final_pce_t['risk'].tolist()),3))"
   ]
  },
  {
   "cell_type": "code",
   "execution_count": null,
   "metadata": {},
   "outputs": [],
   "source": [
    "pred_values_ddh_black = final_t.loc[:, ['true_label', 'value']]\n",
    "pred_values_pce_black = final_pce_t.loc[:, ['true_label', 'risk']]\n",
    "\n",
    "pred_values_ddh_black.to_csv('pred_values_ddh_black.csv', index = False)\n",
    "pred_values_pce_black.to_csv('pred_values_pce_black.csv', index = False)"
   ]
  },
  {
   "cell_type": "code",
   "execution_count": null,
   "metadata": {},
   "outputs": [],
   "source": [
    "print(final_t.value.mean())\n",
    "print(final_pce_t.risk.mean())"
   ]
  },
  {
   "cell_type": "code",
   "execution_count": null,
   "metadata": {},
   "outputs": [],
   "source": [
    "# other comparison\n",
    "final_t = final.loc[final['race'] != 'black', :]\n",
    "print('DDH AUC: ', round(roc_auc_score(final_t['true_label'].tolist(), final_t['value'].tolist()),3))\n",
    "### PCE\n",
    "final_pce_t = final_pce.loc[final_pce['race'] != 'black', :]\n",
    "final_pce_t = final_pce_t.dropna()\n",
    "print('PCE AUC: ', round(roc_auc_score(final_pce_t['true_label'].tolist(), final_pce_t['risk'].tolist()),3))"
   ]
  },
  {
   "cell_type": "code",
   "execution_count": null,
   "metadata": {},
   "outputs": [],
   "source": [
    "pred_values_ddh_other = final_t.loc[:, ['true_label', 'value']]\n",
    "pred_values_pce_other = final_pce_t.loc[:, ['true_label', 'risk']]\n",
    "\n",
    "pred_values_ddh_other.to_csv('pred_values_ddh_other.csv', index = False)\n",
    "pred_values_pce_other.to_csv('pred_values_pce_other.csv', index = False)"
   ]
  },
  {
   "cell_type": "code",
   "execution_count": null,
   "metadata": {},
   "outputs": [],
   "source": [
    "final_tt = final_t.iloc[:,[0,16]]\n",
    "final_pce_tt = final_pce_t.loc[: ,['index', 'risk']]\n",
    "comp_df = pd.merge(final_tt, final_pce_tt, how = 'left', on = 'index')\n",
    "\n",
    "ggplot(comp_df) + aes(x = 'risk', y = 'value') + geom_point(alpha = .25, color = 'green') + theme_bw() + xlab('PCE Risk') + ylab('DDH Risk') #+ geom_smooth(method='lm', color = 'green')"
   ]
  },
  {
   "cell_type": "code",
   "execution_count": null,
   "metadata": {},
   "outputs": [],
   "source": [
    "print(final_t.value.mean())\n",
    "print(final_pce_t.risk.mean())"
   ]
  },
  {
   "cell_type": "code",
   "execution_count": null,
   "metadata": {},
   "outputs": [],
   "source": [
    "race_auc = pd.DataFrame({'race':['black', 'black', 'other', 'other'],\n",
    "                         'method': ['DDH', 'PCE', 'DDH', 'PCE'],\n",
    "                         'auc': [0.747, 0.734, 0.752, 0.736]})\n",
    "\n",
    "ggplot(race_auc) + aes(x = 'race', y = 'auc', fill = 'method') + geom_col(position = 'dodge') + ylim (0,1) + geom_text(aes(label='auc'), va = 'bottom', position=position_dodge(width=0.9)) + theme_bw()"
   ]
  },
  {
   "cell_type": "markdown",
   "metadata": {},
   "source": [
    "### Gender Comparisons\n",
    "1. Female\n",
    "2. Male"
   ]
  },
  {
   "cell_type": "code",
   "execution_count": null,
   "metadata": {},
   "outputs": [],
   "source": [
    "# female comparison\n",
    "### Dynamic DeepHit\n",
    "final_t = final.loc[final['gender'] == 0, :]\n",
    "print('DDH AUC: ', round(roc_auc_score(final_t['true_label'].tolist(), final_t['value'].tolist()),3))\n",
    "### PCE\n",
    "final_pce_t = final_pce.loc[final_pce['gender'] == 'F', :]\n",
    "final_pce_t = final_pce_t.dropna()\n",
    "print('PCE AUC: ', round(roc_auc_score(final_pce_t['true_label'].tolist(), final_pce_t['risk'].tolist()),3))"
   ]
  },
  {
   "cell_type": "code",
   "execution_count": null,
   "metadata": {},
   "outputs": [],
   "source": [
    "pred_values_ddh_female = final_t.loc[:, ['true_label', 'value']]\n",
    "pred_values_pce_female = final_pce_t.loc[:, ['true_label', 'risk']]\n",
    "\n",
    "pred_values_ddh_female.to_csv('pred_values_ddh_female.csv', index = False)\n",
    "pred_values_pce_female.to_csv('pred_values_pce_female.csv', index = False)"
   ]
  },
  {
   "cell_type": "code",
   "execution_count": null,
   "metadata": {},
   "outputs": [],
   "source": [
    "final_tt = final_t.iloc[:,[0,16]]\n",
    "final_pce_tt = final_pce_t.loc[: ,['index', 'risk']]\n",
    "comp_df = pd.merge(final_tt, final_pce_tt, how = 'left', on = 'index')\n",
    "\n",
    "ggplot(comp_df) + aes(x = 'risk', y = 'value') + geom_point(alpha = .25, color = 'green') + theme_bw() + xlab('PCE Risk') + ylab('DDH Risk') #+ xlim(0,1) + ylim(0,1) #+ geom_smooth(method='lm') "
   ]
  },
  {
   "cell_type": "code",
   "execution_count": null,
   "metadata": {},
   "outputs": [],
   "source": [
    "# male comparison\n",
    "final_t = final.loc[final['gender'] != 0, :]\n",
    "print('DDH AUC: ', round(roc_auc_score(final_t['true_label'].tolist(), final_t['value'].tolist()),3))\n",
    "### PCE\n",
    "final_pce_t = final_pce.loc[final_pce['gender'] == 'M', :]\n",
    "final_pce_t = final_pce_t.dropna()\n",
    "print('PCE AUC: ', round(roc_auc_score(final_pce_t['true_label'].tolist(), final_pce_t['risk'].tolist()),3))"
   ]
  },
  {
   "cell_type": "code",
   "execution_count": null,
   "metadata": {},
   "outputs": [],
   "source": [
    "pred_values_ddh_male = final_t.loc[:, ['true_label', 'value']]\n",
    "pred_values_pce_male = final_pce_t.loc[:, ['true_label', 'risk']]\n",
    "\n",
    "pred_values_ddh_male.to_csv('pred_values_ddh_male.csv', index = False)\n",
    "pred_values_pce_male.to_csv('pred_values_pce_male.csv', index = False)"
   ]
  },
  {
   "cell_type": "code",
   "execution_count": null,
   "metadata": {},
   "outputs": [],
   "source": [
    "final_tt = final_t.iloc[:,[0,16]]\n",
    "final_pce_tt = final_pce_t.loc[: ,['index', 'risk']]\n",
    "comp_df = pd.merge(final_tt, final_pce_tt, how = 'left', on = 'index')\n",
    "\n",
    "ggplot(comp_df) + aes(x = 'risk', y = 'value') + geom_point(alpha = .25, color = 'green') + theme_bw() + xlab('PCE Risk') + ylab('DDH Risk') #+ xlim(0,1) + ylim(0,1) #+ geom_smooth(method='lm') "
   ]
  },
  {
   "cell_type": "code",
   "execution_count": null,
   "metadata": {},
   "outputs": [],
   "source": [
    "gender_auc = pd.DataFrame({'gender':['F', 'F', 'M', 'M'],\n",
    "                         'method': ['DDH', 'PCE', 'DDH', 'PCE'],\n",
    "                         'auc': [0.763, 0.764, 0.735, 0.693]})\n",
    "\n",
    "ggplot(gender_auc) + aes(x = 'gender', y = 'auc', fill = 'method') + geom_col(position = 'dodge') + ylim (0,1) + geom_text(aes(label='auc'), va = 'bottom', position=position_dodge(width=0.9)) + theme_bw()"
   ]
  },
  {
   "cell_type": "markdown",
   "metadata": {},
   "source": [
    "### Age Comparisons\n",
    "1. 45-65\n",
    "2. 65-85"
   ]
  },
  {
   "cell_type": "code",
   "execution_count": null,
   "metadata": {},
   "outputs": [],
   "source": [
    "# Create Age Groups\n",
    "final['age_group'] = '44-64'\n",
    "final.loc[final['age'] > 65, 'age_group'] = '65-85'\n",
    "final_pce['age_group'] = '44-64'\n",
    "final_pce.loc[final_pce['age'] > 65, 'age_group'] = '65-85'"
   ]
  },
  {
   "cell_type": "code",
   "execution_count": null,
   "metadata": {},
   "outputs": [],
   "source": [
    "# young comparison\n",
    "### Dynamic DeepHit\n",
    "final_t = final.loc[final['age_group'] == '44-64', :]\n",
    "print('DDH AUC: ', round(roc_auc_score(final_t['true_label'].tolist(), final_t['value'].tolist()),3))\n",
    "### PCE\n",
    "final_pce_t = final_pce.loc[final_pce['age_group'] == '44-64', :]\n",
    "final_pce_t = final_pce_t.dropna()\n",
    "print('PCE AUC: ', round(roc_auc_score(final_pce_t['true_label'].tolist(), final_pce_t['risk'].tolist()),3))"
   ]
  },
  {
   "cell_type": "code",
   "execution_count": null,
   "metadata": {},
   "outputs": [],
   "source": [
    "pred_values_ddh_young = final_t.loc[:, ['true_label', 'value']]\n",
    "pred_values_pce_young = final_pce_t.loc[:, ['true_label', 'risk']]\n",
    "\n",
    "pred_values_ddh_young.to_csv('pred_values_ddh_young.csv', index = False)\n",
    "pred_values_pce_young.to_csv('pred_values_pce_young.csv', index = False)"
   ]
  },
  {
   "cell_type": "code",
   "execution_count": null,
   "metadata": {},
   "outputs": [],
   "source": [
    "final_tt = final_t.iloc[:,[0,16]]\n",
    "final_pce_tt = final_pce_t.loc[: ,['index', 'risk']]\n",
    "comp_df = pd.merge(final_tt, final_pce_tt, how = 'left', on = 'index')\n",
    "\n",
    "ggplot(comp_df) + aes(x = 'risk', y = 'value') + geom_point(alpha = .25, color = 'green') + theme_bw() + xlab('PCE Risk') + ylab('DDH Risk') #+ xlim(0,1) + ylim(0,1) #+ geom_smooth(method='lm') "
   ]
  },
  {
   "cell_type": "code",
   "execution_count": null,
   "metadata": {},
   "outputs": [],
   "source": [
    "# old comparison\n",
    "final_t = final.loc[final['age_group'] == '65-85', :]\n",
    "print('DDH AUC: ', round(roc_auc_score(final_t['true_label'].tolist(), final_t['value'].tolist()),3))\n",
    "### PCE\n",
    "final_pce_t = final_pce.loc[final_pce['age_group'] == '65-85', :]\n",
    "final_pce_t = final_pce_t.dropna()\n",
    "print('PCE AUC: ', round(roc_auc_score(final_pce_t['true_label'].tolist(), final_pce_t['risk'].tolist()),3))"
   ]
  },
  {
   "cell_type": "code",
   "execution_count": null,
   "metadata": {},
   "outputs": [],
   "source": [
    "pred_values_ddh_old = final_t.loc[:, ['true_label', 'value']]\n",
    "pred_values_pce_old = final_pce_t.loc[:, ['true_label', 'risk']]\n",
    "\n",
    "pred_values_ddh_old.to_csv('pred_values_ddh_old.csv', index = False)\n",
    "pred_values_pce_old.to_csv('pred_values_pce_old.csv', index = False)"
   ]
  },
  {
   "cell_type": "code",
   "execution_count": null,
   "metadata": {},
   "outputs": [],
   "source": [
    "final_tt = final_t.iloc[:,[0,16]]\n",
    "final_pce_tt = final_pce_t.loc[: ,['index', 'risk']]\n",
    "comp_df = pd.merge(final_tt, final_pce_tt, how = 'left', on = 'index')\n",
    "\n",
    "ggplot(comp_df) + aes(x = 'risk', y = 'value') + geom_point(alpha = .25, color = 'green') + theme_bw() + xlab('PCE Risk') + ylab('DDH Risk') #+ xlim(0,1) + ylim(0,1) #+ geom_smooth(method='lm') "
   ]
  },
  {
   "cell_type": "code",
   "execution_count": null,
   "metadata": {},
   "outputs": [],
   "source": [
    "age_auc = pd.DataFrame({'age':['44-64', '44-64', '65-85', '65-85'],\n",
    "                         'method': ['DDH', 'PCE', 'DDH', 'PCE'],\n",
    "                         'auc': [0.752, 0.624, 0.710, 0.654]})\n",
    "\n",
    "ggplot(age_auc) + aes(x = 'age', y = 'auc', fill = 'method') + geom_col(position = 'dodge') + ylim (0,1) + geom_text(aes(label='auc'), va = 'bottom', position=position_dodge(width=0.9)) + theme_bw()"
   ]
  },
  {
   "cell_type": "markdown",
   "metadata": {},
   "source": [
    "### Risk Group Comparisons\n",
    "1. Above 7.5% Group"
   ]
  },
  {
   "cell_type": "code",
   "execution_count": null,
   "metadata": {},
   "outputs": [],
   "source": [
    "# Label Risk Group\n",
    "final_pce['primary_risk'] = 0\n",
    "final_pce.loc[final_pce['risk']>=0.075, 'primary_risk'] = 1\n",
    "final['primary_risk'] = 0\n",
    "final.loc[final_pce['primary_risk'] == 1, 'primary_risk'] = 1"
   ]
  },
  {
   "cell_type": "code",
   "execution_count": null,
   "metadata": {},
   "outputs": [],
   "source": [
    "# high comparison\n",
    "### Dynamic DeepHit\n",
    "final_t = final.loc[final['primary_risk'] == 1, :]\n",
    "print('DDH AUC: ', round(roc_auc_score(final_t['true_label'].tolist(), final_t['value'].tolist()),3))\n",
    "### PCE\n",
    "final_pce_t = final_pce.loc[final_pce['primary_risk'] == 1, :]\n",
    "final_pce_t = final_pce_t.dropna()\n",
    "print('PCE AUC: ', round(roc_auc_score(final_pce_t['true_label'].tolist(), final_pce_t['risk'].tolist()),3))"
   ]
  },
  {
   "cell_type": "code",
   "execution_count": null,
   "metadata": {},
   "outputs": [],
   "source": [
    "final_tt = final_t.iloc[:,[0,16]]\n",
    "final_pce_tt = final_pce_t.loc[: ,['index', 'risk']]\n",
    "comp_df = pd.merge(final_tt, final_pce_tt, how = 'left', on = 'index')\n",
    "\n",
    "ggplot(comp_df) + aes(x = 'risk', y = 'value') + geom_point(alpha = .25, color = 'green') + theme_bw() + xlab('PCE Risk') + ylab('DDH Risk') #+ xlim(0,1) + ylim(0,1) #+ geom_smooth(method='lm') "
   ]
  },
  {
   "cell_type": "code",
   "execution_count": null,
   "metadata": {},
   "outputs": [],
   "source": [
    "# low comparison\n",
    "final_t = final.loc[final['primary_risk'] == 0, :]\n",
    "print('DDH AUC: ', round(roc_auc_score(final_t['true_label'].tolist(), final_t['value'].tolist()),3))\n",
    "### PCE\n",
    "final_pce_t = final_pce.loc[final_pce['primary_risk'] == 0, :]\n",
    "final_pce_t = final_pce_t.dropna()\n",
    "print('PCE AUC: ', round(roc_auc_score(final_pce_t['true_label'].tolist(), final_pce_t['risk'].tolist()),3))"
   ]
  },
  {
   "cell_type": "code",
   "execution_count": null,
   "metadata": {},
   "outputs": [],
   "source": [
    "final_tt = final_t.iloc[:,[0,16]]\n",
    "final_pce_tt = final_pce_t.loc[: ,['index', 'risk']]\n",
    "comp_df = pd.merge(final_tt, final_pce_tt, how = 'left', on = 'index')\n",
    "\n",
    "ggplot(comp_df) + aes(x = 'risk', y = 'value') + geom_point(alpha = .25, color = 'green') + theme_bw() + xlab('PCE Risk') + ylab('DDH Risk') #+ xlim(0,1) + ylim(0,1) #+ geom_smooth(method='lm') "
   ]
  },
  {
   "cell_type": "markdown",
   "metadata": {},
   "source": [
    "### Visualization"
   ]
  },
  {
   "cell_type": "code",
   "execution_count": null,
   "metadata": {},
   "outputs": [],
   "source": [
    "from visualization import get_data, viz_dataset, dup_list, create_outcome_df, create_pce_df, create_outcome_final_df, viz_plot"
   ]
  },
  {
   "cell_type": "code",
   "execution_count": null,
   "metadata": {},
   "outputs": [],
   "source": [
    "patient_id = 273\n",
    "death_pred , ascvd_pred, pce_data = get_data(patient_id, risk_all, te_data_raw)\n",
    "pce_data = create_pce_df(pce_data)\n",
    "outcome_df = create_outcome_final_df(ascvd_pred, death_pred, pred_time, eval_time)"
   ]
  },
  {
   "cell_type": "code",
   "execution_count": null,
   "metadata": {},
   "outputs": [],
   "source": [
    "viz_plot(outcome_df, pce_data, te_label[patient_id][0], te_time[patient_id][0], pred_time)"
   ]
  }
 ],
 "metadata": {
  "kernelspec": {
   "display_name": "Python 3",
   "language": "python",
   "name": "python3"
  },
  "language_info": {
   "codemirror_mode": {
    "name": "ipython",
    "version": 3
   },
   "file_extension": ".py",
   "mimetype": "text/x-python",
   "name": "python",
   "nbconvert_exporter": "python",
   "pygments_lexer": "ipython3",
   "version": "3.7.6"
  }
 },
 "nbformat": 4,
 "nbformat_minor": 4
}
