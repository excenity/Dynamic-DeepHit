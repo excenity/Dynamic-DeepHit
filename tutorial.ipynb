{
 "cells": [
  {
   "cell_type": "markdown",
   "metadata": {
    "id": "wsLq8iXIk5s-"
   },
   "source": [
    "# Dynamic-DeepHit Tutorial\n",
    "\n",
    "### Version: 2/13/23"
   ]
  },
  {
   "cell_type": "code",
   "execution_count": 3,
   "metadata": {
    "colab": {
     "base_uri": "https://localhost:8080/",
     "height": 496
    },
    "executionInfo": {
     "elapsed": 4619,
     "status": "error",
     "timestamp": 1676321064210,
     "user": {
      "displayName": "Kevin Yu",
      "userId": "12965521010022133262"
     },
     "user_tz": 360
    },
    "id": "Z88bYYDhk5tA",
    "outputId": "f76238b1-0750-4548-e877-6fa83bd5694d"
   },
   "outputs": [],
   "source": [
    "_EPSILON = 1e-08\n",
    "\n",
    "import numpy as np\n",
    "import pandas as pd\n",
    "import tensorflow as tf\n",
    "import random\n",
    "import os\n",
    "import warnings\n",
    "\n",
    "from sklearn.model_selection import train_test_split\n",
    "from sklearn.metrics import roc_auc_score, roc_curve\n",
    "\n",
    "import matplotlib.pyplot as plt\n",
    "\n",
    "import import_data as impt\n",
    "#import AUC_calculator\n",
    "\n",
    "from class_DeepLongitudinal import Model_Longitudinal_Attention\n",
    "\n",
    "from utils_eval             import c_index, brier_score\n",
    "from utils_log              import save_logging, load_logging\n",
    "from utils_helper           import f_get_minibatch, f_get_boosted_trainset\n",
    "\n",
    "warnings.filterwarnings('ignore')\n",
    "\n",
    "import importlib\n",
    "\n",
    "#importlib.reload(impt)"
   ]
  },
  {
   "cell_type": "code",
   "execution_count": 4,
   "metadata": {
    "executionInfo": {
     "elapsed": 9,
     "status": "aborted",
     "timestamp": 1676320922355,
     "user": {
      "displayName": "Kevin Yu",
      "userId": "12965521010022133262"
     },
     "user_tz": 360
    },
    "id": "dTltebB6k5tB"
   },
   "outputs": [],
   "source": [
    "def _f_get_pred(sess, model, data, data_mi, pred_horizon):\n",
    "    '''\n",
    "        predictions based on the prediction time.\n",
    "        create new_data and new_mask2 that are available previous or equal to the prediction time (no future measurements are used)\n",
    "    '''\n",
    "    new_data    = np.zeros(np.shape(data))\n",
    "    new_data_mi = np.zeros(np.shape(data_mi))\n",
    "\n",
    "    meas_time = np.concatenate([np.zeros([np.shape(data)[0], 1]), np.cumsum(data[:, :, 0], axis=1)[:, :-1]], axis=1)\n",
    "\n",
    "    for i in range(np.shape(data)[0]):\n",
    "        last_meas = np.sum(meas_time[i, :] <= pred_horizon)\n",
    "\n",
    "        new_data[i, :last_meas, :]    = data[i, :last_meas, :]\n",
    "        new_data_mi[i, :last_meas, :] = data_mi[i, :last_meas, :]\n",
    "\n",
    "    return model.predict(new_data, new_data_mi)\n",
    "\n",
    "\n",
    "def f_get_risk_predictions(sess, model, data_, data_mi_, pred_time, eval_time):\n",
    "    \n",
    "    pred = _f_get_pred(sess, model, data_[[0]], data_mi_[[0]], 0)\n",
    "    _, num_Event, num_Category = np.shape(pred)\n",
    "       \n",
    "    risk_all = {}\n",
    "    for k in range(num_Event):\n",
    "        risk_all[k] = np.zeros([np.shape(data_)[0], len(pred_time), len(eval_time)])\n",
    "            \n",
    "    for p, p_time in enumerate(pred_time):\n",
    "        ### PREDICTION\n",
    "        pred_horizon = int(p_time)\n",
    "        pred = _f_get_pred(sess, model, data_, data_mi_, pred_horizon)\n",
    "\n",
    "\n",
    "        for t, t_time in enumerate(eval_time):\n",
    "            eval_horizon = int(t_time) + pred_horizon #if eval_horizon >= num_Category, output the maximum...\n",
    "\n",
    "            # calculate F(t | x, Y, t >= t_M) = \\sum_{t_M <= \\tau < t} P(\\tau | x, Y, \\tau > t_M)\n",
    "            risk = np.sum(pred[:,:,pred_horizon:(eval_horizon+1)], axis=2) #risk score until eval_time\n",
    "            risk = risk / (np.sum(np.sum(pred[:,:,pred_horizon:], axis=2), axis=1, keepdims=True) +_EPSILON) #conditioniong on t > t_pred\n",
    "            \n",
    "            for k in range(num_Event):\n",
    "                risk_all[k][:, p, t] = risk[:, k]\n",
    "                \n",
    "    return risk_all"
   ]
  },
  {
   "cell_type": "markdown",
   "metadata": {
    "id": "QCuApfBOk5tC"
   },
   "source": [
    "### 1. Import Dataset\n",
    "#####      - Users must prepare dataset in csv format and modify 'import_data.py' following our examplar 'PBC2'"
   ]
  },
  {
   "cell_type": "code",
   "execution_count": 5,
   "metadata": {
    "executionInfo": {
     "elapsed": 10,
     "status": "aborted",
     "timestamp": 1676320922356,
     "user": {
      "displayName": "Kevin Yu",
      "userId": "12965521010022133262"
     },
     "user_tz": 360
    },
    "id": "d1__3nF9k5tD"
   },
   "outputs": [],
   "source": [
    "data_mode                   = 'PBC2' \n",
    "seed                        = 1234\n",
    "\n",
    "##### IMPORT DATASET\n",
    "'''\n",
    "    num_Category            = max event/censoring time * 1.2\n",
    "    num_Event               = number of evetns i.e. len(np.unique(label))-1\n",
    "    max_length              = maximum number of measurements\n",
    "    x_dim                   = data dimension including delta (1 + num_features)\n",
    "    x_dim_cont              = dim of continuous features\n",
    "    x_dim_bin               = dim of binary features\n",
    "    mask1, mask2, mask3     = used for cause-specific network (FCNet structure)\n",
    "'''\n",
    "\n",
    "if data_mode == 'PBC2':\n",
    "    (x_dim, x_dim_cont, x_dim_bin), (data, time, label), (mask1, mask2, mask3), (data_mi), df_raw = impt.import_dataset(norm_mode = 'standard')\n",
    "    \n",
    "    \n",
    "    # This must be changed depending on the datasets, prediction/evaliation times of interest\n",
    "    pred_time = [8] # prediction time (in years)\n",
    "    eval_time = [10] # years evaluation time (for C-index and Brier-Score)\n",
    "else:\n",
    "    print ('ERROR:  DATA_MODE NOT FOUND !!!')\n",
    "\n",
    "_, num_Event, num_Category  = np.shape(mask1)  # dim of mask3: [subj, Num_Event, Num_Category]\n",
    "max_length                  = np.shape(data)[1]\n",
    "\n",
    "\n",
    "file_path = '{}'.format(data_mode)\n",
    "\n",
    "if not os.path.exists(file_path):\n",
    "    os.makedirs(file_path)"
   ]
  },
  {
   "cell_type": "markdown",
   "metadata": {
    "id": "L-xKLHkwk5tD"
   },
   "source": [
    "### 2. Set Hyper-Parameters\n",
    "##### - Play with your own hyper-parameters!"
   ]
  },
  {
   "cell_type": "code",
   "execution_count": 6,
   "metadata": {
    "executionInfo": {
     "elapsed": 10,
     "status": "aborted",
     "timestamp": 1676320922356,
     "user": {
      "displayName": "Kevin Yu",
      "userId": "12965521010022133262"
     },
     "user_tz": 360
    },
    "id": "6_GR0aoOk5tE"
   },
   "outputs": [
    {
     "name": "stdout",
     "output_type": "stream",
     "text": [
      "WARNING:tensorflow:\n",
      "The TensorFlow contrib module will not be included in TensorFlow 2.0.\n",
      "For more information, please see:\n",
      "  * https://github.com/tensorflow/community/blob/master/rfcs/20180907-contrib-sunset.md\n",
      "  * https://github.com/tensorflow/addons\n",
      "  * https://github.com/tensorflow/io (for I/O related ops)\n",
      "If you depend on functionality not listed there, please file an issue.\n",
      "\n"
     ]
    }
   ],
   "source": [
    "burn_in_mode                = 'OFF' #{'ON', 'OFF'}\n",
    "boost_mode                  = 'OFF' #{'ON', 'OFF'}\n",
    "\n",
    "##### HYPER-PARAMETERS\n",
    "new_parser = {'mb_size': 128,\n",
    "\n",
    "             'iteration_burn_in': 3000,\n",
    "             'iteration': 10000,\n",
    "\n",
    "             'keep_prob': 1,\n",
    "             'lr_train': 5e-3,\n",
    "\n",
    "             'h_dim_RNN': 50,\n",
    "             'h_dim_FC' : 100,\n",
    "             'num_layers_RNN':5,\n",
    "             'num_layers_ATT':2,\n",
    "             'num_layers_CS' :4,\n",
    "\n",
    "             'RNN_type':'LSTM', #{'LSTM', 'GRU'}\n",
    "\n",
    "             'FC_active_fn' : tf.nn.relu,\n",
    "             'RNN_active_fn': tf.nn.tanh,\n",
    "\n",
    "            'reg_W'         : 1e-05,\n",
    "            'reg_W_out'     : 1e-05,\n",
    "\n",
    "             'alpha' :2.0,\n",
    "             'beta'  :0.0,\n",
    "             'gamma' :1.0\n",
    "}\n",
    "\n",
    "\n",
    "# INPUT DIMENSIONS\n",
    "input_dims                  = { 'x_dim'         : x_dim,\n",
    "                                'x_dim_cont'    : x_dim_cont,\n",
    "                                'x_dim_bin'     : x_dim_bin,\n",
    "                                'num_Event'     : num_Event,\n",
    "                                'num_Category'  : num_Category,\n",
    "                                'max_length'    : max_length }\n",
    "\n",
    "# NETWORK HYPER-PARMETERS\n",
    "network_settings            = { 'h_dim_RNN'         : new_parser['h_dim_RNN'],\n",
    "                                'h_dim_FC'          : new_parser['h_dim_FC'],\n",
    "                                'num_layers_RNN'    : new_parser['num_layers_RNN'],\n",
    "                                'num_layers_ATT'    : new_parser['num_layers_ATT'],\n",
    "                                'num_layers_CS'     : new_parser['num_layers_CS'],\n",
    "                                'RNN_type'          : new_parser['RNN_type'],\n",
    "                                'FC_active_fn'      : new_parser['FC_active_fn'],\n",
    "                                'RNN_active_fn'     : new_parser['RNN_active_fn'],\n",
    "                                'initial_W'         : tf.contrib.layers.xavier_initializer(),\n",
    "\n",
    "                                'reg_W'             : new_parser['reg_W'],\n",
    "                                'reg_W_out'         : new_parser['reg_W_out']\n",
    "                                 }\n",
    "\n",
    "\n",
    "mb_size           = new_parser['mb_size']\n",
    "iteration         = new_parser['iteration']\n",
    "iteration_burn_in = new_parser['iteration_burn_in']\n",
    "\n",
    "keep_prob         = new_parser['keep_prob']\n",
    "lr_train          = new_parser['lr_train']\n",
    "\n",
    "alpha             = new_parser['alpha']\n",
    "beta              = new_parser['beta']\n",
    "gamma             = new_parser['gamma']\n",
    "\n",
    "# SAVE HYPERPARAMETERS\n",
    "log_name = file_path + '/hyperparameters_log.txt'\n",
    "save_logging(new_parser, log_name)"
   ]
  },
  {
   "cell_type": "markdown",
   "metadata": {
    "id": "KJv6R2tNk5tF"
   },
   "source": [
    "### 3. Split Dataset into Train/Valid/Test Sets"
   ]
  },
  {
   "cell_type": "code",
   "execution_count": 21,
   "metadata": {
    "executionInfo": {
     "elapsed": 10,
     "status": "aborted",
     "timestamp": 1676320922356,
     "user": {
      "displayName": "Kevin Yu",
      "userId": "12965521010022133262"
     },
     "user_tz": 360
    },
    "id": "Ervy1lB8k5tF"
   },
   "outputs": [],
   "source": [
    "indecies_mesa = pd.read_csv(\"R:/PrevMed/Projects/MESA_RiskPred/LRPP data/random_index_select.csv\")\n",
    "indecies_mesa = np.array(indecies_mesa['study_index'])\n",
    "\n",
    "df_index = list(range(len(data)))\n",
    "\n",
    "def train_test_split_index(df, indecies):\n",
    "    tr_data = df[indecies == False]\n",
    "    te_data = df[indecies]\n",
    "    \n",
    "    return tr_data, te_data\n",
    "\n",
    "### List Split Option`\n",
    "split_option = 'MESA'\n",
    "\n",
    "if split_option == 'MESA':\n",
    "\n",
    "    ### Select MESA as Testing set \n",
    "    tr_data, te_data = train_test_split_index(data, indecies_mesa)\n",
    "    tr_data_raw, te_data_raw = train_test_split_index(df_raw, indecies_mesa)\n",
    "    tr_df_index, te_df_index = train_test_split_index(np.array(df_index), indecies_mesa)\n",
    "    tr_data_mi, te_data_mi = train_test_split_index(data_mi, indecies_mesa)\n",
    "    tr_time, te_time = train_test_split_index(time, indecies_mesa)\n",
    "    tr_label, te_label = train_test_split_index(label, indecies_mesa)\n",
    "    tr_mask1, te_mask1 = train_test_split_index(mask1, indecies_mesa)\n",
    "    tr_mask2, te_mask2 = train_test_split_index(mask2, indecies_mesa)\n",
    "    tr_mask3, te_mask3 = train_test_split_index(mask3, indecies_mesa) \n",
    "else:\n",
    "    ### TRAINING-TESTING SPLIT\n",
    "    (tr_data, te_data, tr_data_raw, te_data_raw, tr_df_index, te_df_index, tr_data_mi, te_data_mi, tr_time, te_time, tr_label, te_label, \n",
    "    tr_mask1,te_mask1, tr_mask2,te_mask2, tr_mask3,te_mask3) = train_test_split(data, df_raw, df_index, data_mi, time, label, mask1, mask2, mask3, test_size=0.2, random_state=seed, stratify = label) \n",
    "\n",
    "(tr_data, va_data, tr_data_mi, va_data_mi, tr_time, va_time, tr_label, va_label, \n",
    " tr_mask1,va_mask1, tr_mask2,va_mask2, tr_mask3,va_mask3) = train_test_split(tr_data, tr_data_mi, tr_time, tr_label, tr_mask1, tr_mask2, tr_mask3, test_size= 0.25, random_state=seed, stratify = tr_label) \n",
    "\n",
    "if boost_mode == 'ON':\n",
    "    tr_data, tr_data_mi, tr_time, tr_label, tr_mask1, tr_mask2, tr_mask3 = f_get_boosted_trainset(tr_data, tr_data_mi, tr_time, tr_label, tr_mask1, tr_mask2, tr_mask3)"
   ]
  },
  {
   "cell_type": "code",
   "execution_count": 24,
   "metadata": {
    "executionInfo": {
     "elapsed": 10,
     "status": "aborted",
     "timestamp": 1676320922356,
     "user": {
      "displayName": "Kevin Yu",
      "userId": "12965521010022133262"
     },
     "user_tz": 360
    },
    "id": "hEHjDe_6_H0q"
   },
   "outputs": [],
   "source": [
    "# get validation AUCs\n",
    "validation_data = False\n",
    "if validation_data == True:\n",
    "  te_data = va_data\n",
    "  te_time = va_time\n",
    "  te_label = va_label\n",
    "  te_mask1 = va_mask1\n",
    "  te_mask2 = va_mask2\n",
    "  te_mask3 = va_mask3\n",
    "\n",
    "training_data = False\n",
    "if training_data == True:\n",
    "  te_data = tr_data\n",
    "  te_time = tr_time\n",
    "  te_label = tr_label\n",
    "  te_mask1 = tr_mask1\n",
    "  te_mask2 = tr_mask2\n",
    "  te_mask3 = tr_mask3"
   ]
  },
  {
   "cell_type": "code",
   "execution_count": 25,
   "metadata": {
    "executionInfo": {
     "elapsed": 10,
     "status": "aborted",
     "timestamp": 1676320922357,
     "user": {
      "displayName": "Kevin Yu",
      "userId": "12965521010022133262"
     },
     "user_tz": 360
    },
    "id": "vc8_0zkFk5tG"
   },
   "outputs": [],
   "source": [
    "##### CREATE DYNAMIC-DEEPHIT NETWORK\n",
    "tf.reset_default_graph()\n",
    "\n",
    "config = tf.ConfigProto()\n",
    "config.gpu_options.allow_growth = True\n",
    "sess = tf.Session(config=config)\n",
    "\n",
    "model = Model_Longitudinal_Attention(sess, \"Dyanmic-DeepHit\", input_dims, network_settings)\n",
    "saver = tf.train.Saver()\n",
    "\n",
    "sess.run(tf.global_variables_initializer())"
   ]
  },
  {
   "cell_type": "code",
   "execution_count": 26,
   "metadata": {
    "executionInfo": {
     "elapsed": 10,
     "status": "aborted",
     "timestamp": 1676320922357,
     "user": {
      "displayName": "Kevin Yu",
      "userId": "12965521010022133262"
     },
     "user_tz": 360
    },
    "id": "kfrt_HfIk5tG"
   },
   "outputs": [
    {
     "name": "stdout",
     "output_type": "stream",
     "text": [
      "MAIN TRAINING ...\n",
      "itr: 1000 | loss: 2.1778\n",
      "updated.... average c-index = 0.7843\n",
      "itr: 2000 | loss: 2.0026\n",
      "itr: 3000 | loss: 2.2256\n",
      "itr: 4000 | loss: 1.6498\n",
      "itr: 5000 | loss: 2.1964\n",
      "itr: 6000 | loss: 2.3584\n",
      "itr: 7000 | loss: 1.3334\n",
      "itr: 8000 | loss: 2.2046\n",
      "itr: 9000 | loss: 1.8216\n",
      "itr: 10000 | loss: 1.8749\n"
     ]
    }
   ],
   "source": [
    "### TRAINING - BURN-IN\n",
    "if burn_in_mode == 'ON':\n",
    "    print( \"BURN-IN TRAINING ...\")\n",
    "    for itr in range(iteration_burn_in):\n",
    "        x_mb, x_mi_mb, k_mb, t_mb, m1_mb, m2_mb, m3_mb = f_get_minibatch(mb_size, tr_data, tr_data_mi, tr_label, tr_time, tr_mask1, tr_mask2, tr_mask3)\n",
    "        DATA = (x_mb, k_mb, t_mb)\n",
    "        MISSING = (x_mi_mb)\n",
    "\n",
    "        _, loss_curr = model.train_burn_in(DATA, MISSING, keep_prob, lr_train)\n",
    "\n",
    "        if (itr+1)%1000 == 0:\n",
    "            print('itr: {:04d} | loss: {:.4f}'.format(itr+1, loss_curr))\n",
    "\n",
    "\n",
    "### TRAINING - MAIN\n",
    "print( \"MAIN TRAINING ...\")\n",
    "min_valid = 0.5\n",
    "\n",
    "for itr in range(iteration):\n",
    "    x_mb, x_mi_mb, k_mb, t_mb, m1_mb, m2_mb, m3_mb = f_get_minibatch(mb_size, tr_data, tr_data_mi, tr_label, tr_time, tr_mask1, tr_mask2, tr_mask3)\n",
    "    DATA = (x_mb, k_mb, t_mb)\n",
    "    MASK = (m1_mb, m2_mb, m3_mb)\n",
    "    MISSING = (x_mi_mb)\n",
    "    PARAMETERS = (alpha, beta, gamma)\n",
    "\n",
    "    _, loss_curr = model.train(DATA, MASK, MISSING, PARAMETERS, keep_prob, lr_train)\n",
    "\n",
    "    if (itr+1)%1000 == 0:\n",
    "        print('itr: {:04d} | loss: {:.4f}'.format(itr+1, loss_curr))\n",
    "\n",
    "    ### VALIDATION  (based on average C-index of our interest)\n",
    "    if (itr+1)%1000 == 0:        \n",
    "        risk_all = f_get_risk_predictions(sess, model, va_data, va_data_mi, pred_time, eval_time)\n",
    "        \n",
    "        for p, p_time in enumerate(pred_time):\n",
    "            pred_horizon = int(p_time)\n",
    "            val_result1 = np.zeros([num_Event, len(eval_time)])\n",
    "            \n",
    "            for t, t_time in enumerate(eval_time):                \n",
    "                eval_horizon = int(t_time) + pred_horizon\n",
    "                for k in range(num_Event):\n",
    "                    val_result1[k, t] = c_index(risk_all[k][:, p, t], va_time, (va_label[:,0] == k+1).astype(int), eval_horizon) #-1 for no event (not comparable)\n",
    "            \n",
    "            if p == 0:\n",
    "                val_final1 = val_result1\n",
    "            else:\n",
    "                val_final1 = np.append(val_final1, val_result1, axis=0)\n",
    "\n",
    "        tmp_valid = np.mean(val_final1)\n",
    "\n",
    "        if tmp_valid >  min_valid:\n",
    "            min_valid = tmp_valid\n",
    "            saver.save(sess, file_path + '/model')\n",
    "            print( 'updated.... average c-index = ' + str('%.4f' %(tmp_valid)))"
   ]
  },
  {
   "cell_type": "markdown",
   "metadata": {
    "id": "eGgWsP_Nk5tG"
   },
   "source": [
    "### 5. Test the Trained Network"
   ]
  },
  {
   "cell_type": "code",
   "execution_count": 30,
   "metadata": {
    "executionInfo": {
     "elapsed": 10,
     "status": "aborted",
     "timestamp": 1676320922357,
     "user": {
      "displayName": "Kevin Yu",
      "userId": "12965521010022133262"
     },
     "user_tz": 360
    },
    "id": "4_-l3W4VKV8m"
   },
   "outputs": [
    {
     "name": "stdout",
     "output_type": "stream",
     "text": [
      "INFO:tensorflow:Restoring parameters from PBC2/model\n",
      "========================================================\n",
      "--------------------------------------------------------\n",
      "- C-INDEX: \n",
      "                      eval_time 10\n",
      "pred_time 8: event_1      0.771317\n",
      "--------------------------------------------------------\n",
      "- BRIER-SCORE: \n",
      "                      eval_time 10\n",
      "pred_time 8: event_1      0.030785\n",
      "========================================================\n"
     ]
    }
   ],
   "source": [
    "saver.restore(sess, file_path + '/model')\n",
    "#saver.restore(sess, '/content/drive/My Drive/Longitudinal Risk Prediction/Dynamic-DeepHit LRPP/PBC2/model')\n",
    "\n",
    "risk_all = f_get_risk_predictions(sess, model, te_data, te_data_mi, pred_time, eval_time)\n",
    "\n",
    "for p, p_time in enumerate(pred_time):\n",
    "    pred_horizon = int(p_time)\n",
    "    result1, result2 = np.zeros([num_Event, len(eval_time)]), np.zeros([num_Event, len(eval_time)])\n",
    "\n",
    "    for t, t_time in enumerate(eval_time):                \n",
    "        eval_horizon = int(t_time) + pred_horizon\n",
    "        for k in range(num_Event):\n",
    "            result1[k, t] = c_index(risk_all[k][:, p, t], te_time, (te_label[:,0] == k+1).astype(int), eval_horizon) #-1 for no event (not comparable)\n",
    "            result2[k, t] = brier_score(risk_all[k][:, p, t], te_time, (te_label[:,0] == k+1).astype(int), eval_horizon) #-1 for no event (not comparable)\n",
    "   \n",
    "    if p == 0:\n",
    "        final1, final2 = result1, result2\n",
    "    else:\n",
    "        final1, final2 = np.append(final1, result1, axis=0), np.append(final2, result2, axis=0)\n",
    "        \n",
    "        \n",
    "row_header = []\n",
    "for p_time in pred_time:\n",
    "    for k in range(num_Event):\n",
    "        row_header.append('pred_time {}: event_{}'.format(p_time,k+1))\n",
    "            \n",
    "col_header = []\n",
    "for t_time in eval_time:\n",
    "    col_header.append('eval_time {}'.format(t_time))\n",
    "\n",
    "# c-index result\n",
    "df1 = pd.DataFrame(final1, index = row_header, columns=col_header)\n",
    "\n",
    "# brier-score result\n",
    "df2 = pd.DataFrame(final2, index = row_header, columns=col_header)\n",
    "\n",
    "### PRINT RESULTS\n",
    "print('========================================================')\n",
    "print('--------------------------------------------------------')\n",
    "print('- C-INDEX: ')\n",
    "print(df1)\n",
    "print('--------------------------------------------------------')\n",
    "print('- BRIER-SCORE: ')\n",
    "print(df2)\n",
    "print('========================================================')"
   ]
  },
  {
   "cell_type": "markdown",
   "metadata": {
    "id": "f9heeT87k5tH"
   },
   "source": [
    "### AUC Calculation"
   ]
  },
  {
   "cell_type": "code",
   "execution_count": 31,
   "metadata": {
    "executionInfo": {
     "elapsed": 10,
     "status": "aborted",
     "timestamp": 1676320922357,
     "user": {
      "displayName": "Kevin Yu",
      "userId": "12965521010022133262"
     },
     "user_tz": 360
    },
    "id": "HqOwFmcsk5tH"
   },
   "outputs": [],
   "source": [
    "def prediction_df(risk_all, event):\n",
    "    \"\"\"\n",
    "    Gets the individual predictions from risk_all\n",
    "    event = 1\n",
    "    \"\"\"\n",
    "    risk_list = risk_all[event-1].tolist()\n",
    "\n",
    "    risk_list = [risk for risk_sublist in risk_list for risk in risk_sublist]\n",
    "    risk_list = [risk for risk_sublist in risk_list for risk in risk_sublist]\n",
    "\n",
    "    return risk_list\n",
    "\n",
    "def prediction_pred_values(pred_t, eval_t , event_n, risk):\n",
    "    \"\"\"Gets the predication values and true labels for AUC CI calculation\"\"\"\n",
    "    \n",
    "    global true_list\n",
    "    \n",
    "    time_horizon = pred_t + eval_t \n",
    "    true = (te_time <= time_horizon) * (te_label == event_n).astype(int).tolist()\n",
    "    \n",
    "    true_list = [true_i for true_sublist in true for true_i in true_sublist]\n",
    "    true_list = [true_i for true_sublist in true for true_i in true_sublist]\n",
    "\n",
    "    pred_df = pd.DataFrame({'ddh_risk' : risk, \n",
    "                            'true_labels' : true_list})\n",
    "    \n",
    "    return pred_df\n",
    "\n",
    "def prediction_ROC(pred_t, eval_t , event_n, df):\n",
    "    \"\"\"Calculates the AUC at each prediction time and prediction time\"\"\"\n",
    "    \n",
    "    global true \n",
    "    \n",
    "    time_horizon = pred_t + eval_t \n",
    "    true = (te_time <= 15) * (te_label == 1).astype(int)\n",
    "\n",
    "    fpr, tpr, thresh = roc_curve(true.tolist(), df.loc[(df.pred_time == pred_t) & (df.eval_time == eval_t), 'value'].tolist())\n",
    "            \n",
    "    return fpr, tpr, thresh"
   ]
  },
  {
   "cell_type": "code",
   "execution_count": 32,
   "metadata": {
    "executionInfo": {
     "elapsed": 11,
     "status": "aborted",
     "timestamp": 1676320922358,
     "user": {
      "displayName": "Kevin Yu",
      "userId": "12965521010022133262"
     },
     "user_tz": 360
    },
    "id": "AX3fiRKek5tH"
   },
   "outputs": [
    {
     "data": {
      "text/plain": [
       "0.77"
      ]
     },
     "execution_count": 32,
     "metadata": {},
     "output_type": "execute_result"
    }
   ],
   "source": [
    "# Get individual risks for AUC calculation (DDH)\n",
    "risk_df = prediction_df(risk_all, 1)\n",
    "pred_df = prediction_pred_values(8, 10, 1, risk_df)\n",
    "round(roc_auc_score(pred_df['true_labels'], pred_df['ddh_risk']), 3)"
   ]
  },
  {
   "cell_type": "code",
   "execution_count": null,
   "metadata": {
    "executionInfo": {
     "elapsed": 11,
     "status": "aborted",
     "timestamp": 1676320922358,
     "user": {
      "displayName": "Kevin Yu",
      "userId": "12965521010022133262"
     },
     "user_tz": 360
    },
    "id": "iNJHPdiorrxA"
   },
   "outputs": [],
   "source": [
    "pred_df.to_csv('/content/drive/My Drive/Longitudinal Risk Prediction/Dynamic-DeepHit LRPP/pred_df_gender.csv', index = False)"
   ]
  },
  {
   "cell_type": "code",
   "execution_count": null,
   "metadata": {
    "executionInfo": {
     "elapsed": 46877,
     "status": "aborted",
     "timestamp": 1676320922358,
     "user": {
      "displayName": "Kevin Yu",
      "userId": "12965521010022133262"
     },
     "user_tz": 360
    },
    "id": "U3z82Fgpn4eN"
   },
   "outputs": [],
   "source": [
    " pred_df.ddh_risk.hist()"
   ]
  },
  {
   "cell_type": "code",
   "execution_count": null,
   "metadata": {
    "executionInfo": {
     "elapsed": 46876,
     "status": "aborted",
     "timestamp": 1676320922358,
     "user": {
      "displayName": "Kevin Yu",
      "userId": "12965521010022133262"
     },
     "user_tz": 360
    },
    "id": "f5NquyALk5tI"
   },
   "outputs": [],
   "source": [
    "# output risk \n",
    "#pred_df.to_csv('/content/drive/My Drive/Longitudinal Risk Prediction/Dynamic-DeepHit LRPP/DDH_pred_df_current.csv', index = False)"
   ]
  }
 ],
 "metadata": {
  "accelerator": "GPU",
  "colab": {
   "provenance": []
  },
  "kernelspec": {
   "display_name": "Python 3",
   "language": "python",
   "name": "python3"
  },
  "language_info": {
   "codemirror_mode": {
    "name": "ipython",
    "version": 3
   },
   "file_extension": ".py",
   "mimetype": "text/x-python",
   "name": "python",
   "nbconvert_exporter": "python",
   "pygments_lexer": "ipython3",
   "version": "3.6.13"
  }
 },
 "nbformat": 4,
 "nbformat_minor": 4
}
